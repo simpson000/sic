{
 "cells": [
  {
   "cell_type": "markdown",
   "metadata": {},
   "source": [
    "# **2주차 Percentron 기초**"
   ]
  },
  {
   "cell_type": "code",
   "execution_count": 8,
   "metadata": {},
   "outputs": [],
   "source": [
    "import numpy as np\n",
    "import pandas as pd\n",
    "import matplotlib \n"
   ]
  },
  {
   "cell_type": "code",
   "execution_count": 11,
   "metadata": {},
   "outputs": [
    {
     "name": "stdout",
     "output_type": "stream",
     "text": [
      "[0 0] : 0\n",
      "[0 1] : 0\n",
      "[1 0] : 0\n",
      "[1 1] : 1\n"
     ]
    }
   ],
   "source": [
    "def AND(x):\n",
    "    w =np.array([.5,.5])\n",
    "    theta= 0.7\n",
    "    sigma= np.dot(x,w)      # 같은 위치에 있는 것을 곱하고 서로 더한다\n",
    "    if sigma > theta:\n",
    "        return 1\n",
    "    else:\n",
    "        return 0\n",
    "\n",
    "input = np.array([[0,0],\n",
    "                  [0,1],\n",
    "                  [1,0],\n",
    "                  [1,1]])\n",
    "for i in input:\n",
    "    print(i, \":\", AND(i))"
   ]
  },
  {
   "cell_type": "code",
   "execution_count": 13,
   "metadata": {},
   "outputs": [
    {
     "name": "stdout",
     "output_type": "stream",
     "text": [
      "[0 0 1]\n",
      "[0 1 1]\n",
      "[1 0 1]\n",
      "[1 1 1]\n"
     ]
    }
   ],
   "source": [
    "input = np.array([[0,0],\n",
    "                  [0,1],\n",
    "                  [1,0],\n",
    "                  [1,1]])\n",
    "for i in input:\n",
    "    x=np.array([i[0],i[1],1])\n",
    "    print(x)"
   ]
  },
  {
   "cell_type": "code",
   "execution_count": 17,
   "metadata": {},
   "outputs": [
    {
     "name": "stdout",
     "output_type": "stream",
     "text": [
      "AND GATE\n",
      "[0 0] : 0\n",
      "[0 1] : 0\n",
      "[1 0] : 0\n",
      "[1 1] : 1\n",
      "OR GATE\n",
      "[0 0] : 0\n",
      "[0 1] : 1\n",
      "[1 0] : 1\n",
      "[1 1] : 1\n",
      "NAND GATE\n",
      "[0 0] : 1\n",
      "[0 1] : 1\n",
      "[1 0] : 1\n",
      "[1 1] : 0\n"
     ]
    }
   ],
   "source": [
    "def act( s):\n",
    "    if s>0:\n",
    "        return 1\n",
    "    else:\n",
    "        return 0\n",
    "def pep(x,w):\n",
    "    sigma = np.dot(x,w)\n",
    "    return act(sigma)\n",
    "def AND(x):\n",
    "    X=np.array([x[0],x[1],-1])\n",
    "    W=np.array([.5,.5,.8])\n",
    "    return pep(X,W)\n",
    "def OR(x):\n",
    "    X=np.array([x[0],x[1],-1])\n",
    "    W=np.array([.5,.5,.4])\n",
    "    return pep(X,W)\n",
    "def NAND(x):\n",
    "    X=np.array([x[0],x[1],-1])\n",
    "    W=np.array([.5,.5,.8])\n",
    "    return pep(X,-W)\n",
    "input = np.array([[0,0],\n",
    "                  [0,1],\n",
    "                  [1,0],\n",
    "                  [1,1]])\n",
    "print(\"AND GATE\")\n",
    "for i in input:\n",
    "    print(i , \":\", AND(i))\n",
    "print(\"OR GATE\")\n",
    "for i in input:\n",
    "    print(i , \":\", OR(i))\n",
    "print(\"NAND GATE\")\n",
    "for i in input:\n",
    "    print(i , \":\", NAND(i))"
   ]
  }
 ],
 "metadata": {
  "kernelspec": {
   "display_name": "Python 3",
   "language": "python",
   "name": "python3"
  },
  "language_info": {
   "codemirror_mode": {
    "name": "ipython",
    "version": 3
   },
   "file_extension": ".py",
   "mimetype": "text/x-python",
   "name": "python",
   "nbconvert_exporter": "python",
   "pygments_lexer": "ipython3",
   "version": "3.11.8"
  }
 },
 "nbformat": 4,
 "nbformat_minor": 2
}
