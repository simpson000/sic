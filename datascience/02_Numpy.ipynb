{
  "cells": [
    {
      "cell_type": "markdown",
      "metadata": {
        "id": "dzNng6vCL9eP"
      },
      "source": [
        "# Numpy\n"
      ]
    },
    {
      "cell_type": "markdown",
      "metadata": {
        "id": "0vJLt3JRL9eR"
      },
      "source": [
        "이 튜토리얼은 Justin Johnson에 의해 최초로 작성되고, Volodymyr Kuleshov, Isaac Caswell, 그리고 Kevin Zakka에 의해 수정된 버전을 이 수업에 맞게 다시 수정한 것이다. 다음과 같은 내용을 다룬다.\n",
        "\n",
        "- Numpy\n",
        "  - 기본적 사용법\n",
        "  - 인덱싱(indexing)\n",
        "  - 산술연산\n",
        "  - Broadcasting\n",
        "- Matplotlib: Plotting, Subplots, Images"
      ]
    },
    {
      "cell_type": "markdown",
      "metadata": {
        "id": "3cfrOV4dL9hW"
      },
      "source": [
        "## Numpy 배열"
      ]
    },
    {
      "cell_type": "markdown",
      "metadata": {
        "id": "fY12nHhyL9hX"
      },
      "source": [
        "- Numpy는 파이썬이 과학계산분야에 이용될때 핵심 역할을 하는 라이브러리이다.\n",
        "- Python의 리스트가 배열과 유사한 역할을 할 수 있지만 리스트는 처리속도가 느리다. 고성능이 필요한 상황에는 Numpy 배열이 적합하다.\n",
        "- Numpy는 **동일한 자료형의 데이터를 저장**하는 다차원 배열을 제공한다"
      ]
    },
    {
      "cell_type": "markdown",
      "metadata": {
        "id": "uhLn78JLF10i"
      },
      "source": [
        "### 설치와 `import`하기"
      ]
    },
    {
      "cell_type": "markdown",
      "metadata": {
        "id": "lZMyAdqhL9hY"
      },
      "source": [
        "Colab에는 이미 설치되어 있다. PC에서 Numpy 패키지는 다음의 명령으로 설치할 수 있다.\n",
        "\n",
        "`$ pip install numpy`\n",
        "\n",
        "Numpy를 사용하려면 먼저 다음과 같이 `numpy` 패키지를 import해야 한다."
      ]
    },
    {
      "cell_type": "code",
      "execution_count": null,
      "metadata": {
        "colab": {
          "base_uri": "https://localhost:8080/"
        },
        "id": "58QdX8BLL9hZ",
        "outputId": "50954322-6204-4fb8-f9a2-ffa688564741"
      },
      "outputs": [
        {
          "output_type": "stream",
          "name": "stdout",
          "text": [
            "1.22.4\n"
          ]
        }
      ],
      "source": [
        "import numpy as np\n",
        "print(np.__version__)"
      ]
    },
    {
      "cell_type": "markdown",
      "metadata": {
        "id": "DDx6v1EdL9hb"
      },
      "source": [
        "### 배열의 생성, 그리고 rank와 shape"
      ]
    },
    {
      "cell_type": "markdown",
      "metadata": {
        "id": "f-Zv3f7LL9hc"
      },
      "source": [
        "파이썬의 리스트로부터 Numpy 배열을 생성할 수 있다.\n",
        "\n",
        "배열의 원소들은 정수들의 튜플(tuple)로 색인(indexing) 된다.\n",
        "\n",
        "배열은 `ndim`, `shape`, `dtype`등의 속성을 지닌다. `ndim` 혹은 rank는 배열이 몇 차원인지를 의미하고, `shape`은 각 차원 별 크기를 나타내는 튜플이다. `dtype`은 배열에 저장된 데이터의 타입이다. 배열이 `dtype` 속성을 가진다는 것은 Python 리스트와 달리 배열은 단일 타입의 데이터만 저장한다는 의미이다. Numpy 배열은 대부분의 경우 수(정수, 실수)를 저장하는 용도로 사용된다."
      ]
    },
    {
      "cell_type": "code",
      "execution_count": null,
      "metadata": {
        "colab": {
          "base_uri": "https://localhost:8080/"
        },
        "id": "-l3JrGxCL9hc",
        "outputId": "b2784af6-4b66-4ccf-e38e-339fd5b2b7d2"
      },
      "outputs": [
        {
          "name": "stdout",
          "output_type": "stream",
          "text": [
            "<class 'numpy.ndarray'>\n",
            "[1 2 3]\n",
            "1 2 3\n",
            "<class 'numpy.ndarray'>\n",
            "1\n",
            "(3,)\n",
            "int64\n",
            "[5 2 3]\n"
          ]
        }
      ],
      "source": [
        "a = np.array([1, 2, 3])   # rank 1인 배열의 생성\n",
        "print(type(a))\n",
        "print(a)\n",
        "print(a[0], a[1], a[2])   # []를 이용해 배열의 각각의 값에 접근\n",
        "\n",
        "print(a.ndim)             # 모든 배열은 rank를 나타내는 속성 ndim을 가짐\n",
        "print(a.shape)            # 모든 배열은 shape이라는 속성을 가짐\n",
        "print(a.dtype)            # 모든 배열은 데이터 타입을 나타내는 dtype 속성을 가짐\n",
        "\n",
        "a[0] = 5                  # 배열의 값을 변경\n",
        "print(a)"
      ]
    },
    {
      "cell_type": "code",
      "execution_count": null,
      "metadata": {
        "colab": {
          "base_uri": "https://localhost:8080/"
        },
        "id": "ma6mk-kdL9hh",
        "outputId": "1d3a75d0-c23f-4424-8079-d7bafcd95a6d"
      },
      "outputs": [
        {
          "name": "stdout",
          "output_type": "stream",
          "text": [
            "[[1 2 3]\n",
            " [4 5 6]]\n",
            "2\n",
            "(2, 3)\n",
            "int64\n",
            "1\n",
            "1 2 4\n",
            "1 2 4\n"
          ]
        }
      ],
      "source": [
        "b = np.array([[1,2,3],[4,5,6]])   # rank 2인 배열의 생성\n",
        "print(b)\n",
        "print(b.ndim)\n",
        "print(b.shape)\n",
        "print(b.dtype)\n",
        "\n",
        "l = [[1,2,3],\n",
        "     [4,5,6]]\n",
        "print(l[0][0])\n",
        "\n",
        "print(b[0, 0], b[0, 1], b[1, 0])        # 다차원 배열에서 각각의 값에 접근\n",
        "\n",
        "print(b[(0, 0)], b[(0, 1)], b[(1, 0)])  # 다차원 배열에서 각각의 값에 접근"
      ]
    },
    {
      "cell_type": "code",
      "execution_count": null,
      "metadata": {
        "colab": {
          "base_uri": "https://localhost:8080/"
        },
        "id": "b5rldcR_9JDX",
        "outputId": "e749c570-116b-4546-b600-502b7d5b31a4"
      },
      "outputs": [
        {
          "name": "stdout",
          "output_type": "stream",
          "text": [
            "3\n",
            "(2, 2, 3)\n",
            "[[[1 2 3]\n",
            "  [4 5 6]]\n",
            "\n",
            " [[1 2 3]\n",
            "  [4 5 6]]]\n",
            "6 6\n"
          ]
        }
      ],
      "source": [
        "c = np.array([[[1, 2, 3], [4, 5, 6]], [[1, 2, 3], [4, 5, 6]]])\n",
        "print(c.ndim)\n",
        "print(c.shape)\n",
        "print(c)\n",
        "\n",
        "print(c[0, 1, 2], c[(0, 1, 2)])"
      ]
    },
    {
      "cell_type": "markdown",
      "metadata": {
        "id": "F2qwdyvuL9hn"
      },
      "source": [
        "Numpy는 배열을 생성하고 특정한 값으로 초기화하는 다양한 함수를 제공한다."
      ]
    },
    {
      "cell_type": "code",
      "execution_count": null,
      "metadata": {
        "colab": {
          "base_uri": "https://localhost:8080/"
        },
        "id": "mVTN_EBqL9hn",
        "outputId": "89c3fdbf-8d2c-4f96-dd55-d4f64d9f7415"
      },
      "outputs": [
        {
          "output_type": "stream",
          "name": "stdout",
          "text": [
            "[[0 0]\n",
            " [0 0]]\n",
            "int64\n"
          ]
        }
      ],
      "source": [
        "a = np.zeros((2, 2), dtype=int)   # 0으로 채워진 2*2 크기의 2차원 배열을 생성\n",
        "print(a)\n",
        "print(a.dtype)        # 데이터 타입은 실수가 된다."
      ]
    },
    {
      "cell_type": "code",
      "execution_count": null,
      "metadata": {
        "colab": {
          "base_uri": "https://localhost:8080/"
        },
        "id": "skiKlNmlL9h5",
        "outputId": "b977884a-8e5d-449b-bb86-d691c5d91600"
      },
      "outputs": [
        {
          "name": "stdout",
          "output_type": "stream",
          "text": [
            "[[1. 1.]]\n"
          ]
        }
      ],
      "source": [
        "b = np.ones((1, 2))    # 모든 원소가 1인 1*2 크기의 2차원 배열\n",
        "                      # b는 첫번째 차원의 길이가 1인 2차원 배열이다. 이것은 1차원 배열과는 다르다.\n",
        "print(b)              # 이 배열이 어떻게 출력되는지 확인하라."
      ]
    },
    {
      "cell_type": "code",
      "execution_count": null,
      "metadata": {
        "colab": {
          "base_uri": "https://localhost:8080/"
        },
        "id": "HtFsr03bL9h7",
        "outputId": "00366dd6-f352-4eba-82b1-8c3729b38322"
      },
      "outputs": [
        {
          "name": "stdout",
          "output_type": "stream",
          "text": [
            "[[7 7]\n",
            " [7 7]]\n"
          ]
        }
      ],
      "source": [
        "c = np.full((2,2), 7) # Create a constant array\n",
        "print(c)"
      ]
    },
    {
      "cell_type": "code",
      "execution_count": null,
      "metadata": {
        "colab": {
          "base_uri": "https://localhost:8080/"
        },
        "id": "-QcALHvkL9h9",
        "outputId": "b14bb764-4211-4567-8e66-0ba1ade03096"
      },
      "outputs": [
        {
          "name": "stdout",
          "output_type": "stream",
          "text": [
            "[[1. 0. 0.]\n",
            " [0. 1. 0.]\n",
            " [0. 0. 1.]]\n"
          ]
        }
      ],
      "source": [
        "d = np.eye(3)        # Create a 2x2 identity matrix\n",
        "print(d)"
      ]
    },
    {
      "cell_type": "code",
      "execution_count": null,
      "metadata": {
        "colab": {
          "base_uri": "https://localhost:8080/"
        },
        "id": "RCpaYg9qL9iA",
        "outputId": "34943088-fb74-4a05-aaaa-fec81e4d0ff5"
      },
      "outputs": [
        {
          "name": "stdout",
          "output_type": "stream",
          "text": [
            "[[0.54106801 0.44953836]\n",
            " [0.38612488 0.38952944]]\n"
          ]
        }
      ],
      "source": [
        "e = np.random.random((2,2)) # Create an array filled with random values\n",
        "print(e)"
      ]
    },
    {
      "cell_type": "markdown",
      "metadata": {
        "id": "TSms7-0adfh8"
      },
      "source": [
        "Numpy 배열에는 **동일한 타입**의 값들이 저장된다. Numpy는 배열이 생성될 때 자료형을 스스로 추측한다. 하지만 배열을 생성할 때 명시적으로 특정 자료형을 지정할 수도 있다."
      ]
    },
    {
      "cell_type": "code",
      "execution_count": null,
      "metadata": {
        "colab": {
          "base_uri": "https://localhost:8080/"
        },
        "id": "rNWDpYCqdYB1",
        "outputId": "db360d5d-b406-4c10-97cc-5927071ca196"
      },
      "outputs": [
        {
          "output_type": "stream",
          "name": "stdout",
          "text": [
            "int64 float64 int64 float32\n"
          ]
        }
      ],
      "source": [
        "x = np.array([1, 2])  # Let numpy choose the datatype\n",
        "y = np.array([1.0, 2.0])  # Let numpy choose the datatype\n",
        "z = np.array([1, 2], dtype=int)  # Force a particular datatype\n",
        "w = np.array([1, 2], dtype=np.float32)  # Force a particular datatype\n",
        "\n",
        "print(x.dtype, y.dtype, z.dtype, w.dtype)"
      ]
    },
    {
      "cell_type": "markdown",
      "source": [
        "**참조: Numpy 표준 데이터 타입**\n",
        "\n",
        "| Data type\t    | Description |\n",
        "|---------------|-------------|\n",
        "| ``bool_``     | Boolean (True or False) stored as a byte |\n",
        "| ``int_``      | Default integer type (same as C ``long``; normally either ``int64`` or ``int32``)|\n",
        "| ``intc``      | Identical to C ``int`` (normally ``int32`` or ``int64``)|\n",
        "| ``intp``      | Integer used for indexing (same as C ``ssize_t``; normally either ``int32`` or ``int64``)|\n",
        "| ``int8``      | Byte (-128 to 127)|\n",
        "| ``int16``     | Integer (-32768 to 32767)|\n",
        "| ``int32``     | Integer (-2147483648 to 2147483647)|\n",
        "| ``int64``     | Integer (-9223372036854775808 to 9223372036854775807)|\n",
        "| ``uint8``     | Unsigned integer (0 to 255)|\n",
        "| ``uint16``    | Unsigned integer (0 to 65535)|\n",
        "| ``uint32``    | Unsigned integer (0 to 4294967295)|\n",
        "| ``uint64``    | Unsigned integer (0 to 18446744073709551615)|\n",
        "| ``float_``    | Shorthand for ``float64``.|\n",
        "| ``float16``   | Half precision float: sign bit, 5 bits exponent, 10 bits mantissa|\n",
        "| ``float32``   | Single precision float: sign bit, 8 bits exponent, 23 bits mantissa|\n",
        "| ``float64``   | Double precision float: sign bit, 11 bits exponent, 52 bits mantissa|\n",
        "| ``complex_``  | Shorthand for ``complex128``.|\n",
        "| ``complex64`` | Complex number, represented by two 32-bit floats|\n",
        "| ``complex128``| Complex number, represented by two 64-bit floats|"
      ],
      "metadata": {
        "id": "cYijvEqgvusG"
      }
    },
    {
      "cell_type": "markdown",
      "metadata": {
        "id": "ESoT6CFZBcIq"
      },
      "source": [
        "### 배열 reshape"
      ]
    },
    {
      "cell_type": "markdown",
      "metadata": {
        "id": "eDX3qkcnBmxH"
      },
      "source": [
        "Numpy배열은 **원소의 개수가 유지되는 경우** 자유롭게 다른 shape으로 변경할 수 있다. 가령 (3, 4) 크기의 2차원 배열은 (2, 6) 크기의 2차원 배열이나, 길이가 12인 1차원 배열, 혹은 (2, 2, 3) 크기의 3차원배열로 쉽게 변형할 수 있다.\n",
        "\n"
      ]
    },
    {
      "cell_type": "code",
      "execution_count": null,
      "metadata": {
        "colab": {
          "base_uri": "https://localhost:8080/"
        },
        "id": "909yik20CG1J",
        "outputId": "42e1f214-5c93-46ab-8336-c411312531a6"
      },
      "outputs": [
        {
          "name": "stdout",
          "output_type": "stream",
          "text": [
            "[[ 1  2  3]\n",
            " [ 4  5  6]\n",
            " [ 7  8  9]\n",
            " [10 11 12]]\n",
            "[ 1  2  3  4  5  6  7  8  9 10 11 12]\n",
            "[[ 1  2  3  4  5  6]\n",
            " [ 7  8  9 10 11 12]]\n",
            "[[[ 1  2  3]\n",
            "  [ 4  5  6]]\n",
            "\n",
            " [[ 7  8  9]\n",
            "  [10 11 12]]]\n",
            "[[[ 1  2]\n",
            "  [ 3  4]]\n",
            "\n",
            " [[ 5  6]\n",
            "  [ 7  8]]\n",
            "\n",
            " [[ 9 10]\n",
            "  [11 12]]]\n"
          ]
        }
      ],
      "source": [
        "arr = np.array([[1, 2, 3], [4, 5, 6], [7, 8, 9], [10, 11, 12]]) # shape = (4,3)\n",
        "print(arr)\n",
        "\n",
        "arr1 = np.reshape(arr, (12))    # arr1 = arr.reshape(12)\n",
        "print(arr1)\n",
        "\n",
        "arr2 = np.reshape(arr, (2, 6))  # arr2 = arr.reshape(2, 6)\n",
        "print(arr2)\n",
        "\n",
        "arr3 = np.reshape(arr, (2, 2, 3))   # arr3 = arr.reshape(2, 2, 3)\n",
        "print(arr3)\n",
        "\n",
        "arr4 = np.reshape(arr, (3, 2, 2))   # arr4 = arr.reshape(3, 2, 2)\n",
        "print(arr4)\n",
        "\n",
        "# arr5 = np.reshape(arr, (3, 3))"
      ]
    },
    {
      "cell_type": "markdown",
      "metadata": {
        "id": "3k8yBUrWDK1M"
      },
      "source": [
        "배열 reshape은 배열을 복사하여 새로운 배열을 생성하는게 아니라 존재하는 배열에 대한 새로운 view를 제공할 따름이다."
      ]
    },
    {
      "cell_type": "code",
      "execution_count": null,
      "metadata": {
        "colab": {
          "base_uri": "https://localhost:8080/"
        },
        "id": "1048U6LVC9Cf",
        "outputId": "d8d6a615-5592-4a6d-cf89-1cc4df603d5a"
      },
      "outputs": [
        {
          "name": "stdout",
          "output_type": "stream",
          "text": [
            "[[99  2  3]\n",
            " [ 4  5  6]\n",
            " [ 7  8  9]\n",
            " [10 11 12]]\n"
          ]
        }
      ],
      "source": [
        "arr3[0, 0, 0] = 99\n",
        "print(arr)"
      ]
    },
    {
      "cell_type": "markdown",
      "metadata": {
        "id": "Km2gwYIeDfPD"
      },
      "source": [
        "배열 reshape에서 원소의 개수는 보존되어야 하므로 **모든 차원의 크기를 명시할 필요는 없다**. 즉, 자동으로 유추할 수 있는 경우에는 크기를 명시하지 않고 `-1`로 표시할 수 있다."
      ]
    },
    {
      "cell_type": "code",
      "execution_count": null,
      "metadata": {
        "colab": {
          "base_uri": "https://localhost:8080/"
        },
        "id": "3jYvr5F-Dzk0",
        "outputId": "66f3e2d0-483a-4fdf-c969-a25ef029aff7"
      },
      "outputs": [
        {
          "name": "stdout",
          "output_type": "stream",
          "text": [
            "[[[1 2]\n",
            "  [3 4]]\n",
            "\n",
            " [[5 6]\n",
            "  [7 8]]]\n"
          ]
        }
      ],
      "source": [
        "arr = np.array([1, 2, 3, 4, 5, 6, 7, 8])\n",
        "newarr = np.reshape(arr, (-1, 2, 2))\n",
        "print(newarr)\n",
        "\n",
        "# wrongreshape = arr.reshape(2, -1, -1)"
      ]
    },
    {
      "cell_type": "markdown",
      "metadata": {
        "id": "3QbjIrSYECTn"
      },
      "source": [
        "가장 자주 사용하는 reshape은 다차원 배열을 1차원 배열로 reshape하는 경우이다. Numpy는 이를 위한 몇 가지 방법을 제공한다."
      ]
    },
    {
      "cell_type": "code",
      "execution_count": null,
      "metadata": {
        "colab": {
          "base_uri": "https://localhost:8080/"
        },
        "id": "zd9UflrxEUda",
        "outputId": "a5e8b741-9302-4b5f-e03c-8643224a4765"
      },
      "outputs": [
        {
          "output_type": "stream",
          "name": "stdout",
          "text": [
            "[1 2 3 4 5 6]\n",
            "[1 2 3 4 5 6]\n",
            "[1 2 3 4 5 6]\n",
            "[1 2 3 4 5 6]\n"
          ]
        }
      ],
      "source": [
        "arr = np.array([[1, 2, 3], [4, 5, 6]])\n",
        "\n",
        "newarr = arr.reshape(-1)\n",
        "print(newarr)\n",
        "\n",
        "print(np.ravel(arr))\n",
        "print(arr.ravel())\n",
        "# print(np.flatten(arr))\n",
        "print(arr.flatten())"
      ]
    },
    {
      "cell_type": "markdown",
      "metadata": {
        "id": "QYv4JyIEL9iD"
      },
      "source": [
        "### 배열 슬라이싱(slicing)\n"
      ]
    },
    {
      "cell_type": "markdown",
      "metadata": {
        "id": "n33HOA42Gzaw"
      },
      "source": [
        "파이썬 리스트와 유사하게 Numpy 배열도 슬라이싱이 가능하다. Numpy 배열은 다차원인 경우가 많기에, 각 차원별로 어떻게 슬라이스할건지 명확히 해야 한다."
      ]
    },
    {
      "cell_type": "code",
      "execution_count": null,
      "metadata": {
        "colab": {
          "base_uri": "https://localhost:8080/"
        },
        "id": "wLWA0udwL9iD",
        "outputId": "b9a979e2-5e9c-4464-b8a2-f374ab7695b7"
      },
      "outputs": [
        {
          "output_type": "stream",
          "name": "stdout",
          "text": [
            "[[ 1  2  3  4]\n",
            " [ 5  6  7  8]\n",
            " [ 9 10 11 12]]\n",
            "[[2 4]\n",
            " [6 8]]\n"
          ]
        }
      ],
      "source": [
        "# Create the following rank 2 array with shape (3, 4)\n",
        "# [[ 1  2  3  4]\n",
        "#  [ 5  6  7  8]\n",
        "#  [ 9 10 11 12]]\n",
        "a = np.array([[1,2,3,4], [5,6,7,8], [9,10,11,12]])\n",
        "print(a)\n",
        "# Use slicing to pull out the subarray consisting of the first 2 rows\n",
        "# and columns 1 and 2; b is the following array of shape (2, 2):\n",
        "# [[2 3]\n",
        "#  [6 7]]\n",
        "b = a[:2, 1::2]  # [ )\n",
        "print(b)"
      ]
    },
    {
      "cell_type": "markdown",
      "metadata": {
        "id": "KahhtZKYL9iF"
      },
      "source": [
        "Numpy 배열의 슬라이싱은 리스트의 슬라이싱과 달리 새로운 배열을 생성하지 않는다. 다만 **기존 배열에 대한 새로운 view를 제공할 뿐이다**. 따라서 슬라이스된 배열의 값을 수정하면 원래 배열의 값도 수정된다."
      ]
    },
    {
      "cell_type": "code",
      "execution_count": null,
      "metadata": {
        "colab": {
          "base_uri": "https://localhost:8080/"
        },
        "id": "1kmtaFHuL9iG",
        "outputId": "aa397a25-a9f5-4cd9-fc26-3b3ad7db0251"
      },
      "outputs": [
        {
          "name": "stdout",
          "output_type": "stream",
          "text": [
            "2\n",
            "[[ 1 77  3  4]\n",
            " [ 5  6  7  8]\n",
            " [ 9 10 11 12]]\n"
          ]
        }
      ],
      "source": [
        "print(a[0, 1])\n",
        "b[0, 0] = 77    # b[0, 0] is the same piece of data as a[0, 1]\n",
        "print(a)"
      ]
    },
    {
      "cell_type": "markdown",
      "metadata": {
        "id": "_Zcf3zi-L9iI"
      },
      "source": [
        "정수 인덱스와 슬라이스 인덱스를 섞어서 함께 사용할 수 있다. 이 경우 배열의 rank가 감소하게 될 것이다."
      ]
    },
    {
      "cell_type": "code",
      "execution_count": null,
      "metadata": {
        "colab": {
          "base_uri": "https://localhost:8080/"
        },
        "id": "G6lfbPuxL9iJ",
        "outputId": "876e571f-b11d-4a9c-a8ff-332f3241537c"
      },
      "outputs": [
        {
          "name": "stdout",
          "output_type": "stream",
          "text": [
            "[[ 1  2  3  4]\n",
            " [ 5  6  7  8]\n",
            " [ 9 10 11 12]]\n"
          ]
        }
      ],
      "source": [
        "# Create the following rank 2 array with shape (3, 4)\n",
        "a = np.array([[1,2,3,4], [5,6,7,8], [9,10,11,12]])\n",
        "print(a)"
      ]
    },
    {
      "cell_type": "code",
      "execution_count": null,
      "metadata": {
        "colab": {
          "base_uri": "https://localhost:8080/"
        },
        "id": "EOiEMsmNL9iL",
        "outputId": "bdc41247-3837-40c6-96ed-7b224d2e1376"
      },
      "outputs": [
        {
          "name": "stdout",
          "output_type": "stream",
          "text": [
            "[5 6 7 8] (4,)\n",
            "[[5 6 7 8]] (1, 4)\n"
          ]
        }
      ],
      "source": [
        "row_r1 = a[1, :]    # Rank 1 view of the second row of a\n",
        "row_r2 = a[1:2, :]  # Rank 2 view of the second row of a\n",
        "\n",
        "print(row_r1, row_r1.shape)\n",
        "print(row_r2, row_r2.shape)"
      ]
    },
    {
      "cell_type": "code",
      "execution_count": null,
      "metadata": {
        "colab": {
          "base_uri": "https://localhost:8080/"
        },
        "id": "JXu73pfDL9iN",
        "outputId": "4ca55ae5-0ac4-4157-8827-c00311a0bbaa"
      },
      "outputs": [
        {
          "name": "stdout",
          "output_type": "stream",
          "text": [
            "[ 2  6 10] (3,)\n",
            "\n",
            "[[ 2]\n",
            " [ 6]\n",
            " [10]] (3, 1)\n"
          ]
        }
      ],
      "source": [
        "# We can make the same distinction when accessing columns of an array:\n",
        "col_r1 = a[:, 1]\n",
        "col_r2 = a[:, 1:2]\n",
        "print(col_r1, col_r1.shape)\n",
        "print()\n",
        "print(col_r2, col_r2.shape)"
      ]
    },
    {
      "cell_type": "markdown",
      "metadata": {
        "id": "r72YOoNdYZms"
      },
      "source": [
        "### 배열 합치기"
      ]
    },
    {
      "cell_type": "markdown",
      "metadata": {
        "id": "e4WwVuuKaDEC"
      },
      "source": [
        "#### Concatenate 함수로 배열 합치기"
      ]
    },
    {
      "cell_type": "markdown",
      "metadata": {
        "id": "7f391s4HYxXL"
      },
      "source": [
        "Numpy는 둘 이상의 배열을 **특정 축(axis)을 따라서** 합치는 `concatenate` 메서드를 제공한다. 배열들은 동일한 rank를 가져야 하며, 합쳐질 축을 제외한 나머지 축으로는 동일한 길이를 가져야 한다. 만들어진 배열은 입력된 배열과 동일한 rank를 가진다."
      ]
    },
    {
      "cell_type": "code",
      "execution_count": null,
      "metadata": {
        "colab": {
          "base_uri": "https://localhost:8080/"
        },
        "id": "ik2yjCxLYksO",
        "outputId": "3d56e337-9aeb-4168-fa24-c9b711728db5"
      },
      "outputs": [
        {
          "name": "stdout",
          "output_type": "stream",
          "text": [
            "[1 2 3 4 5 6 7 8 9]\n"
          ]
        }
      ],
      "source": [
        "arr1 = np.array([1, 2, 3])\n",
        "arr2 = np.array([4, 5])\n",
        "arr3 = np.array([6, 7, 8, 9])\n",
        "\n",
        "arr = np.concatenate((arr1, arr2, arr3))\n",
        "\n",
        "print(arr)"
      ]
    },
    {
      "cell_type": "markdown",
      "metadata": {
        "id": "f0j07gR2Zsbz"
      },
      "source": [
        "배열을 합칠 축을 지정할 수 있다. 축이 지정되지 않으면 디폴트로 `axis=0`으로 간주된다."
      ]
    },
    {
      "cell_type": "code",
      "execution_count": null,
      "metadata": {
        "colab": {
          "base_uri": "https://localhost:8080/"
        },
        "id": "6hlB36JfYvrE",
        "outputId": "e6838c5e-038c-4526-b274-048e58761e50"
      },
      "outputs": [
        {
          "name": "stdout",
          "output_type": "stream",
          "text": [
            "[[1 2]\n",
            " [3 4]\n",
            " [5 6]\n",
            " [7 8]]\n",
            "[[1 2 5 6]\n",
            " [3 4 7 8]]\n"
          ]
        }
      ],
      "source": [
        "arr1 = np.array([[1, 2],\n",
        "                 [3, 4]])\n",
        "arr2 = np.array([[5, 6],\n",
        "                 [7, 8]])\n",
        "arr3 = np.concatenate((arr1, arr2))\n",
        "print(arr3)\n",
        "\n",
        "arr4 = np.concatenate((arr1, arr2), axis=1)\n",
        "print(arr4)"
      ]
    },
    {
      "cell_type": "markdown",
      "metadata": {
        "id": "mCE3SwCeaL6h"
      },
      "source": [
        "#### Stack 함수로 배열 쌓기"
      ]
    },
    {
      "cell_type": "markdown",
      "metadata": {
        "id": "dVkKxu8PbXQW"
      },
      "source": [
        "`stack` 함수는 배열들을 새로운 축으로 합치는 일을 한다. 예를 들어 1차원 배열들을 합쳐서 2차원 배열을 만들거나, 2차원 배열들을 여러 개 합쳐서 3차원 배열을 합치거나 등이다. 합쳐질 배열들은 모두 동일한 shape이어야 한다."
      ]
    },
    {
      "cell_type": "code",
      "source": [],
      "metadata": {
        "id": "-vb8s3umYr_r"
      },
      "execution_count": null,
      "outputs": []
    },
    {
      "cell_type": "code",
      "execution_count": null,
      "metadata": {
        "colab": {
          "base_uri": "https://localhost:8080/"
        },
        "id": "WMj6MO63aTOZ",
        "outputId": "5a2f5fe5-ae61-4985-9110-5c8a47071009"
      },
      "outputs": [
        {
          "output_type": "stream",
          "name": "stdout",
          "text": [
            "[[1 2 3]\n",
            " [4 5 6]]\n",
            "[[1 4]\n",
            " [2 5]\n",
            " [3 6]]\n"
          ]
        }
      ],
      "source": [
        "arr1 = np.array([1,\n",
        "                 2,\n",
        "                 3])\n",
        "arr2 = np.array([4,\n",
        "                 5,\n",
        "                 6])\n",
        "arr3 = np.stack([arr1, arr2])\n",
        "print(arr3)\n",
        "\n",
        "arr4 = np.stack((arr1, arr2), axis=1)\n",
        "print(arr4)"
      ]
    },
    {
      "cell_type": "code",
      "source": [
        "arr5 = np.stack((arr4, arr4), axis=1)\n",
        "arr5"
      ],
      "metadata": {
        "colab": {
          "base_uri": "https://localhost:8080/"
        },
        "id": "uMloMNZGYu03",
        "outputId": "e8e85658-3060-4658-eef7-46bb244a93bf"
      },
      "execution_count": null,
      "outputs": [
        {
          "output_type": "execute_result",
          "data": {
            "text/plain": [
              "array([[[1, 4],\n",
              "        [1, 4]],\n",
              "\n",
              "       [[2, 5],\n",
              "        [2, 5]],\n",
              "\n",
              "       [[3, 6],\n",
              "        [3, 6]]])"
            ]
          },
          "metadata": {},
          "execution_count": 43
        }
      ]
    },
    {
      "cell_type": "markdown",
      "metadata": {
        "id": "VP3916bOL9iP"
      },
      "source": [
        "### 정수 배열 인덱싱(Integer Array Indexing)\n",
        "\n",
        "배열에서 하나의 **단일한 원소를 엑세스할 경우에 tuple로 인덱싱**한다.  \n",
        "\n",
        "하지만 배열을 다른 정수 배열(들)로(혹은 정수 배열로 암묵적으로 변환될 수 있는 리스트로) 인덱싱할 수 있다. 이것은 **배열에 저장된 여러 개의 값을 한꺼번에 뽑아내어서 다른 하나의 배열을 생성**하려는 목적이다.\n",
        "\n",
        "배열을 슬라이싱하면 결과로 얻어지는 배열은 원본 배열의 연속적인 부분 배열이거나 혹은 일정한 규칙을 따라서(가령 한 칸씩 건너서 등) 잘라낸 형태이다.\n",
        "그러나 정수 배열 인덱싱을 하면 불규칙적으로 원본 배열의 일부를 뽑내거나 원본과 다른 배열을 만들 수도 있다.\n",
        "\n",
        "**중요**: 슬라이싱은 단지 원본 배열에 대한 새로운 view를 생성하는 것에 지나지 않지만, 정수배열인덱싱은 새로운 배열 객체를 생성한다."
      ]
    },
    {
      "cell_type": "markdown",
      "metadata": {
        "id": "GQAQzr_Slus8"
      },
      "source": [
        "#### 1차원 배열에 대한 정수 배열 인덱싱"
      ]
    },
    {
      "cell_type": "markdown",
      "metadata": {
        "id": "92uICeDGonbZ"
      },
      "source": [
        "인덱스로 사용된 배열의 각 값은 그 자리에 올 원래 배열의 값의 위치를 표시한다."
      ]
    },
    {
      "cell_type": "code",
      "execution_count": null,
      "metadata": {
        "colab": {
          "base_uri": "https://localhost:8080/"
        },
        "id": "WsgBwEuAmLhh",
        "outputId": "76758410-5ba6-4ae2-de08-bb71f3fc8974"
      },
      "outputs": [
        {
          "name": "stdout",
          "output_type": "stream",
          "text": [
            "[10  9  8  7  6  5  4  3  2]\n",
            "[7 7 9 2]\n",
            "[7 7 9 2]\n"
          ]
        }
      ],
      "source": [
        "x = np.arange(10, 1, -1)  # x = np.array([10,  9,  8,  7,  6,  5,  4,  3,  2])\n",
        "print(x)\n",
        "\n",
        "# range()\n",
        "\n",
        "print(x[ np.array([3, 3, 1, 8]) ])\n",
        "\n",
        "print(x[ [3, 3, 1, 8] ])    # 리스트는 배열로 암묵적으로 변환가능하므로 동일하다."
      ]
    },
    {
      "cell_type": "markdown",
      "metadata": {
        "id": "VEjGGbmSmKZT"
      },
      "source": [
        "음수 인덱스도 물론 사용 가능하다."
      ]
    },
    {
      "cell_type": "code",
      "execution_count": null,
      "metadata": {
        "colab": {
          "base_uri": "https://localhost:8080/",
          "height": 34
        },
        "id": "pDWrYcpZnEQk",
        "outputId": "23273b60-0e38-422b-90a6-3966294e444d"
      },
      "outputs": [
        {
          "name": "stdout",
          "output_type": "stream",
          "text": [
            "[7 7 4 2]\n"
          ]
        }
      ],
      "source": [
        "print(x[np.array([3, 3, -3, 8])])"
      ]
    },
    {
      "cell_type": "markdown",
      "metadata": {
        "id": "_ytYvlzynjs4"
      },
      "source": [
        "1차원 배열을 다차원 배열로 인덱싱할 수도 있다. 이 경우 **리턴되는 결과는 항상 인덱스 배열과 동일한 shape**의 배열이며, 값은 인덱스 배열에 의해서 지정한 값들이다."
      ]
    },
    {
      "cell_type": "code",
      "execution_count": null,
      "metadata": {
        "colab": {
          "base_uri": "https://localhost:8080/"
        },
        "id": "1RZKMgMUn4qt",
        "outputId": "6bf309e1-94b5-4900-9bd6-4b20dcbaf8af"
      },
      "outputs": [
        {
          "name": "stdout",
          "output_type": "stream",
          "text": [
            "[[9 9]\n",
            " [8 7]]\n"
          ]
        }
      ],
      "source": [
        " # x = np.array([10,  9,  8,  7,  6,  5,  4,  3,  2])\n",
        "print(x[ np.array([[1,1],[2,3]]) ])     # 1차원 배열을 2차원 배열로 인덱싱한 경우"
      ]
    },
    {
      "cell_type": "markdown",
      "metadata": {
        "id": "pLrm7jHMoHLt"
      },
      "source": [
        "#### 다차원 배열에 대한 정수 배열 인덱싱"
      ]
    },
    {
      "cell_type": "markdown",
      "metadata": {
        "id": "5b7W1jmDrqPF"
      },
      "source": [
        "다차원 배열이 배열로 인덱싱될 때는 좀 더 규칙이 복잡해진다. 우선 가장 간단한 경우는 **원래 배열의 차원의 개수, 즉 rank개의 인덱스 배열로 제공되고, 모든 인덱스 배열들이 동일한 shape을 가지는 경우**이다.\n",
        "\n",
        "이 경우 결과는 인덱스 배열과 동일한 shape을 가진다. 또한 결과 배열의 값은 각각의 차원에 대해서 그 차원에 대응하는 인덱스 배열의 값을 인덱스로 하는 값이다."
      ]
    },
    {
      "cell_type": "code",
      "execution_count": null,
      "metadata": {
        "colab": {
          "base_uri": "https://localhost:8080/",
          "height": 153
        },
        "id": "P6bQEd-wo3di",
        "outputId": "fda04582-d70d-4df3-a0be-bf1bbe005cfe"
      },
      "outputs": [
        {
          "name": "stdout",
          "output_type": "stream",
          "text": [
            "[[ 0  1  2  3  4  5  6]\n",
            " [ 7  8  9 10 11 12 13]\n",
            " [14 15 16 17 18 19 20]\n",
            " [21 22 23 24 25 26 27]\n",
            " [28 29 30 31 32 33 34]]\n",
            "[ 0 15 30]\n",
            "[[ 4 12]\n",
            " [16 24]]\n"
          ]
        }
      ],
      "source": [
        "y = np.arange(35).reshape(5,7)\n",
        "print(y)\n",
        "print(y[  np.array([0,2,4]), np.array([0,1,2])  ])\n",
        "# print(y[[0,2,4], [0,1,2]])\n",
        "\n",
        "print(y[ np.array([[0, 1], [2, 3]]), np.array([[4, 5], [2, 3]]) ])\n"
      ]
    },
    {
      "cell_type": "markdown",
      "metadata": {
        "id": "juBbNe1dpYBr"
      },
      "source": [
        "인덱스 배열들이 서로 동일한 shape이 아닐 경우에는 그들을 동일한 shape으로 만들기 위해서 broadcast를 시도한다. 아직 broadcast에 대해 다루지 않았으므로 이 부분은 생략한다.\n"
      ]
    },
    {
      "cell_type": "markdown",
      "metadata": {
        "id": "FIZ7dvmGpjW_"
      },
      "source": [
        "원래 **배열의 rank보다 적은 개수의 인덱스 배열**을 사용하여 인덱싱할 수도 있다."
      ]
    },
    {
      "cell_type": "code",
      "execution_count": null,
      "metadata": {
        "colab": {
          "base_uri": "https://localhost:8080/",
          "height": 85
        },
        "id": "2giHcGJApkeI",
        "outputId": "535066bf-5f62-4719-b15b-7456ced0b96f"
      },
      "outputs": [
        {
          "name": "stdout",
          "output_type": "stream",
          "text": [
            "[[ 0  1  2  3  4  5  6]\n",
            " [28 29 30 31 32 33 34]\n",
            " [ 7  8  9 10 11 12 13]\n",
            " [ 0  1  2  3  4  5  6]]\n"
          ]
        }
      ],
      "source": [
        "print(y[np.array([0, 4, 1, 0])])"
      ]
    },
    {
      "cell_type": "markdown",
      "metadata": {
        "id": "boShkY0hpsit"
      },
      "source": [
        "이 경우 인덱스 배열에 있는 값에 해당하는 행(row)들을 선택하여 새로운 배열을 만들어서 반환한다. 이 기능은 주어진 배열의 특정 행만을 뽑아서 새로운 배열을 구성할 때 유용하다.\n",
        "\n",
        "이 외에도 배열인덱싱을 활용하는 많은 use case들이 있다. 상세한 사항은 [문서](https://numpy.org/doc/stable/reference/arrays.indexing.html)를 참조하라."
      ]
    },
    {
      "cell_type": "markdown",
      "metadata": {
        "id": "oKgyxRKmJpcU"
      },
      "source": [
        "**예:** 랜덤 포인트의 선택\n",
        "\n",
        "정수배열 인덱싱의 한 예로 랜덤 포인트들을 샘플링해보자. 먼저 다음과 같이 평균 `mean`과 공분산(covariance) `cov`로 정의되는 2차원 정규분포를 따르는 100개의 점들을 생성한다."
      ]
    },
    {
      "cell_type": "code",
      "execution_count": null,
      "metadata": {
        "id": "mFmwhQ58JpcU",
        "outputId": "2a12d10b-2a42-4ea2-df7e-c75cd5aa7350",
        "colab": {
          "base_uri": "https://localhost:8080/"
        }
      },
      "outputs": [
        {
          "output_type": "execute_result",
          "data": {
            "text/plain": [
              "(100, 2)"
            ]
          },
          "metadata": {},
          "execution_count": 6
        }
      ],
      "source": [
        "rand = np.random.RandomState(42) # random number generator의 초기화\n",
        "\n",
        "mean = [0, 0]\n",
        "cov = [[1, 2],\n",
        "       [2, 5]]\n",
        "X = rand.multivariate_normal(mean, cov, 100)\n",
        "X.shape"
      ]
    },
    {
      "cell_type": "markdown",
      "metadata": {
        "id": "gFuL_mgPJpcU"
      },
      "source": [
        "`pyplot`을 이용하여 플롯팅해보자."
      ]
    },
    {
      "cell_type": "code",
      "execution_count": null,
      "metadata": {
        "id": "cZTuUnRUJpcU",
        "outputId": "9d698193-15e0-467b-b9ed-959956530ef0",
        "colab": {
          "base_uri": "https://localhost:8080/",
          "height": 268
        }
      },
      "outputs": [
        {
          "output_type": "display_data",
          "data": {
            "text/plain": [
              "<Figure size 432x288 with 1 Axes>"
            ],
            "image/png": "[encoded data removed]"
          },
          "metadata": {
            "needs_background": "light"
          }
        }
      ],
      "source": [
        "%matplotlib inline\n",
        "import matplotlib.pyplot as plt\n",
        "\n",
        "plt.scatter(X[:, 0], X[:, 1]);"
      ]
    },
    {
      "cell_type": "markdown",
      "metadata": {
        "id": "DryjPQNkJpcV"
      },
      "source": [
        "정수 배열 인덱싱을 이용하여 20개의 랜덤 포인트를 선택한다.\n",
        "먼저 랜덤 인덱스를 생성하고, 이것을 이용하여 랜덤 포인트를 샘플링한다."
      ]
    },
    {
      "cell_type": "code",
      "execution_count": null,
      "metadata": {
        "id": "i1Ja0qpcJpcV",
        "outputId": "3493488e-4659-4434-ce46-63a45153b26c",
        "colab": {
          "base_uri": "https://localhost:8080/"
        }
      },
      "outputs": [
        {
          "output_type": "execute_result",
          "data": {
            "text/plain": [
              "array([ 2, 44, 18, 68, 81, 95, 78, 15, 23, 50, 59, 85, 45, 58,  9, 11,  3,\n",
              "       77, 88,  0])"
            ]
          },
          "metadata": {},
          "execution_count": 24
        }
      ],
      "source": [
        "indices = np.random.choice(X.shape[0], 20, replace=False)\n",
        "indices"
      ]
    },
    {
      "cell_type": "code",
      "execution_count": null,
      "metadata": {
        "id": "62ed7zEPJpcV",
        "outputId": "b24625d9-0970-4614-d346-41a39642cbdd",
        "colab": {
          "base_uri": "https://localhost:8080/"
        }
      },
      "outputs": [
        {
          "output_type": "execute_result",
          "data": {
            "text/plain": [
              "(20, 2)"
            ]
          },
          "metadata": {},
          "execution_count": 25
        }
      ],
      "source": [
        "selection = X[indices]  # fancy indexing here\n",
        "selection.shape"
      ]
    },
    {
      "cell_type": "markdown",
      "metadata": {
        "id": "m5p6RcAHJpcV"
      },
      "source": [
        "선택된 점들을 시각화해보자. 선택된 점들은 빨간색으로 표시하였다."
      ]
    },
    {
      "cell_type": "code",
      "execution_count": null,
      "metadata": {
        "id": "_4SQn9MWJpcV",
        "outputId": "6130150e-ed7c-426e-95ae-3926bfa17c83",
        "colab": {
          "base_uri": "https://localhost:8080/",
          "height": 286
        }
      },
      "outputs": [
        {
          "output_type": "execute_result",
          "data": {
            "text/plain": [
              "<matplotlib.collections.PathCollection at 0x7fe8dc6d3e50>"
            ]
          },
          "metadata": {},
          "execution_count": 26
        },
        {
          "output_type": "display_data",
          "data": {
            "text/plain": [
              "<Figure size 432x288 with 1 Axes>"
            ],
            "image/png": "[encoded data removed]"
          },
          "metadata": {
            "needs_background": "light"
          }
        }
      ],
      "source": [
        "plt.scatter(X[:, 0], X[:, 1], alpha=0.3)\n",
        "plt.scatter(selection[:, 0], selection[:, 1], facecolor='red')"
      ]
    },
    {
      "cell_type": "markdown",
      "metadata": {
        "id": "kaE8dBGgL9id"
      },
      "source": [
        "### 불리언 배열 인덱싱(Boolean array indexing)\n",
        "\n",
        "불리언 배열 인덱싱을 통해 배열 속 요소를 취사선택할 수 있다. 불리언 배열 인덱싱은 특정 조건을 만족하게 하는 요소만 선택하고자 할 때 자주 사용된다."
      ]
    },
    {
      "cell_type": "code",
      "execution_count": null,
      "metadata": {
        "colab": {
          "base_uri": "https://localhost:8080/",
          "height": 68
        },
        "id": "32PusjtKL9id",
        "outputId": "9019fe77-9330-4628-c1c9-81652f28d0d3"
      },
      "outputs": [
        {
          "name": "stdout",
          "output_type": "stream",
          "text": [
            "[[False False]\n",
            " [ True  True]\n",
            " [ True  True]]\n"
          ]
        }
      ],
      "source": [
        "import numpy as np\n",
        "\n",
        "a = np.array([[1, 2],\n",
        "              [3, 4],\n",
        "              [5, 6]])\n",
        "\n",
        "bool_idx = (a > 2)  # Find the elements of a that are bigger than 2;\n",
        "                    # this returns a numpy array of Booleans of the same\n",
        "                    # shape as a, where each slot of bool_idx tells\n",
        "                    # whether that element of a is > 2.\n",
        "\n",
        "print(bool_idx)"
      ]
    },
    {
      "cell_type": "code",
      "execution_count": null,
      "metadata": {
        "colab": {
          "base_uri": "https://localhost:8080/",
          "height": 51
        },
        "id": "cb2IRMXaL9if",
        "outputId": "616607aa-c489-433a-913c-53f5cec42bdb"
      },
      "outputs": [
        {
          "name": "stdout",
          "output_type": "stream",
          "text": [
            "[3 4 5 6]\n",
            "[3 4 5 6]\n"
          ]
        }
      ],
      "source": [
        "# We use boolean array indexing to construct a rank 1 array\n",
        "# consisting of the elements of a corresponding to the True values\n",
        "# of bool_idx\n",
        "print(a[ bool_idx ])\n",
        "\n",
        "# We can do all of the above in a single concise statement:\n",
        "print(a[a > 2])"
      ]
    },
    {
      "cell_type": "markdown",
      "metadata": {
        "id": "TuB-fdhIL9ik"
      },
      "source": [
        "### 배열 연산(Array math)"
      ]
    },
    {
      "cell_type": "markdown",
      "metadata": {
        "id": "18e8V8elL9ik"
      },
      "source": [
        "Numpy 배열에 대한 사칙연산 등의 기본적인 수학 연산이나 함수는 배열의 각 요소별로(elementwise) 동작한다."
      ]
    },
    {
      "cell_type": "code",
      "execution_count": null,
      "metadata": {
        "colab": {
          "base_uri": "https://localhost:8080/"
        },
        "id": "gHKvBrSKL9il",
        "outputId": "937904dd-4b83-470e-ae9a-1541f1bb724a"
      },
      "outputs": [
        {
          "name": "stdout",
          "output_type": "stream",
          "text": [
            "[[ 6.  8.]\n",
            " [10. 12.]]\n",
            "[[ 6.  8.]\n",
            " [10. 12.]]\n"
          ]
        }
      ],
      "source": [
        "x = np.array([[1,2],[3,4]], dtype=np.float64)\n",
        "y = np.array([[5,6],[7,8]], dtype=np.float64)\n",
        "\n",
        "# Elementwise sum; both produce the array\n",
        "print(x + y)\n",
        "print(np.add(x, y))"
      ]
    },
    {
      "cell_type": "code",
      "execution_count": null,
      "metadata": {
        "colab": {
          "base_uri": "https://localhost:8080/",
          "height": 85
        },
        "id": "1fZtIAMxL9in",
        "outputId": "387018c8-08f4-4103-e857-3ed2cb2533c2"
      },
      "outputs": [
        {
          "name": "stdout",
          "output_type": "stream",
          "text": [
            "[[-4. -4.]\n",
            " [-4. -4.]]\n",
            "[[-4. -4.]\n",
            " [-4. -4.]]\n"
          ]
        }
      ],
      "source": [
        "# Elementwise difference; both produce the array\n",
        "print(x - y)\n",
        "print(np.subtract(x, y))"
      ]
    },
    {
      "cell_type": "code",
      "execution_count": null,
      "metadata": {
        "colab": {
          "base_uri": "https://localhost:8080/"
        },
        "id": "nil4AScML9io",
        "outputId": "b9b023d7-000a-4ff8-a066-e893d28dbe72"
      },
      "outputs": [
        {
          "name": "stdout",
          "output_type": "stream",
          "text": [
            "[[ 5. 12.]\n",
            " [21. 32.]]\n",
            "[[2. 4.]\n",
            " [6. 8.]]\n",
            "[[ 5. 12.]\n",
            " [21. 32.]]\n"
          ]
        }
      ],
      "source": [
        "# Elementwise product; both produce the array\n",
        "print(x * y)\n",
        "print(x * 2)\n",
        "print(np.multiply(x, y))\n",
        "\n",
        "# a = [1, 2, 3]\n",
        "# print(a * 2)"
      ]
    },
    {
      "cell_type": "code",
      "execution_count": null,
      "metadata": {
        "colab": {
          "base_uri": "https://localhost:8080/",
          "height": 85
        },
        "id": "0JoA4lH6L9ip",
        "outputId": "8ca00455-c168-4879-d761-a0f116edede9"
      },
      "outputs": [
        {
          "name": "stdout",
          "output_type": "stream",
          "text": [
            "[[0.2        0.33333333]\n",
            " [0.42857143 0.5       ]]\n",
            "[[0.2        0.33333333]\n",
            " [0.42857143 0.5       ]]\n"
          ]
        }
      ],
      "source": [
        "# Elementwise division; both produce the array\n",
        "# [[ 0.2         0.33333333]\n",
        "#  [ 0.42857143  0.5       ]]\n",
        "print(x / y)\n",
        "print(np.divide(x, y))"
      ]
    },
    {
      "cell_type": "code",
      "execution_count": null,
      "metadata": {
        "colab": {
          "base_uri": "https://localhost:8080/",
          "height": 51
        },
        "id": "g0iZuA6bL9ir",
        "outputId": "689e7b3c-bfa2-44d2-84d1-4526c1bdddf6"
      },
      "outputs": [
        {
          "name": "stdout",
          "output_type": "stream",
          "text": [
            "[[1.         1.41421356]\n",
            " [1.73205081 2.        ]]\n"
          ]
        }
      ],
      "source": [
        "# Elementwise square root; produces the array\n",
        "# [[ 1.          1.41421356]\n",
        "#  [ 1.73205081  2.        ]]\n",
        "print(np.sqrt(x))"
      ]
    },
    {
      "cell_type": "markdown",
      "metadata": {
        "id": "a5d_uujuL9it"
      },
      "source": [
        "즉, `*`은 행렬 곱이 아니라 요소별 곱이다. Numpy에선 벡터의 내적, 벡터와 행렬의 곱을 위해서는 `*`대신 ‘dot’함수를 사용해야 한다. ‘dot’은 Numpy 모듈 함수로서도 배열 객체의 인스턴스 메소드로서도 이용 가능하다."
      ]
    },
    {
      "cell_type": "code",
      "execution_count": null,
      "metadata": {
        "colab": {
          "base_uri": "https://localhost:8080/",
          "height": 102
        },
        "id": "I3FnmoSeL9iu",
        "outputId": "657051d7-9f37-4c5b-9447-681328b58a1a"
      },
      "outputs": [
        {
          "name": "stdout",
          "output_type": "stream",
          "text": [
            "[[19 22]\n",
            " [43 50]]\n",
            "[29 67]\n",
            "219\n",
            "219\n"
          ]
        }
      ],
      "source": [
        "x = np.array([[1,2],[3,4]])\n",
        "y = np.array([[5,6],[7,8]])\n",
        "\n",
        "v = np.array([9,10])\n",
        "w = np.array([11, 12])\n",
        "\n",
        "print(x.dot(y))\n",
        "print(x.dot(v))\n",
        "\n",
        "# Inner product of vectors; both produce 219\n",
        "print(v.dot(w))\n",
        "print(np.dot(v, w))"
      ]
    },
    {
      "cell_type": "markdown",
      "metadata": {
        "id": "vmxPbrHASVeA"
      },
      "source": [
        "`@`연산자는 numpy의 `dot` 연산자와 동일하다."
      ]
    },
    {
      "cell_type": "code",
      "execution_count": null,
      "metadata": {
        "colab": {
          "base_uri": "https://localhost:8080/",
          "height": 34
        },
        "id": "vyrWA-mXSdtt",
        "outputId": "2d641573-7179-4e4a-f699-652f1fcbee61"
      },
      "outputs": [
        {
          "name": "stdout",
          "output_type": "stream",
          "text": [
            "219\n"
          ]
        }
      ],
      "source": [
        "print(v @ w)"
      ]
    },
    {
      "cell_type": "code",
      "execution_count": null,
      "metadata": {
        "colab": {
          "base_uri": "https://localhost:8080/",
          "height": 68
        },
        "id": "zvUODeTxL9iw",
        "outputId": "62355304-7938-4bfd-b6a2-f0b2b17ea2b2"
      },
      "outputs": [
        {
          "name": "stdout",
          "output_type": "stream",
          "text": [
            "[29 67]\n",
            "[29 67]\n",
            "[29 67]\n"
          ]
        }
      ],
      "source": [
        "# Matrix / vector product; both produce the rank 1 array [29 67]\n",
        "print(x.dot(v))\n",
        "print(np.dot(x, v))\n",
        "print(x @ v)"
      ]
    },
    {
      "cell_type": "code",
      "execution_count": null,
      "metadata": {
        "colab": {
          "base_uri": "https://localhost:8080/",
          "height": 119
        },
        "id": "3V_3NzNEL9iy",
        "outputId": "e73d7397-bcb6-49a4-d595-12aee62a1342"
      },
      "outputs": [
        {
          "name": "stdout",
          "output_type": "stream",
          "text": [
            "[[19 22]\n",
            " [43 50]]\n",
            "[[19 22]\n",
            " [43 50]]\n",
            "[[19 22]\n",
            " [43 50]]\n"
          ]
        }
      ],
      "source": [
        "# Matrix / matrix product; both produce the rank 2 array\n",
        "# [[19 22]\n",
        "#  [43 50]]\n",
        "print(x.dot(y))\n",
        "print(np.dot(x, y))\n",
        "print(x @ y)"
      ]
    },
    {
      "cell_type": "markdown",
      "metadata": {
        "id": "FbE-1If_L9i0"
      },
      "source": [
        "Numpy는 `sum`, `max`, `min`, `mean`, `std` 등의 많은 유용한 함수들을 제공한다."
      ]
    },
    {
      "cell_type": "code",
      "execution_count": null,
      "metadata": {
        "colab": {
          "base_uri": "https://localhost:8080/"
        },
        "id": "DZUdZvPrL9i0",
        "outputId": "7f74a532-afa6-445a-a026-3a90e1762824"
      },
      "outputs": [
        {
          "name": "stdout",
          "output_type": "stream",
          "text": [
            "10\n",
            "[4 6]\n",
            "[3 7]\n"
          ]
        }
      ],
      "source": [
        "x = np.array([[1,2],\n",
        "              [3,4]])\n",
        "\n",
        "print(np.sum(x))  # Compute sum of all elements; prints \"10\"\n",
        "print(np.sum(x, axis=0))  # Compute sum of each column; prints \"[4 6]\"\n",
        "print(np.sum(x, axis=1))  # Compute sum of each row; prints \"[3 7]\""
      ]
    },
    {
      "cell_type": "code",
      "execution_count": null,
      "metadata": {
        "colab": {
          "base_uri": "https://localhost:8080/",
          "height": 153
        },
        "id": "B024rTWZ4gYa",
        "outputId": "4001ab33-255c-4fc1-f024-510f45dc03e3"
      },
      "outputs": [
        {
          "name": "stdout",
          "output_type": "stream",
          "text": [
            "4\n",
            "[2 4]\n",
            "1\n",
            "[1 2]\n",
            "2.5\n",
            "[2. 3.]\n",
            "1.118033988749895\n",
            "[0.5 0.5]\n"
          ]
        }
      ],
      "source": [
        "print(np.max(x))\n",
        "print(np.max(x, axis=1))\n",
        "print(np.min(x))\n",
        "print(np.min(x, axis=0))\n",
        "\n",
        "print(np.mean(x))\n",
        "print(np.mean(x, axis=0))\n",
        "\n",
        "print(np.std(x))\n",
        "print(np.std(x, axis=1))\n"
      ]
    },
    {
      "cell_type": "markdown",
      "metadata": {
        "id": "ahdVW4iUL9i3"
      },
      "source": [
        "행렬에서 자주 사용되는 연산의 하나는 전치행렬을 구하는 것이다. 행렬을 전치하기 위해선, 간단하게 배열 객체의 ‘T’ 속성을 사용하면 된다."
      ]
    },
    {
      "cell_type": "code",
      "execution_count": null,
      "metadata": {
        "colab": {
          "base_uri": "https://localhost:8080/",
          "height": 102
        },
        "id": "63Yl1f3oL9i3",
        "outputId": "75a85e27-547c-4f69-83da-0583b39e30bd"
      },
      "outputs": [
        {
          "name": "stdout",
          "output_type": "stream",
          "text": [
            "[[1 2]\n",
            " [3 4]]\n",
            "transpose\n",
            " [[1 3]\n",
            " [2 4]]\n"
          ]
        }
      ],
      "source": [
        "print(x)\n",
        "print(\"transpose\\n\", x.T)"
      ]
    },
    {
      "cell_type": "code",
      "execution_count": null,
      "metadata": {
        "colab": {
          "base_uri": "https://localhost:8080/",
          "height": 102
        },
        "id": "mkk03eNIL9i4",
        "outputId": "9fc41610-4546-430f-8e64-5c8c78cddb96"
      },
      "outputs": [
        {
          "name": "stdout",
          "output_type": "stream",
          "text": [
            "[[1 2 3]]\n",
            "transpose\n",
            " [[1]\n",
            " [2]\n",
            " [3]]\n"
          ]
        }
      ],
      "source": [
        "v = np.array([[1,2,3]])\n",
        "print(v )\n",
        "print(\"transpose\\n\", v.T)"
      ]
    },
    {
      "cell_type": "markdown",
      "metadata": {
        "id": "E1JSNaxBwbXa"
      },
      "source": [
        "### 요약(Aggregations): Min, Max 등"
      ]
    },
    {
      "cell_type": "markdown",
      "metadata": {
        "id": "vWTRk5pnwbXa"
      },
      "source": [
        "NumPy 배열은 다양한 요약(aggregation) 함수를 제공한다. 많은 양의 데이터에 대해서 평균, 표준편차 등의 기술적 통계를 살펴보는데 도움이 된다."
      ]
    },
    {
      "cell_type": "code",
      "execution_count": null,
      "metadata": {
        "id": "qSQAnVGiwbXc",
        "outputId": "d007a13f-b721-4526-aeea-cd39d604c49f",
        "colab": {
          "base_uri": "https://localhost:8080/"
        }
      },
      "outputs": [
        {
          "output_type": "execute_result",
          "data": {
            "text/plain": [
              "47.95910055827258"
            ]
          },
          "metadata": {},
          "execution_count": 27
        }
      ],
      "source": [
        "L = np.random.random(100)\n",
        "sum(L)"
      ]
    },
    {
      "cell_type": "code",
      "execution_count": null,
      "metadata": {
        "id": "weUF4XdbwbXd",
        "outputId": "0aea02bf-277d-421f-a111-19bcd7d65982",
        "colab": {
          "base_uri": "https://localhost:8080/"
        }
      },
      "outputs": [
        {
          "output_type": "execute_result",
          "data": {
            "text/plain": [
              "47.95910055827259"
            ]
          },
          "metadata": {},
          "execution_count": 28
        }
      ],
      "source": [
        "np.sum(L)"
      ]
    },
    {
      "cell_type": "markdown",
      "metadata": {
        "id": "w5uY7eaWwbXe"
      },
      "source": [
        "Python 자체가 제공하는 `sum` 등의 빌트인 함수에 비해 매우 효율적이다."
      ]
    },
    {
      "cell_type": "code",
      "execution_count": null,
      "metadata": {
        "id": "xh2-3jbPwbXe",
        "outputId": "07835424-6362-4300-9b85-97dda7297f6c",
        "colab": {
          "base_uri": "https://localhost:8080/"
        }
      },
      "outputs": [
        {
          "output_type": "stream",
          "name": "stdout",
          "text": [
            "The slowest run took 4.53 times longer than the fastest. This could mean that an intermediate result is being cached.\n",
            "179 ms ± 83.2 ms per loop (mean ± std. dev. of 7 runs, 10 loops each)\n",
            "444 µs ± 101 µs per loop (mean ± std. dev. of 7 runs, 1000 loops each)\n"
          ]
        }
      ],
      "source": [
        "big_array = np.random.rand(1000000)\n",
        "%timeit sum(big_array)\n",
        "%timeit np.sum(big_array)"
      ]
    },
    {
      "cell_type": "code",
      "execution_count": null,
      "metadata": {
        "id": "vTu6_MqVwbXf",
        "outputId": "4550cfe2-3b79-45a8-f602-8a3557f9466c",
        "colab": {
          "base_uri": "https://localhost:8080/"
        }
      },
      "outputs": [
        {
          "output_type": "execute_result",
          "data": {
            "text/plain": [
              "(2.3570765756986134e-06, 0.9999998613712157)"
            ]
          },
          "metadata": {},
          "execution_count": 30
        }
      ],
      "source": [
        "np.min(big_array), np.max(big_array)"
      ]
    },
    {
      "cell_type": "code",
      "execution_count": null,
      "metadata": {
        "id": "QXJI3yY-wbXf",
        "outputId": "720ad7f9-ccc0-4184-b474-bca446bc5463",
        "colab": {
          "base_uri": "https://localhost:8080/"
        }
      },
      "outputs": [
        {
          "output_type": "stream",
          "name": "stdout",
          "text": [
            "60.8 ms ± 1.2 ms per loop (mean ± std. dev. of 7 runs, 10 loops each)\n",
            "466 µs ± 17.2 µs per loop (mean ± std. dev. of 7 runs, 1000 loops each)\n"
          ]
        }
      ],
      "source": [
        "%timeit min(big_array)\n",
        "%timeit np.min(big_array)"
      ]
    },
    {
      "cell_type": "markdown",
      "metadata": {
        "id": "5L_qMB6TwbXf"
      },
      "source": [
        "``min``, ``max``, ``sum`` 등의 NumPy 함수들은 다음과 같이 좀 더 간명한 표현도 지원한다."
      ]
    },
    {
      "cell_type": "code",
      "execution_count": null,
      "metadata": {
        "id": "nws4frhbwbXg",
        "outputId": "a1bece87-cba3-4805-fcf0-820200c4037a",
        "colab": {
          "base_uri": "https://localhost:8080/"
        }
      },
      "outputs": [
        {
          "output_type": "stream",
          "name": "stdout",
          "text": [
            "1.7607437372557655e-06 0.9999990410109624 500027.28998925805\n"
          ]
        }
      ],
      "source": [
        "print(big_array.min(), big_array.max(), big_array.sum())"
      ]
    },
    {
      "cell_type": "markdown",
      "source": [
        "**다차원 배열의 경우**"
      ],
      "metadata": {
        "id": "Qgaoov6M1ePX"
      }
    },
    {
      "cell_type": "code",
      "execution_count": null,
      "metadata": {
        "id": "VbCQsvBBwbXg",
        "outputId": "d526325b-49f0-4a4a-e027-800535021d89",
        "colab": {
          "base_uri": "https://localhost:8080/"
        }
      },
      "outputs": [
        {
          "output_type": "stream",
          "name": "stdout",
          "text": [
            "[[0.18216473 0.76620383 0.19081788 0.03251326]\n",
            " [0.50854411 0.30724075 0.25941316 0.78632929]\n",
            " [0.06599357 0.28151237 0.1003713  0.17446613]]\n"
          ]
        }
      ],
      "source": [
        "M = np.random.random((3, 4))\n",
        "print(M)"
      ]
    },
    {
      "cell_type": "markdown",
      "source": [
        "요약 연산을 수행할 축을 지정하지 않으면 배열 전체에 대개서 이루어진다."
      ],
      "metadata": {
        "id": "rL2a55hx1kM1"
      }
    },
    {
      "cell_type": "code",
      "execution_count": null,
      "metadata": {
        "id": "U998WTo8wbXh",
        "outputId": "bb38570e-e2b8-45ce-ee21-6b256c6ee50f",
        "colab": {
          "base_uri": "https://localhost:8080/"
        }
      },
      "outputs": [
        {
          "output_type": "stream",
          "name": "stdout",
          "text": [
            "3.6555703802460853\n",
            "0.3046308650205071\n",
            "0.032513263359063904\n",
            "0.7863292903056448\n"
          ]
        }
      ],
      "source": [
        "print(M.sum())\n",
        "print(M.mean())\n",
        "print(M.min())\n",
        "print(M.max())"
      ]
    },
    {
      "cell_type": "markdown",
      "metadata": {
        "id": "j-QG3FW2wbXh"
      },
      "source": [
        "요약을 수행할 축(axis)을 지정할 수 있다.  "
      ]
    },
    {
      "cell_type": "code",
      "execution_count": null,
      "metadata": {
        "id": "5Yu1dD3QwbXh",
        "outputId": "3b8a5029-bfff-4c92-bb76-4620dc53d235",
        "colab": {
          "base_uri": "https://localhost:8080/"
        }
      },
      "outputs": [
        {
          "output_type": "stream",
          "name": "stdout",
          "text": [
            "[0.06599357 0.28151237 0.1003713  0.03251326]\n",
            "[0.50854411 0.76620383 0.25941316 0.78632929]\n",
            "[0.25223414 0.45165232 0.18353411 0.33110289]\n"
          ]
        }
      ],
      "source": [
        "print(M.min(axis=0))\n",
        "print(M.max(axis=0))\n",
        "print(M.mean(axis=0))"
      ]
    },
    {
      "cell_type": "code",
      "execution_count": null,
      "metadata": {
        "id": "lZLPRBC_wbXh",
        "outputId": "c9b278e7-370a-4d5f-d8c1-ec75d4511419",
        "colab": {
          "base_uri": "https://localhost:8080/"
        }
      },
      "outputs": [
        {
          "output_type": "stream",
          "name": "stdout",
          "text": [
            "[0.03251326 0.25941316 0.06599357]\n",
            "[0.76620383 0.78632929 0.28151237]\n",
            "[0.29292493 0.46538183 0.15558584]\n"
          ]
        }
      ],
      "source": [
        "print(M.min(axis=1))\n",
        "print(M.max(axis=1))\n",
        "print(M.mean(axis=1))"
      ]
    },
    {
      "cell_type": "markdown",
      "metadata": {
        "id": "oISqiwH9wbXh"
      },
      "source": [
        "**다른 요약 함수들**\n",
        "\n",
        "|Function Name      |  Description        |\n",
        "|-------------------|---------------------|\n",
        "| ``np.sum``        | Compute sum of elements                       |\n",
        "| ``np.prod``       | Compute product of elements                   |\n",
        "| ``np.mean``       | Compute mean of elements                      |\n",
        "| ``np.std``        | Compute standard deviation                    |\n",
        "| ``np.var``        | Compute variance                              |\n",
        "| ``np.min``        | Find minimum value                            |\n",
        "| ``np.max``        | Find maximum value                            |\n",
        "| ``np.argmin``     | Find index of minimum value                   |\n",
        "| ``np.argmax``     | Find index of maximum value                   |\n",
        "| ``np.median``     | Compute median of elements                    |\n",
        "| ``np.percentile`` | Compute rank-based statistics of elements     |\n",
        "| ``np.any``        | Evaluate whether any elements are true        |\n",
        "| ``np.all``        | Evaluate whether all elements are true        |\n"
      ]
    },
    {
      "cell_type": "markdown",
      "metadata": {
        "id": "REfLrUTcL9i7"
      },
      "source": [
        "### Broadcasting"
      ]
    },
    {
      "cell_type": "markdown",
      "metadata": {
        "id": "EygGAMWqL9i7"
      },
      "source": [
        "브로트캐스팅은 Numpy에서 shape이 다른 배열 간에도 산술 연산이 가능하게 하는 메커니즘이다. 종종 작은 배열과 큰 배열이 있을 때, 큰 배열을 대상으로 작은 배열을 여러 번 연산하고자 할 때가 있다. 예를 들어, 배열의 모든 원소에 스칼라 값을 더하거나 곱하거나, 혹은 행렬의 각 행에 상수 벡터를 더하고 싶은 경우 등이 있다."
      ]
    },
    {
      "cell_type": "markdown",
      "metadata": {
        "id": "zHos6RJnL9jB"
      },
      "source": [
        "Numpy 브로드캐스팅을 이용한다면 다음과 같이 간단하게 할 수 있다."
      ]
    },
    {
      "cell_type": "code",
      "execution_count": null,
      "metadata": {
        "colab": {
          "base_uri": "https://localhost:8080/"
        },
        "id": "vnYFb-gYL9jC",
        "outputId": "9e145401-fb97-421d-8be7-81ff8dc50b08"
      },
      "outputs": [
        {
          "name": "stdout",
          "output_type": "stream",
          "text": [
            "[[ 3  4  5]\n",
            " [ 6  7  8]\n",
            " [ 9 10 11]\n",
            " [12 13 14]]\n",
            "[[ 2  4  6]\n",
            " [ 8 10 12]\n",
            " [14 16 18]\n",
            " [20 22 24]]\n",
            "[[ 2  2  5]\n",
            " [ 5  5  8]\n",
            " [ 8  8 11]\n",
            " [11 11 14]]\n"
          ]
        }
      ],
      "source": [
        "import numpy as np\n",
        "\n",
        "# We will add the vector v to each row of the matrix x,\n",
        "# storing the result in the matrix y\n",
        "x = np.array([[1,2,3], [4,5,6], [7,8,9], [10, 11, 12]])\n",
        "print(x + 2)      # add a scalar to an array\n",
        "print(x * 2)      # multiply a scalar\n",
        "\n",
        "v = np.array([1, 0, 2])\n",
        "y = x + v         # Add v to each row of x using broadcasting\n",
        "print(y)"
      ]
    },
    {
      "cell_type": "markdown",
      "metadata": {
        "id": "08YyIURKL9jH"
      },
      "source": [
        "`x`의 `shape`이 `(4, 3)`이고 `v`의 `shape`이 `(3,)`이라도 브로드캐스팅으로 인해 `y = x + v`는 문제없이 수행된다; 이때 `v`는 `v`의 복사본이 차곡차곡 쌓인 `shape` `(4, 3)`처럼 간주되어 `x`와 동일한 `shape`이 되며 이들 간의 요소별 덧셈연산의 결과가 `y`에 저장된다.\n",
        "\n",
        "두 배열의 브로드캐스팅은 아래의 규칙을 따른다:\n",
        "\n",
        "1. 두 배열이 동일한 rank를 가지고 있지 않다면, 낮은 rank의 배열의 shape앞에 1을 연속적으로 추가하여 두 배열의 rank를 동일하게 만든다.\n",
        "2. 특정 차원에서 두 배열이 동일한 크기를 갖거나, 두 배열 중 하나의 크기가 1이라면 그 두 배열은 그 차원에서 compatible하다고 한다.\n",
        "3. 두 행렬이 모든 차원에서 compatible하다면, 브로드캐스팅이 가능하다.\n",
        "4. 브로드캐스팅이 이뤄지면, 두 배열 shape의 요소별 최대값으로 이루어진 shape이 두 배열의 shape으로 간주된다.\n",
        "5. 차원에 상관없이 크기가 1인 배열과 1보다 큰 배열이 있을 때, 크기가 1인 배열은 자신의 차원 수만큼 복사되어 쌓인 것처럼 간주한다.\n",
        "\n",
        "더 자세한 설명은 [scipy문서](http://docs.scipy.org/doc/numpy/user/basics.broadcasting.html)나 [scipy위키](http://wiki.scipy.org/EricsBroadcastingDoc)를 참조하라."
      ]
    },
    {
      "cell_type": "markdown",
      "metadata": {
        "id": "tEINf4bEL9jR"
      },
      "source": [
        "##Matplotlib"
      ]
    },
    {
      "cell_type": "markdown",
      "metadata": {
        "id": "0hgVWLaXL9jR"
      },
      "source": [
        "Matplotlib는 **plotting 라이브러리**이다. 여기서는 `matplotlib.pyplot` 모듈에 관한 간략하게 소개한다. 먼저 아래와 같이 `import`한다."
      ]
    },
    {
      "cell_type": "code",
      "execution_count": null,
      "metadata": {
        "id": "cmh_7c6KL9jR"
      },
      "outputs": [],
      "source": [
        "import matplotlib.pyplot as plt"
      ]
    },
    {
      "cell_type": "markdown",
      "metadata": {
        "id": "jOsaA5hGL9jS"
      },
      "source": [
        "다음과 같이 특별한 iPython command를 실행함으로써 Jupyter Notebook이나 Colab에서 inline으로 챠트들을 디스플레이할 수 있다."
      ]
    },
    {
      "cell_type": "code",
      "execution_count": null,
      "metadata": {
        "id": "ijpsmwGnL9jT"
      },
      "outputs": [],
      "source": [
        "%matplotlib inline"
      ]
    },
    {
      "cell_type": "markdown",
      "metadata": {
        "id": "U5Z_oMoLL9jV"
      },
      "source": [
        "###Plotting"
      ]
    },
    {
      "cell_type": "markdown",
      "metadata": {
        "id": "6QyFJ7dhL9jV"
      },
      "source": [
        " `matplotlib`에서 가장 중요한 기능은 2차원 데이터를 그래프로 그릴 수 있게 해주는 `plot`이다."
      ]
    },
    {
      "cell_type": "code",
      "execution_count": null,
      "metadata": {
        "colab": {
          "base_uri": "https://localhost:8080/",
          "height": 701
        },
        "id": "pua52BGeL9jW",
        "outputId": "ef46362b-32da-4475-e2cb-7694cb224e05"
      },
      "outputs": [
        {
          "name": "stdout",
          "output_type": "stream",
          "text": [
            "[0.  0.1 0.2 0.3 0.4 0.5 0.6 0.7 0.8 0.9 1.  1.1 1.2 1.3 1.4 1.5 1.6 1.7\n",
            " 1.8 1.9 2.  2.1 2.2 2.3 2.4 2.5 2.6 2.7 2.8 2.9 3.  3.1 3.2 3.3 3.4 3.5\n",
            " 3.6 3.7 3.8 3.9 4.  4.1 4.2 4.3 4.4 4.5 4.6 4.7 4.8 4.9 5.  5.1 5.2 5.3\n",
            " 5.4 5.5 5.6 5.7 5.8 5.9 6.  6.1 6.2 6.3 6.4 6.5 6.6 6.7 6.8 6.9 7.  7.1\n",
            " 7.2 7.3 7.4 7.5 7.6 7.7 7.8 7.9 8.  8.1 8.2 8.3 8.4 8.5 8.6 8.7 8.8 8.9\n",
            " 9.  9.1 9.2 9.3 9.4]\n",
            "[ 0.          0.09983342  0.19866933  0.29552021  0.38941834  0.47942554\n",
            "  0.56464247  0.64421769  0.71735609  0.78332691  0.84147098  0.89120736\n",
            "  0.93203909  0.96355819  0.98544973  0.99749499  0.9995736   0.99166481\n",
            "  0.97384763  0.94630009  0.90929743  0.86320937  0.8084964   0.74570521\n",
            "  0.67546318  0.59847214  0.51550137  0.42737988  0.33498815  0.23924933\n",
            "  0.14112001  0.04158066 -0.05837414 -0.15774569 -0.2555411  -0.35078323\n",
            " -0.44252044 -0.52983614 -0.61185789 -0.68776616 -0.7568025  -0.81827711\n",
            " -0.87157577 -0.91616594 -0.95160207 -0.97753012 -0.993691   -0.99992326\n",
            " -0.99616461 -0.98245261 -0.95892427 -0.92581468 -0.88345466 -0.83226744\n",
            " -0.77276449 -0.70554033 -0.63126664 -0.55068554 -0.46460218 -0.37387666\n",
            " -0.2794155  -0.1821625  -0.0830894   0.0168139   0.1165492   0.21511999\n",
            "  0.31154136  0.40484992  0.49411335  0.57843976  0.6569866   0.72896904\n",
            "  0.79366786  0.85043662  0.8987081   0.93799998  0.96791967  0.98816823\n",
            "  0.99854335  0.99894134  0.98935825  0.96988981  0.94073056  0.90217183\n",
            "  0.85459891  0.79848711  0.7343971   0.66296923  0.58491719  0.50102086\n",
            "  0.41211849  0.31909836  0.22288991  0.12445442  0.02477543]\n"
          ]
        },
        {
          "data": {
            "text/plain": [
              "[<matplotlib.lines.Line2D at 0x7f75cfe95210>]"
            ]
          },
          "execution_count": 15,
          "metadata": {},
          "output_type": "execute_result"
        },
        {
          "data": {
            "image/png": "[encoded data removed]",
            "text/plain": [
              "<Figure size 432x288 with 1 Axes>"
            ]
          },
          "metadata": {
            "needs_background": "light"
          },
          "output_type": "display_data"
        }
      ],
      "source": [
        "import numpy as np\n",
        "# Compute the x and y coordinates for points on a sine curve\n",
        "x = np.arange(0, 3 * np.pi, 0.1)\n",
        "print(x)\n",
        "y = np.sin(x)\n",
        "print(y)\n",
        "\n",
        "# Plot the points using matplotlib\n",
        "plt.plot(x, y)"
      ]
    },
    {
      "cell_type": "markdown",
      "metadata": {
        "id": "9W2VAcLiL9jX"
      },
      "source": [
        "아래와 같이 여러 개의 함수를 한 번에 디스플레이 할 수 있다. 또한 타이틀이나 범례(legend)를 달거나 축 라벨(axis label)을 붙일 수도 있다."
      ]
    },
    {
      "cell_type": "code",
      "execution_count": null,
      "metadata": {
        "colab": {
          "base_uri": "https://localhost:8080/",
          "height": 314
        },
        "id": "TfCQHJ5AL9jY",
        "outputId": "e710ab1f-44ca-45fe-9879-8d93f6a2cc2d"
      },
      "outputs": [
        {
          "data": {
            "text/plain": [
              "<matplotlib.legend.Legend at 0x7f75c94442d0>"
            ]
          },
          "execution_count": 16,
          "metadata": {},
          "output_type": "execute_result"
        },
        {
          "data": {
            "image/png": "[encoded data removed]",
            "text/plain": [
              "<Figure size 432x288 with 1 Axes>"
            ]
          },
          "metadata": {
            "needs_background": "light"
          },
          "output_type": "display_data"
        }
      ],
      "source": [
        "y_sin = np.sin(x)\n",
        "y_cos = np.cos(x)\n",
        "\n",
        "# Plot the points using matplotlib\n",
        "plt.plot(x, y_sin)\n",
        "plt.plot(x, y_cos)\n",
        "plt.xlabel('x axis label')\n",
        "plt.ylabel('y axis label')\n",
        "plt.title('Sine and Cosine')\n",
        "plt.legend(['Sine', 'Cosine'])"
      ]
    },
    {
      "cell_type": "markdown",
      "metadata": {
        "id": "R5IeAY03L9ja"
      },
      "source": [
        "###Subplots"
      ]
    },
    {
      "cell_type": "markdown",
      "metadata": {
        "id": "CfUzwJg0L9ja"
      },
      "source": [
        "`subplot`함수를 통해 하나의 그림 위에 여러 개의 차트를 나타낼 수 있다."
      ]
    },
    {
      "cell_type": "code",
      "execution_count": null,
      "metadata": {
        "colab": {
          "base_uri": "https://localhost:8080/",
          "height": 281
        },
        "id": "dM23yGH9L9ja",
        "outputId": "2b46670c-5dd3-4a1b-d28a-9964c9fb0897"
      },
      "outputs": [
        {
          "data": {
            "image/png": "[encoded data removed]",
            "text/plain": [
              "<Figure size 432x288 with 2 Axes>"
            ]
          },
          "metadata": {
            "needs_background": "light"
          },
          "output_type": "display_data"
        }
      ],
      "source": [
        "# Compute the x and y coordinates for points on sine and cosine curves\n",
        "x = np.arange(0, 3 * np.pi, 0.1)\n",
        "y_sin = np.sin(x)\n",
        "y_cos = np.cos(x)\n",
        "\n",
        "# Set up a subplot grid that has height 2 and width 1,\n",
        "# and set the first such subplot as active.\n",
        "plt.subplot(2, 1, 1)\n",
        "\n",
        "# Make the first plot\n",
        "plt.plot(x, y_sin)\n",
        "plt.title('Sine')\n",
        "\n",
        "# Set the second subplot as active, and make the second plot.\n",
        "plt.subplot(2, 1, 2)\n",
        "plt.plot(x, y_cos)\n",
        "plt.title('Cosine')\n",
        "\n",
        "# Show the figure.\n",
        "plt.show()"
      ]
    },
    {
      "cell_type": "markdown",
      "metadata": {
        "id": "gLtsST5SL9jc"
      },
      "source": [
        "`subplot` 함수에 대한 자세한 설명은 [문서](http://matplotlib.org/api/pyplot_api.html#matplotlib.pyplot.subplot)를 참조하라."
      ]
    },
    {
      "cell_type": "markdown",
      "metadata": {
        "id": "BeMxXWs9v4v0"
      },
      "source": [
        "### 이미지(image) 디스플레이 하기\n",
        "\n",
        "`pyplotlib`의 `imshow`함수를 사용해 이미지를 디스플레이 할 수 있다."
      ]
    },
    {
      "cell_type": "code",
      "execution_count": null,
      "metadata": {
        "colab": {
          "base_uri": "https://localhost:8080/"
        },
        "id": "sfGNUShyQAaa",
        "outputId": "d7901f6f-25ad-4448-fb6f-bf31a2d7b0b1"
      },
      "outputs": [
        {
          "name": "stdout",
          "output_type": "stream",
          "text": [
            "Mounted at /content/drive\n"
          ]
        }
      ],
      "source": [
        "from google.colab import drive\n",
        "drive.mount('/content/drive')"
      ]
    },
    {
      "cell_type": "code",
      "execution_count": null,
      "metadata": {
        "colab": {
          "base_uri": "https://localhost:8080/",
          "height": 192
        },
        "id": "YoaO6n-Pv-dS",
        "outputId": "6cba5a19-8e11-4dae-c27e-ca512ba881b0"
      },
      "outputs": [
        {
          "name": "stdout",
          "output_type": "stream",
          "text": [
            "<class 'numpy.ndarray'>\n",
            "(187, 269, 3)\n"
          ]
        },
        {
          "data": {
            "image/png": "[encoded data removed]",
            "text/plain": [
              "<Figure size 432x288 with 2 Axes>"
            ]
          },
          "metadata": {
            "needs_background": "light"
          },
          "output_type": "display_data"
        }
      ],
      "source": [
        "import numpy as np\n",
        "# from scipy.misc import imread, imresize\n",
        "import matplotlib.pyplot as plt\n",
        "from matplotlib.pyplot import imread\n",
        "\n",
        "img = imread('/content/drive/MyDrive/DataScience2022/chap02/cat.jpg')\n",
        "print(type(img))\n",
        "print(img.shape)\n",
        "\n",
        "img_tinted = img * [1, 0.95, 0.9]\n",
        "\n",
        "# 원본 이미지 나타내기\n",
        "plt.subplot(1, 2, 1)\n",
        "plt.imshow(img)\n",
        "\n",
        "# 색변화된 이미지 나타내기\n",
        "plt.subplot(1, 2, 2)\n",
        "\n",
        "# imshow를 이용하며 주의할 점은 데이터의 자료형이\n",
        "# uint8이 아니라면 이상한 결과를 보여줄 수도 있다는 것이다.\n",
        "# 그러므로 이미지를 나타내기 전에 명시적으로 자료형을 uint8로 형변환 해준다.\n",
        "\n",
        "plt.imshow(np.uint8(img_tinted))\n",
        "plt.show()"
      ]
    },
    {
      "cell_type": "code",
      "execution_count": null,
      "metadata": {
        "colab": {
          "base_uri": "https://localhost:8080/",
          "height": 269
        },
        "id": "o8m4oz-LRkoM",
        "outputId": "f2c3c561-cb59-4f84-a3bd-04936cbde2cd"
      },
      "outputs": [
        {
          "data": {
            "image/png": "[encoded data removed]",
            "text/plain": [
              "<Figure size 432x288 with 1 Axes>"
            ]
          },
          "metadata": {
            "needs_background": "light"
          },
          "output_type": "display_data"
        }
      ],
      "source": [
        "from PIL import Image\n",
        "from urllib.request import urlopen\n",
        "\n",
        "# url = 'https://newevolutiondesigns.com/images/freebies/colorful-background-14.jpg'\n",
        "url = 'https://github.com/ohheum/DS2020/blob/master/assets/cat.jpg?raw=true'\n",
        "img = Image.open(urlopen(url))\n",
        "plt.imshow(img)\n",
        "plt.show()\n"
      ]
    }
  ],
  "metadata": {
    "colab": {
      "provenance": []
    },
    "kernelspec": {
      "display_name": "Python 3",
      "language": "python",
      "name": "python3"
    },
    "language_info": {
      "codemirror_mode": {
        "name": "ipython",
        "version": 3
      },
      "file_extension": ".py",
      "mimetype": "text/x-python",
      "name": "python",
      "nbconvert_exporter": "python",
      "pygments_lexer": "ipython3",
      "version": "3.8.13"
    }
  },
  "nbformat": 4,
  "nbformat_minor": 0
}