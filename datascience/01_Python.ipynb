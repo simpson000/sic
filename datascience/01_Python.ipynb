{
  "cells": [
    {
      "cell_type": "markdown",
      "metadata": {
        "id": "dzNng6vCL9eP"
      },
      "source": [
        "# **Python 기초**"
      ]
    },
    {
      "cell_type": "markdown",
      "metadata": {
        "id": "0vJLt3JRL9eR"
      },
      "source": [
        "이 수업에서는 Python에 대해서 다음과 같은 내용을 다룬다.\n",
        "\n",
        "  - 기본 데이터 타입과 연산\n",
        "  - 컨테이너(container): `List`, `Dictionary`, `Set`, `Tuple`\n",
        "  - 함수(function)와 클래스(class)\n",
        "  \n",
        "커맨드라인에 다음의 명령어로 현재 시스템에 설치된 파이썬 버전을 확인할 수 있음: `python --version`"
      ]
    },
    {
      "cell_type": "code",
      "source": [
        "!python --version"
      ],
      "metadata": {
        "colab": {
          "base_uri": "https://localhost:8080/"
        },
        "id": "jvq0__AHY7Kq",
        "outputId": "cf8eb49c-8eaf-4da2-cc23-655885db4ea2"
      },
      "execution_count": null,
      "outputs": [
        {
          "output_type": "stream",
          "name": "stdout",
          "text": [
            "Python 3.8.10\n"
          ]
        }
      ]
    },
    {
      "cell_type": "markdown",
      "metadata": {
        "id": "NwS_hu4xL9eo"
      },
      "source": [
        "## 기본 데이터 타입\n",
        "\n",
        "다른 프로그래밍 언어들처럼 파이썬에도 정수, 실수, 불리언, 문자열 같은 기본 자료형이 있다."
      ]
    },
    {
      "cell_type": "markdown",
      "metadata": {
        "id": "DL5sMSZ9L9eq"
      },
      "source": [
        "#### Numbers"
      ]
    },
    {
      "cell_type": "markdown",
      "metadata": {
        "id": "MGS0XEWoL9er"
      },
      "source": [
        "파이썬의 정수형(Integers)과 실수형(floats) 데이터 타입은 다른 언어와 거의 유사하다.\n",
        "\n",
        "\n",
        "\n"
      ]
    },
    {
      "cell_type": "code",
      "execution_count": null,
      "metadata": {
        "colab": {
          "base_uri": "https://localhost:8080/"
        },
        "id": "KheDr_zDL9es",
        "outputId": "a9dbe390-c03d-4c62-e6cc-f6dd9e701798"
      },
      "outputs": [
        {
          "output_type": "stream",
          "name": "stdout",
          "text": [
            "<class 'int'>\n"
          ]
        }
      ],
      "source": [
        "x = 3\n",
        "print(type(x))     # Python의 built-in 함수인 `type`함수를 이용하여 데이터의 타입을 확인할 수 있다."
      ]
    },
    {
      "cell_type": "code",
      "execution_count": null,
      "metadata": {
        "colab": {
          "base_uri": "https://localhost:8080/"
        },
        "id": "sk_8DFcuL9ey",
        "outputId": "73b8db3a-6f73-4a89-e80c-584149aa89de"
      },
      "outputs": [
        {
          "output_type": "stream",
          "name": "stdout",
          "text": [
            "4\n",
            "2\n",
            "6\n",
            "27\n"
          ]
        }
      ],
      "source": [
        "print(x + 1)   # Addition\n",
        "print(x - 1)   # Subtraction\n",
        "print(x * 2)   # Multiplication\n",
        "print(x ** 3)  # Exponentiation"
      ]
    },
    {
      "cell_type": "code",
      "execution_count": null,
      "metadata": {
        "colab": {
          "base_uri": "https://localhost:8080/"
        },
        "id": "U4Jl8K0tL9e4",
        "outputId": "0fe7d939-4beb-463b-d8cb-54a73010ca83"
      },
      "outputs": [
        {
          "output_type": "stream",
          "name": "stdout",
          "text": [
            "4\n",
            "8\n"
          ]
        }
      ],
      "source": [
        "x += 1\n",
        "print(x)\n",
        "x *= 2\n",
        "print(x)"
      ]
    },
    {
      "cell_type": "code",
      "execution_count": null,
      "metadata": {
        "colab": {
          "base_uri": "https://localhost:8080/"
        },
        "id": "w-nZ0Sg_L9e9",
        "outputId": "b6f165e9-ac2d-4fe8-b3a5-92cb5e0174b4"
      },
      "outputs": [
        {
          "output_type": "stream",
          "name": "stdout",
          "text": [
            "<class 'float'>\n",
            "2.5 3.5 5.0 6.25\n",
            "2\n",
            "8.0\n",
            "0.25\n",
            "0\n",
            "2\n"
          ]
        }
      ],
      "source": [
        "y = 2.5\n",
        "print(type(y))\n",
        "print(y, y + 1, y * 2, y ** 2)\n",
        "\n",
        "print(int(y))       # 정수로 타입 캐스팅    (int)y\n",
        "print(float(x))     # 실수로 타입 캐스팅\n",
        "\n",
        "print(int(y)/x)     # 피연산자가 둘 다 정수지만 결과는 실수이다.\n",
        "print((int(y)//x))  # //는 몫을 구하는 연산이다.\n",
        "print(int(y) % x)   # %는 나머지를 구하는 연산이다."
      ]
    },
    {
      "cell_type": "markdown",
      "metadata": {
        "id": "r2A9ApyaL9fB"
      },
      "source": [
        "Python에는\n",
        "\n",
        "- 증감 단항연산자(`x++`, `x--`)가 없으며,\n",
        "- 지수연산자 `**`가 제공된다.\n",
        "- 또한 Python 3에서는 나눗셈에서 피연산자가 모두 정수인 경우에도 결과는 실수가 된다.\n",
        "- 몫을 구하는 연산자는 `//`이며, 나머지 연산자는 `%`이다.\n",
        "- 파이썬은 long 정수형과 복소수 데이터 타입도 지원한다. 자세한 사항은 [문서](https://docs.python.org/3.7/library/stdtypes.html#numeric-types-int-float-long-complex)를 참조하라."
      ]
    },
    {
      "cell_type": "markdown",
      "metadata": {
        "id": "EqRS7qhBL9fC"
      },
      "source": [
        "#### Booleans"
      ]
    },
    {
      "cell_type": "markdown",
      "metadata": {
        "id": "Nv_LIVOJL9fD"
      },
      "source": [
        "논리연산자는 기호(`&&`, `||`, `~`) 대신 영어 단어(`and`, `or`, `not`)를 사용한다."
      ]
    },
    {
      "cell_type": "code",
      "execution_count": null,
      "metadata": {
        "colab": {
          "base_uri": "https://localhost:8080/"
        },
        "id": "RvoImwgGL9fE",
        "outputId": "faf0aefd-76da-479c-b751-c99bb176e256"
      },
      "outputs": [
        {
          "output_type": "stream",
          "name": "stdout",
          "text": [
            "True\n",
            "<class 'bool'>\n"
          ]
        }
      ],
      "source": [
        "t, f = True, False    # 이렇게 동시에 여러 변수에 치환할 수 있다.\n",
        "print(t)\n",
        "print(type(t))"
      ]
    },
    {
      "cell_type": "code",
      "execution_count": null,
      "metadata": {
        "colab": {
          "base_uri": "https://localhost:8080/"
        },
        "id": "6zYm7WzCL9fK",
        "outputId": "9039c057-cfa7-4ef7-b8fc-72b657d46609"
      },
      "outputs": [
        {
          "output_type": "stream",
          "name": "stdout",
          "text": [
            "False\n",
            "True\n",
            "False\n",
            "True\n"
          ]
        }
      ],
      "source": [
        "print(t and f) # Logical AND;\n",
        "print(t or f)  # Logical OR;\n",
        "print(not t)   # Logical NOT;\n",
        "print(t != f)  # Logical XOR;"
      ]
    },
    {
      "cell_type": "markdown",
      "metadata": {
        "id": "UQnQWFEyL9fP"
      },
      "source": [
        "#### Strings\n",
        "파이썬은 문자열을 표현하고 처리하는 다양한 기능을 지원한다:"
      ]
    },
    {
      "cell_type": "code",
      "execution_count": null,
      "metadata": {
        "colab": {
          "base_uri": "https://localhost:8080/"
        },
        "id": "AijEDtPFL9fP",
        "outputId": "951fffb8-cf59-415c-9657-0a7309fc4ac7"
      },
      "outputs": [
        {
          "output_type": "stream",
          "name": "stdout",
          "text": [
            "it's\n",
            "hello 5\n"
          ]
        }
      ],
      "source": [
        "word = \"it's\"\n",
        "print(word)\n",
        "hello = 'hello'   # String literals can use single quotes\n",
        "world = \"world\"   # or double quotes; it does not matter\n",
        "print(hello, len(hello))"
      ]
    },
    {
      "cell_type": "code",
      "execution_count": null,
      "metadata": {
        "colab": {
          "base_uri": "https://localhost:8080/"
        },
        "id": "saDeaA7hL9fT",
        "outputId": "76da411b-5099-48f6-d408-522a572cf4f1"
      },
      "outputs": [
        {
          "output_type": "stream",
          "name": "stdout",
          "text": [
            "hello world\n"
          ]
        }
      ],
      "source": [
        "hw = hello + ' ' + world  # String concatenation\n",
        "print(hw)"
      ]
    },
    {
      "cell_type": "code",
      "execution_count": null,
      "metadata": {
        "colab": {
          "base_uri": "https://localhost:8080/"
        },
        "id": "Nji1_UjYL9fY",
        "outputId": "9e03d22a-fbac-4710-dca2-2771ba273b73"
      },
      "outputs": [
        {
          "output_type": "stream",
          "name": "stdout",
          "text": [
            "John is a 12 years old boy.\n"
          ]
        }
      ],
      "source": [
        "age = 12\n",
        "str = '{} is a {} years old boy.'.format('John', age)\n",
        "print(str)"
      ]
    },
    {
      "cell_type": "markdown",
      "metadata": {
        "id": "bUpl35bIL9fc"
      },
      "source": [
        "문자열 객체에는 유용한 메소드들이 많다; 예를 들어:"
      ]
    },
    {
      "cell_type": "code",
      "execution_count": null,
      "metadata": {
        "colab": {
          "base_uri": "https://localhost:8080/"
        },
        "id": "VOxGatlsL9fd",
        "outputId": "89e04d98-51bc-499e-b214-30d5e5a65ba2"
      },
      "outputs": [
        {
          "output_type": "stream",
          "name": "stdout",
          "text": [
            "Hello\n",
            "HELLO\n",
            "he(ell)(ell)o\n",
            "hello world\n"
          ]
        }
      ],
      "source": [
        "s = \"hello\"\n",
        "print(s.capitalize())  # Capitalize a string\n",
        "print(s.upper())       # Convert a string to uppercase; prints \"HELLO\"\n",
        "print(s.replace('l', '(ell)'))  # Replace all instances of one substring with another\n",
        "print('  hello world '.strip())  # Strip leading and trailing whitespace"
      ]
    },
    {
      "cell_type": "markdown",
      "metadata": {
        "id": "SUKm48sjOLK-"
      },
      "source": [
        "문자열 내에서 substring을 검색하는 다양한 메서드들을 제공한다."
      ]
    },
    {
      "cell_type": "code",
      "execution_count": null,
      "metadata": {
        "id": "65CwsxcQNbU2",
        "colab": {
          "base_uri": "https://localhost:8080/",
          "height": 308
        },
        "outputId": "6ad64270-7d2b-4132-a62d-85ed208e7eee"
      },
      "outputs": [
        {
          "output_type": "stream",
          "name": "stdout",
          "text": [
            "hello\n",
            "True\n",
            "1\n",
            "-1\n",
            "1\n"
          ]
        },
        {
          "output_type": "error",
          "ename": "ValueError",
          "evalue": "ignored",
          "traceback": [
            "\u001b[0;31m---------------------------------------------------------------------------\u001b[0m",
            "\u001b[0;31mValueError\u001b[0m                                Traceback (most recent call last)",
            "\u001b[0;32m<ipython-input-94-9166c7263482>\u001b[0m in \u001b[0;36m<module>\u001b[0;34m\u001b[0m\n\u001b[1;32m      4\u001b[0m \u001b[0mprint\u001b[0m\u001b[0;34m(\u001b[0m\u001b[0ms\u001b[0m\u001b[0;34m.\u001b[0m\u001b[0mfind\u001b[0m\u001b[0;34m(\u001b[0m\u001b[0;34m'elm'\u001b[0m\u001b[0;34m)\u001b[0m\u001b[0;34m)\u001b[0m\u001b[0;34m\u001b[0m\u001b[0;34m\u001b[0m\u001b[0m\n\u001b[1;32m      5\u001b[0m \u001b[0mprint\u001b[0m\u001b[0;34m(\u001b[0m\u001b[0ms\u001b[0m\u001b[0;34m.\u001b[0m\u001b[0mindex\u001b[0m\u001b[0;34m(\u001b[0m\u001b[0;34m'el'\u001b[0m\u001b[0;34m)\u001b[0m\u001b[0;34m)\u001b[0m\u001b[0;34m\u001b[0m\u001b[0;34m\u001b[0m\u001b[0m\n\u001b[0;32m----> 6\u001b[0;31m \u001b[0mprint\u001b[0m\u001b[0;34m(\u001b[0m\u001b[0ms\u001b[0m\u001b[0;34m.\u001b[0m\u001b[0mindex\u001b[0m\u001b[0;34m(\u001b[0m\u001b[0;34m'elm'\u001b[0m\u001b[0;34m)\u001b[0m\u001b[0;34m)\u001b[0m\u001b[0;34m\u001b[0m\u001b[0;34m\u001b[0m\u001b[0m\n\u001b[0m",
            "\u001b[0;31mValueError\u001b[0m: substring not found"
          ]
        }
      ],
      "source": [
        "print(s)\n",
        "print('ell' in s)\n",
        "print(s.find('el'))\n",
        "print(s.find('elm'))\n",
        "print(s.index('el'))\n",
        "print(s.index('elm'))"
      ]
    },
    {
      "cell_type": "code",
      "source": [
        "s = 'hello world!'\n",
        "print(s.count('l'))"
      ],
      "metadata": {
        "colab": {
          "base_uri": "https://localhost:8080/"
        },
        "id": "etDJVJkEduWo",
        "outputId": "9215bfc1-c2c5-4471-af75-51fd689248c3"
      },
      "execution_count": null,
      "outputs": [
        {
          "output_type": "stream",
          "name": "stdout",
          "text": [
            "3\n"
          ]
        }
      ]
    },
    {
      "cell_type": "markdown",
      "metadata": {
        "id": "d7kap8uGOfRl"
      },
      "source": [
        "문자열을 분할(tokenizing)하는 다양한 기능을 제공한다."
      ]
    },
    {
      "cell_type": "code",
      "execution_count": null,
      "metadata": {
        "colab": {
          "base_uri": "https://localhost:8080/"
        },
        "id": "SWfe8MlKOlUl",
        "outputId": "439082b3-cd64-44ef-aca0-5106306531d6"
      },
      "outputs": [
        {
          "output_type": "stream",
          "name": "stdout",
          "text": [
            "['10', '20', '30', '400']\n",
            "['10', '20', '30,400']\n",
            "['', '1', '2', '', '3', '']\n"
          ]
        }
      ],
      "source": [
        "str = '10,20,30,400'\n",
        "print(str.split(','))\n",
        "print(str.split(',', maxsplit=2))\n",
        "print(',1,2,,3,'.split(','))"
      ]
    },
    {
      "cell_type": "markdown",
      "metadata": {
        "id": "06cayXLtL9fi"
      },
      "source": [
        "\n",
        "\n",
        "모든 문자열 메소드는 [문서](https://docs.python.org/3.7/library/stdtypes.html#string-methods)에서 찾아볼 수 있다."
      ]
    },
    {
      "cell_type": "markdown",
      "metadata": {
        "id": "p-6hClFjL9fk"
      },
      "source": [
        "## 컨테이너 (container)"
      ]
    },
    {
      "cell_type": "markdown",
      "metadata": {
        "id": "FD9H18eQL9fk"
      },
      "source": [
        "파이썬은 다음과 같은 컨테이너 타입을 지원한다.\n",
        "- 리스트(list)\n",
        "- 딕셔너리(dictionary)\n",
        "- 집합(set)\n",
        "- 튜플(tuple)"
      ]
    },
    {
      "cell_type": "markdown",
      "metadata": {
        "id": "UsIWOe0LL9fn"
      },
      "source": [
        "## 리스트(List)"
      ]
    },
    {
      "cell_type": "markdown",
      "metadata": {
        "id": "sE7AVfZJXRcj"
      },
      "source": [
        "### 리스트의 생성과 기본 연산들"
      ]
    },
    {
      "cell_type": "markdown",
      "metadata": {
        "id": "wzxX7rgWL9fn"
      },
      "source": [
        "리스트는 파이썬에서 배열 같은 존재이다. 하지만 배열과 달리 **크기 변경이 가능**하고 **서로 다른 자료형**일지라도 하나의 리스트에 저장될 수 있다:"
      ]
    },
    {
      "cell_type": "code",
      "execution_count": null,
      "metadata": {
        "colab": {
          "base_uri": "https://localhost:8080/"
        },
        "id": "hk3A8pPcL9fp",
        "outputId": "0736ffd0-311a-4050-e88e-a0583c602f79"
      },
      "outputs": [
        {
          "output_type": "stream",
          "name": "stdout",
          "text": [
            "0\n",
            "3\n",
            "3\n",
            "1\n",
            "2\n",
            "2\n",
            "1\n",
            "5\n"
          ]
        }
      ],
      "source": [
        "empty = []        # Create an empty list\n",
        "print(len(empty)) # the length of a list\n",
        "xs = [3, 1, 2]    # Create a list of length 3\n",
        "print(len(xs))\n",
        "\n",
        "print(xs[0])  # indexing\n",
        "print(xs[1])\n",
        "print(xs[2])\n",
        "\n",
        "xs[0] = 5\n",
        "\n",
        "print(xs[-1])     # Negative indices count from the end of the list; prints \"2\"\n",
        "print(xs[-2])\n",
        "print(xs[-3])"
      ]
    },
    {
      "cell_type": "markdown",
      "metadata": {
        "id": "eCuJqtdaUvsG"
      },
      "source": [
        "리스트에 저장된 값을 변경하거나, 리스트에 새로운 원소를 추가(`append`, `insert`)하고 삭제(`pop`, `remove`)하는 여러 방법들을 제공한다."
      ]
    },
    {
      "cell_type": "code",
      "execution_count": null,
      "metadata": {
        "colab": {
          "base_uri": "https://localhost:8080/"
        },
        "id": "YCjCy_0_L9ft",
        "outputId": "25460180-358e-4ed1-ac57-cf4f2177d94e"
      },
      "outputs": [
        {
          "output_type": "stream",
          "name": "stdout",
          "text": [
            "[5, 1, ['foo', 'boo']]\n"
          ]
        }
      ],
      "source": [
        "xs[2] = ['foo', 'boo']    # Lists can contain elements of different types\n",
        "print(xs)"
      ]
    },
    {
      "cell_type": "code",
      "source": [
        "xs[3] = 1"
      ],
      "metadata": {
        "colab": {
          "base_uri": "https://localhost:8080/",
          "height": 162
        },
        "id": "iblTN3hAGLi3",
        "outputId": "33b99040-0e4c-4a87-f15c-de33c56e7f92"
      },
      "execution_count": null,
      "outputs": [
        {
          "output_type": "error",
          "ename": "IndexError",
          "evalue": "ignored",
          "traceback": [
            "\u001b[0;31m---------------------------------------------------------------------------\u001b[0m",
            "\u001b[0;31mIndexError\u001b[0m                                Traceback (most recent call last)",
            "\u001b[0;32m<ipython-input-3-288b598c4343>\u001b[0m in \u001b[0;36m<module>\u001b[0;34m\u001b[0m\n\u001b[0;32m----> 1\u001b[0;31m \u001b[0mxs\u001b[0m\u001b[0;34m[\u001b[0m\u001b[0;36m3\u001b[0m\u001b[0;34m]\u001b[0m \u001b[0;34m=\u001b[0m \u001b[0;36m1\u001b[0m\u001b[0;34m\u001b[0m\u001b[0;34m\u001b[0m\u001b[0m\n\u001b[0m",
            "\u001b[0;31mIndexError\u001b[0m: list assignment index out of range"
          ]
        }
      ]
    },
    {
      "cell_type": "code",
      "execution_count": null,
      "metadata": {
        "colab": {
          "base_uri": "https://localhost:8080/"
        },
        "id": "vJ0x5cF-L9fx",
        "outputId": "9e1bbf71-8403-4dfc-b9e9-29701818e1f6"
      },
      "outputs": [
        {
          "output_type": "stream",
          "name": "stdout",
          "text": [
            "[5, 1, ['foo', 'boo'], 'bar']\n"
          ]
        }
      ],
      "source": [
        "xs.append('bar') # Add a new element to the end of the list\n",
        "print(xs)"
      ]
    },
    {
      "cell_type": "code",
      "execution_count": null,
      "metadata": {
        "colab": {
          "base_uri": "https://localhost:8080/"
        },
        "id": "2vpEbQ2STYCr",
        "outputId": "0d2ab4e8-002a-4724-e50e-1fc38a76df3b"
      },
      "outputs": [
        {
          "output_type": "stream",
          "name": "stdout",
          "text": [
            "[5, 'orange', 1, ['foo', 'boo'], 'bar']\n"
          ]
        }
      ],
      "source": [
        "xs.insert(1, 'orange')      # 특정 위치에 원소 삽입하기\n",
        "print(xs)"
      ]
    },
    {
      "cell_type": "code",
      "execution_count": null,
      "metadata": {
        "colab": {
          "base_uri": "https://localhost:8080/"
        },
        "id": "cxVCNRTNL9f1",
        "outputId": "765488bc-c433-498e-bf64-b78d17b2b029"
      },
      "outputs": [
        {
          "output_type": "stream",
          "name": "stdout",
          "text": [
            "0.5 [3, 'orange', 1, 'foo', 'bar', 10]\n",
            "[3, 'orange', 1, 'bar', 10]\n",
            "[3, 'orange', 1, 'bar']\n",
            "[3, 'orange', 'bar']\n",
            "[3, 'orange']\n"
          ]
        }
      ],
      "source": [
        "xs = [3, 'orange', 1, 'foo', 'bar', 10, 0.5]\n",
        "x = xs.pop()      # Remove and return the last element of the list\n",
        "print(x, xs)\n",
        "\n",
        "x = xs.pop(3)\n",
        "print(xs)\n",
        "\n",
        "del xs[4]\n",
        "print(xs)\n",
        "\n",
        "xs.remove(1)\n",
        "print(xs)\n",
        "xs.remove('bar')\n",
        "print(xs)"
      ]
    },
    {
      "cell_type": "markdown",
      "metadata": {
        "id": "1qg0jXlNVkKE"
      },
      "source": [
        "리스트를 복사하여 새로운 리스트를 만들 수 있다."
      ]
    },
    {
      "cell_type": "code",
      "execution_count": null,
      "metadata": {
        "colab": {
          "base_uri": "https://localhost:8080/"
        },
        "id": "O206rvWZVrR9",
        "outputId": "313c9c9a-08f1-4c27-f3b6-cdb3601abae4"
      },
      "outputs": [
        {
          "output_type": "stream",
          "name": "stdout",
          "text": [
            "['orange', 'banana', 'cherry']\n",
            "['orange', 'banana', 'cherry']\n",
            "['melon', 'banana', 'cherry']\n",
            "['apple', 'banana', 'cherry']\n",
            "['strawberry', 'banana', 'cherry']\n"
          ]
        }
      ],
      "source": [
        "thelist = [\"apple\", \"banana\", \"cherry\"]\n",
        "newlist = thelist\n",
        "\n",
        "thelist[0] = 'orange'\n",
        "print(newlist)  # thelist와 newlist는 동일한 리스트 객체를 참조한다.\n",
        "\n",
        "copiedlist = thelist.copy()  # 리스트를 복제한다.\n",
        "copiedlist[0] = 'melon'\n",
        "print(thelist)\n",
        "print(copiedlist)\n",
        "\n",
        "thislist = [\"apple\", \"banana\", \"cherry\"]\n",
        "mylist = list(thislist)  # 새로운 리스트를 생성한다.\n",
        "mylist[0] = 'strawberry'\n",
        "print(thislist)\n",
        "print(mylist)"
      ]
    },
    {
      "cell_type": "markdown",
      "metadata": {
        "id": "bOB0R2DCV_g3"
      },
      "source": [
        "두개 이상의 리스트를 하나의 리스트로 합칠 수 있다."
      ]
    },
    {
      "cell_type": "code",
      "execution_count": null,
      "metadata": {
        "colab": {
          "base_uri": "https://localhost:8080/"
        },
        "id": "x2L7g0O_WErN",
        "outputId": "14b8cd84-f5d7-4bd7-b3b2-d71ee5fc58bd"
      },
      "outputs": [
        {
          "output_type": "stream",
          "name": "stdout",
          "text": [
            "['a', 'b', 'c', 1, 2, 3]\n"
          ]
        }
      ],
      "source": [
        "list1 = [\"a\", \"b\" , \"c\"]\n",
        "list2 = [1, 2, 3]\n",
        "list3 = list1 + list2\n",
        "print(list3)"
      ]
    },
    {
      "cell_type": "code",
      "execution_count": null,
      "metadata": {
        "colab": {
          "base_uri": "https://localhost:8080/"
        },
        "id": "i0fHubkSWZqc",
        "outputId": "67981ea6-392a-4af6-e7b5-1fb79983f388"
      },
      "outputs": [
        {
          "output_type": "stream",
          "name": "stdout",
          "text": [
            "['a', 'b', 'c', 1, 2, 3]\n"
          ]
        }
      ],
      "source": [
        "list1 = [\"a\", \"b\", \"c\"]\n",
        "list2 = [1, 2, 3]\n",
        "list1 += list2\n",
        "print(list1)"
      ]
    },
    {
      "cell_type": "code",
      "execution_count": null,
      "metadata": {
        "colab": {
          "base_uri": "https://localhost:8080/"
        },
        "id": "yqjS9PbFWhtm",
        "outputId": "0682c48a-8f44-421a-d08e-9e4bf2fa4895"
      },
      "outputs": [
        {
          "output_type": "stream",
          "name": "stdout",
          "text": [
            "['a', 'b', 'c', 1, 2, 3]\n"
          ]
        }
      ],
      "source": [
        "list1 = [\"a\", \"b\" , \"c\"]\n",
        "list2 = [1, 2, 3]\n",
        "\n",
        "list1.extend(list2)\n",
        "print(list1)"
      ]
    },
    {
      "cell_type": "markdown",
      "metadata": {
        "id": "X-AN0XpIQ2fZ"
      },
      "source": [
        "리스트의 리스트는 2차원 배열과 같은 역할을 한다."
      ]
    },
    {
      "cell_type": "code",
      "execution_count": null,
      "metadata": {
        "colab": {
          "base_uri": "https://localhost:8080/"
        },
        "id": "cldy7juNREE4",
        "outputId": "f94245da-6629-4014-8ad4-2a414881fafb"
      },
      "outputs": [
        {
          "output_type": "stream",
          "name": "stdout",
          "text": [
            "4\n",
            "[[1, 2, 3], [4, 5, 6], [7, 8, 9], [10, 11, 12]]\n",
            "[4, 5, 6]\n",
            "9\n",
            "[1, 2, 3]\n",
            "[4, 5, 6]\n",
            "[7, 8, 9]\n",
            "[10, 11, 12]\n",
            "1\n",
            "2\n",
            "3\n",
            "4\n",
            "5\n",
            "6\n",
            "7\n",
            "8\n",
            "9\n",
            "10\n",
            "11\n",
            "12\n"
          ]
        }
      ],
      "source": [
        "ys = [[1, 2, 3], [4, 5, 6], [7, 8, 9], [10, 11, 12]]  # 4*3 크기의 이차원 배열처럼 사용한다.\n",
        "print(len(ys))\n",
        "print(ys)\n",
        "print(ys[1])\n",
        "print(ys[2][2])\n",
        "# print(ys[1, 2])       # Error\n",
        "\n",
        "for r in ys:\n",
        "  print(r)\n",
        "\n",
        "for r in ys:\n",
        "  for v in r:\n",
        "    print(v)"
      ]
    },
    {
      "cell_type": "markdown",
      "metadata": {
        "id": "ilyoyO34L9f4"
      },
      "source": [
        "좀 더 자세한 사항은 [문서](https://docs.python.org/3.7/tutorial/datastructures.html#more-on-lists)를 참조하라."
      ]
    },
    {
      "cell_type": "markdown",
      "metadata": {
        "id": "ovahhxd_L9f5"
      },
      "source": [
        "### 리스트 슬라이싱(slicing)\n",
        "\n"
      ]
    },
    {
      "cell_type": "markdown",
      "metadata": {
        "id": "fYh_8Y2DXhQy"
      },
      "source": [
        "리스트의 한 원소에 접근하는 것 이외에도, 파이썬은 리스트를 잘라낸 일부분에 접근하는 간결한 문법을 제공한다. 이를 **슬라이싱**이라고 한다.\n",
        "\n",
        "슬라이싱의 기본 형태는 `x[start:end:step]`이다. `start는 슬라이싱을 시작할 위치, `end는 끝낼(exclusive) 위치, 그리고 `step`은 몇개씩 건너뛸지를 지정한다. `step`은 생략될 수 있고, 그 경우 `step=1`로 간주된다."
      ]
    },
    {
      "cell_type": "code",
      "execution_count": null,
      "metadata": {
        "colab": {
          "base_uri": "https://localhost:8080/"
        },
        "id": "ninq666bL9f6",
        "outputId": "cc824b24-4165-42a6-a754-4325914e8a03"
      },
      "outputs": [
        {
          "output_type": "stream",
          "name": "stdout",
          "text": [
            "[0, 1, 2, 3, 4]\n",
            "[2, 3]\n",
            "[2, 3, 4]\n",
            "[0, 1]\n",
            "[0, 1, 2, 3, 4]\n",
            "[0, 1, 2]\n",
            "[1, 3]\n",
            "[0, 1, 8, 9, 4]\n",
            "[0, 8, 4]\n",
            "[4, 9, 8, 1, 0]\n"
          ]
        }
      ],
      "source": [
        "# nums = [0, 1, 2, 3, 4]\n",
        "nums = list(range(5))    # range is a built-in function that creates a list of integers\n",
        "print(nums)         # Prints \"[0, 1, 2, 3, 4]\"\n",
        "print(nums[2:4])    # Get a slice from index 2 to 4 (exclusive); prints \"[2, 3]\"\n",
        "print(nums[2:])     # Get a slice from index 2 to the end; prints \"[2, 3, 4]\"\n",
        "print(nums[:2])     # Get a slice from the start to index 2 (exclusive); prints \"[0, 1]\"\n",
        "print(nums[:])      # Get a slice of the whole list; prints [\"0, 1, 2, 3, 4]\"\n",
        "print(nums[:-2])    # Slice indices can be negative; prints [\"0, 1, 2]\"\n",
        "\n",
        "print(nums[1::2])   # prints [1, 3]\n",
        "\n",
        "nums[2:4] = [8, 9]  # Assign a new sublist to a slice\n",
        "print(nums)         # Prints \"[0, 1, 8, 9, 4]\"\n",
        "\n",
        "print(nums[::2])    # Prints [0, 8, 4]\n",
        "\n",
        "print(nums[-1::-1]) # prints [4, 9, 8, 1, 0]"
      ]
    },
    {
      "cell_type": "markdown",
      "metadata": {
        "id": "KBtp7zUjsHyW"
      },
      "source": [
        "리스트를 치환하면 새로운 리스트가 생성되지 않지만, 리스트를 슬라이싱하면 새로운 리스트가 생성된다."
      ]
    },
    {
      "cell_type": "code",
      "execution_count": null,
      "metadata": {
        "colab": {
          "base_uri": "https://localhost:8080/"
        },
        "id": "cJi8wqdgsNBP",
        "outputId": "5b684b09-c923-4046-b2b6-e7353175d6ca"
      },
      "outputs": [
        {
          "output_type": "stream",
          "name": "stdout",
          "text": [
            "[0, 2, 3, 4]\n",
            "[0, 2, 3, 4]\n",
            "[1, 0, 3, 4]\n"
          ]
        }
      ],
      "source": [
        "a = [1, 2, 3, 4]\n",
        "b = a             # a와 b는 동일한 리스트 객체를 참조한다.\n",
        "c = a[:]          # c는 a의 복사본을 참조한다. 즉, a와 c는 별개의 리스트 객체이다.\n",
        "b[0] = 0\n",
        "c[1] = 0\n",
        "print(a)\n",
        "print(b)\n",
        "print(c)"
      ]
    },
    {
      "cell_type": "markdown",
      "metadata": {
        "id": "UONpMhF4L9f_"
      },
      "source": [
        "### 원소의 존재 검사와 반복문\n",
        "\n",
        "아래와 같이 리스트에 특정 원소가 존재하는지 검사할 수 있고, 또한 반복문에서 리스트의 요소들을 반복해서 조회할 수 있다."
      ]
    },
    {
      "cell_type": "code",
      "execution_count": null,
      "metadata": {
        "colab": {
          "base_uri": "https://localhost:8080/"
        },
        "id": "4cCOysfWL9gA",
        "outputId": "68d373a1-ea30-4bc4-95ee-4611611eefe6"
      },
      "outputs": [
        {
          "output_type": "stream",
          "name": "stdout",
          "text": [
            "Yes, 'dog' is in the list.\n",
            "cat\n",
            "dog\n",
            "monkey\n"
          ]
        }
      ],
      "source": [
        "animals = ['cat', 'dog', 'monkey']\n",
        "if 'dog' in animals:\n",
        "  print(\"Yes, 'dog' is in the list.\")\n",
        "\n",
        "for animal in animals:\n",
        "    print(animal)"
      ]
    },
    {
      "cell_type": "markdown",
      "metadata": {
        "id": "KxIaQs7pL9gE"
      },
      "source": [
        "만약 반복문 내에서 리스트 각 요소의 인덱스에 접근하고 싶다면, `enumerate` 함수를 사용하라:"
      ]
    },
    {
      "cell_type": "code",
      "execution_count": null,
      "metadata": {
        "colab": {
          "base_uri": "https://localhost:8080/"
        },
        "id": "JjGnDluWL9gF",
        "outputId": "12303e20-59fd-48a5-8bd4-415b09a0fa37"
      },
      "outputs": [
        {
          "output_type": "stream",
          "name": "stdout",
          "text": [
            "#1: cat\n",
            "#2: dog\n",
            "#3: monkey\n"
          ]
        }
      ],
      "source": [
        "animals = ['cat', 'dog', 'monkey']\n",
        "for idx, animal in enumerate(animals):\n",
        "    print('#{}: {}'.format(idx + 1, animal))"
      ]
    },
    {
      "cell_type": "markdown",
      "metadata": {
        "id": "64zWKPnsQjrv"
      },
      "source": [
        "\n",
        "### 리스트의 정렬\n",
        "\n"
      ]
    },
    {
      "cell_type": "markdown",
      "source": [
        "리스트는 정렬을 위한 `sort` 메서드를 제공한다."
      ],
      "metadata": {
        "id": "BR_KIXJXKvAM"
      }
    },
    {
      "cell_type": "code",
      "execution_count": null,
      "metadata": {
        "colab": {
          "base_uri": "https://localhost:8080/"
        },
        "id": "IFGZSMoGQqqf",
        "outputId": "71a4989d-a6e4-4e53-9017-0104f98658dd"
      },
      "outputs": [
        {
          "output_type": "stream",
          "name": "stdout",
          "text": [
            "['Ford', 'BMW', 'Volvo']\n",
            "['BMW', 'Ford', 'Volvo']\n",
            "['Volvo', 'Ford', 'BMW']\n"
          ]
        }
      ],
      "source": [
        "cars = ['Ford', 'BMW', 'Volvo']\n",
        "print(cars)\n",
        "cars.sort() # in-place sort\n",
        "print(cars)\n",
        "cars.sort(reverse=True)\n",
        "print(cars)"
      ]
    },
    {
      "cell_type": "markdown",
      "source": [
        "파이선은 리스트를 정렬하는 `sorted` 함수를 제공한다. 리스트의 원본을 보존하고 정렬된 리스트를 얻고 싶을 때 사용한다."
      ],
      "metadata": {
        "id": "Zz9V8tT1K8nP"
      }
    },
    {
      "cell_type": "code",
      "execution_count": null,
      "metadata": {
        "colab": {
          "base_uri": "https://localhost:8080/"
        },
        "id": "k8DWYQabRgyL",
        "outputId": "17331f0b-b6e1-4557-99f6-a301af5fedea"
      },
      "outputs": [
        {
          "output_type": "stream",
          "name": "stdout",
          "text": [
            "['BMW', 'Ford', 'Mitsubishi', 'VW']\n",
            "['Ford', 'Mitsubishi', 'BMW', 'VW']\n"
          ]
        }
      ],
      "source": [
        "cars = ['Ford', 'Mitsubishi', 'BMW', 'VW']\n",
        "result = sorted(cars)  # 원본 리스트를 보존하고 정렬된 새로운 리스트를 반환한다.\n",
        "print(result)\n",
        "print(cars)"
      ]
    },
    {
      "cell_type": "markdown",
      "source": [
        "기본적인(default) 기준이 아닌 다른 기준으로 정렬하고자 할 때에는 정렬에 사용할 custom key를 정의할 수 있다."
      ],
      "metadata": {
        "id": "siE0Iaz9LWlM"
      }
    },
    {
      "cell_type": "code",
      "execution_count": null,
      "metadata": {
        "colab": {
          "base_uri": "https://localhost:8080/"
        },
        "id": "-Kp7JSJ3RULr",
        "outputId": "fa50fab7-f9a2-4e8b-a29d-8b4844460df1"
      },
      "outputs": [
        {
          "output_type": "stream",
          "name": "stdout",
          "text": [
            "['VW', 'BMW', 'Ford', 'Mitsubishi']\n"
          ]
        }
      ],
      "source": [
        "# A function that returns the length of the value:\n",
        "def myFunc(e):\n",
        "  return len(e)\n",
        "\n",
        "cars = ['Ford', 'Mitsubishi', 'BMW', 'VW']\n",
        "cars.sort(key=myFunc)\n",
        "# cars.sort(key=lambda k: len(k))\n",
        "print(cars)"
      ]
    },
    {
      "cell_type": "code",
      "source": [
        "words = \"This is a test string from Andrew\".split()\n",
        "sorted(words, key=str.lower)"
      ],
      "metadata": {
        "colab": {
          "base_uri": "https://localhost:8080/"
        },
        "id": "RJtp26LcMmjs",
        "outputId": "3adec96e-cbde-425f-ecbf-5ad26dc5e1f1"
      },
      "execution_count": null,
      "outputs": [
        {
          "output_type": "execute_result",
          "data": {
            "text/plain": [
              "['a', 'Andrew', 'from', 'is', 'string', 'test', 'This']"
            ]
          },
          "metadata": {},
          "execution_count": 12
        }
      ]
    },
    {
      "cell_type": "markdown",
      "metadata": {
        "id": "LNQZNsfEaOJc"
      },
      "source": [
        "물론 Python은 custom comparator를 이용하는 보다 generic한 정렬 기능을 제공한다. 그 내용은 생략한다."
      ]
    },
    {
      "cell_type": "markdown",
      "metadata": {
        "id": "FomUn2uDtYdy"
      },
      "source": [
        "### 예: Quicksort\n",
        "\n",
        "Python으로 직접 정수 리스트를 정렬하는 Quicksort 알고리즘을 구현해보자."
      ]
    },
    {
      "cell_type": "code",
      "execution_count": null,
      "metadata": {
        "colab": {
          "base_uri": "https://localhost:8080/"
        },
        "id": "JycYFrqVtj7y",
        "outputId": "d6ce1d6f-f27b-4227-e6e8-6b926e1edfee"
      },
      "outputs": [
        {
          "output_type": "stream",
          "name": "stdout",
          "text": [
            "[1, 1, 2, 3, 6, 8, 10]\n"
          ]
        }
      ],
      "source": [
        "def partition(arr):\n",
        "    x = arr[len(arr)-1]             # pivot element\n",
        "    i = -1                          # position of the last element that is less than or equal to pivot\n",
        "    for j in range(len(arr)-1):     # iterate over elements except pivot\n",
        "        if arr[j] <= x:\n",
        "            i += 1\n",
        "            arr[i], arr[j] = arr[j], arr[i]     # swap\n",
        "    arr[i+1], arr[len(arr)-1] = arr[len(arr)-1], arr[i+1]\n",
        "    return i+1\n",
        "\n",
        "def quicksort(arr):\n",
        "    if len(arr) <= 1:\n",
        "        return arr\n",
        "\n",
        "    q = partition(arr)\n",
        "    left = arr[:q]\n",
        "    right = arr[q+1:]\n",
        "\n",
        "    return quicksort(left) + [arr[q]] + quicksort(right)\n",
        "\n",
        "data = [ 3, 6, 8, 10, 1, 2, 1 ]\n",
        "print(quicksort(data))"
      ]
    },
    {
      "cell_type": "markdown",
      "metadata": {
        "id": "arrLCcMyL9gK"
      },
      "source": [
        "### 리스트 컴프리헨션(List Comprehension)"
      ]
    },
    {
      "cell_type": "markdown",
      "metadata": {
        "id": "5Qn2jU_pL9gL"
      },
      "source": [
        "예를 들자면 하나의 리스트에 저장된 모든 숫자의 제곱으로 구성되는 다른 리스트를 구성하는 다음의 코드를 보라:"
      ]
    },
    {
      "cell_type": "code",
      "execution_count": null,
      "metadata": {
        "colab": {
          "base_uri": "https://localhost:8080/"
        },
        "id": "IVNEwoMXL9gL",
        "outputId": "b1f35e24-6f28-4f19-c6e1-1250bc2e59fa"
      },
      "outputs": [
        {
          "output_type": "stream",
          "name": "stdout",
          "text": [
            "[0, 1, 4, 9, 16]\n"
          ]
        }
      ],
      "source": [
        "nums = [0, 1, 2, 3, 4]\n",
        "squares = []\n",
        "for x in nums:\n",
        "    squares.append(x ** 2)\n",
        "print(squares)"
      ]
    },
    {
      "cell_type": "markdown",
      "metadata": {
        "id": "7DmKVUFaL9gQ"
      },
      "source": [
        "리스트 comprehension을 이용해 이 코드를 간단하게 만들 수 있다:\n",
        "\n"
      ]
    },
    {
      "cell_type": "code",
      "execution_count": null,
      "metadata": {
        "colab": {
          "base_uri": "https://localhost:8080/"
        },
        "id": "kZxsUfV6L9gR",
        "outputId": "ef797e92-73ab-4376-c63c-600dcbad21c6"
      },
      "outputs": [
        {
          "output_type": "stream",
          "name": "stdout",
          "text": [
            "[0, 1, 4, 9, 16]\n"
          ]
        }
      ],
      "source": [
        "# nums = [0, 1, 2, 3, 4]\n",
        "squares = [x**2 for x in range(5)]\n",
        "print(squares)"
      ]
    },
    {
      "cell_type": "markdown",
      "metadata": {
        "id": "-D8ARK7tL9gV"
      },
      "source": [
        "또한 리스트 comprehension에 조건을 추가할 수도 있다:"
      ]
    },
    {
      "cell_type": "code",
      "execution_count": null,
      "metadata": {
        "colab": {
          "base_uri": "https://localhost:8080/"
        },
        "id": "yUtgOyyYL9gV",
        "outputId": "4a86d666-7ebb-42f5-d9fe-465378196d5f"
      },
      "outputs": [
        {
          "output_type": "stream",
          "name": "stdout",
          "text": [
            "[0, 4, 16, 36, 64]\n"
          ]
        }
      ],
      "source": [
        "# nums = [0, 1, 2, 3, 4, 5, 6]\n",
        "even_squares = [x ** 2 for x in range(10) if x % 2 == 0]\n",
        "print(even_squares)"
      ]
    },
    {
      "cell_type": "code",
      "execution_count": null,
      "metadata": {
        "colab": {
          "base_uri": "https://localhost:8080/"
        },
        "id": "9v2AFUR8N-VO",
        "outputId": "265140c8-657c-40a5-98e0-9b6776f4d321"
      },
      "outputs": [
        {
          "output_type": "stream",
          "name": "stdout",
          "text": [
            "['hello', 'they', 'are', 'really']\n",
            "['Hello', 'Python', 'Numpy', 'Really']\n"
          ]
        }
      ],
      "source": [
        "words = ['hello', 'python', 'and', 'numpy', 'they', 'are', 'really', 'fun']\n",
        "selected = [str for str in words if 'e' in str]\n",
        "print(selected)\n",
        "\n",
        "longstrs = [str.capitalize() for str in words if len(str) > 4]\n",
        "print(longstrs)"
      ]
    },
    {
      "cell_type": "code",
      "source": [
        "# nums = [0, 1, 2, 3, 4, 5, 6]\n",
        "even_squares = [x ** 2 if x % 2 == 0 else -1 for x in range(10) ]\n",
        "print(even_squares)"
      ],
      "metadata": {
        "colab": {
          "base_uri": "https://localhost:8080/"
        },
        "id": "Kf1fdw81O_Fe",
        "outputId": "f80b696c-9ed4-424e-8010-d7e94f5a1e2e"
      },
      "execution_count": null,
      "outputs": [
        {
          "output_type": "stream",
          "name": "stdout",
          "text": [
            "[0, -1, 4, -1, 16, -1, 36, -1, 64, -1]\n"
          ]
        }
      ]
    },
    {
      "cell_type": "markdown",
      "metadata": {
        "id": "HsT7kjkeuYOl"
      },
      "source": [
        "### Quicksort Revisited"
      ]
    },
    {
      "cell_type": "code",
      "execution_count": null,
      "metadata": {
        "id": "O-oV7sXmufgQ",
        "outputId": "1e4fb61d-c7b9-4d24-a159-4dcd3c197956",
        "colab": {
          "base_uri": "https://localhost:8080/"
        }
      },
      "outputs": [
        {
          "output_type": "stream",
          "name": "stdout",
          "text": [
            "[1, 1, 2, 3, 6, 8, 10]\n"
          ]
        }
      ],
      "source": [
        "def quicksort(arr):\n",
        "    if len(arr) <= 1:\n",
        "        return arr\n",
        "    pivot = arr[len(arr) // 2]\n",
        "    left = [x for x in arr if x < pivot]\n",
        "    middle = [x for x in arr if x == pivot]\n",
        "    right = [x for x in arr if x > pivot]\n",
        "    return quicksort(left) + middle + quicksort(right)\n",
        "\n",
        "print(quicksort([3,6,8,10,1,2,1]))"
      ]
    },
    {
      "cell_type": "markdown",
      "metadata": {
        "id": "YLtq61oqP3mR"
      },
      "source": [
        "### <font color=”blue”> **예제:**  \n",
        " </font>\n",
        "\n"
      ]
    },
    {
      "cell_type": "markdown",
      "metadata": {
        "id": "tD7N884Jw4db"
      },
      "source": [
        "Stackoverflow에서는 매년 개발자들을 대상으로 설문조사를 한다. 조사 결과는 [여기](https://insights.stackoverflow.com/survey)에서 다운로드 받을 수 있다.\n",
        "\n",
        "2021년 설문 결과를 요약한 `survey_results_public.csv` 파일을 읽어 온다. Python은 `csv` 파일을 쉽게 읽고 처리하기 위한 다양한 방법을 제공하지만 일단 여기에서는 단순한 텍스트 파일로 다루어보자."
      ]
    },
    {
      "cell_type": "code",
      "execution_count": null,
      "metadata": {
        "colab": {
          "base_uri": "https://localhost:8080/"
        },
        "id": "2W3GO9amma_v",
        "outputId": "9984f6e4-f08b-43bc-b7cd-f37d29badc8f",
        "tags": []
      },
      "outputs": [
        {
          "output_type": "stream",
          "name": "stdout",
          "text": [
            "Mounted at /content/drive\n"
          ]
        }
      ],
      "source": [
        "# 이 노트북을 Google colab에서 실행할 경우에는 데이터 파일을 google drive에 저장한 후 google drive를 mount해 주어야 한다.\n",
        "# 이 일은 로컬 머신에서 실행할 때는 불필요하다.\n",
        "\n",
        "from google.colab import drive\n",
        "drive.mount('/content/drive')"
      ]
    },
    {
      "cell_type": "code",
      "source": [
        "file_path = '/content/drive/MyDrive/DataScience2023/chap01_python/data/stack-overflow-developer-survey-2021/survey_results_public.csv'  # for colab"
      ],
      "metadata": {
        "id": "UmZA_AOxbITl"
      },
      "execution_count": null,
      "outputs": []
    },
    {
      "cell_type": "code",
      "execution_count": null,
      "metadata": {
        "id": "TYkEdH77np_K"
      },
      "outputs": [],
      "source": [
        "f = open(file_path, 'r', encoding='utf-8')   # 파일을 open한다."
      ]
    },
    {
      "cell_type": "code",
      "execution_count": null,
      "metadata": {
        "colab": {
          "base_uri": "https://localhost:8080/"
        },
        "id": "E_F-R9wtmuWS",
        "outputId": "fd3c3b67-3f42-467b-fee6-cb1f18fd058f",
        "tags": []
      },
      "outputs": [
        {
          "output_type": "stream",
          "name": "stdout",
          "text": [
            "ResponseId,MainBranch,Employment,Country,US_State,UK_Country,EdLevel,Age1stCode,LearnCode,YearsCode,YearsCodePro,DevType,OrgSize,Currency,CompTotal,CompFreq,LanguageHaveWorkedWith,LanguageWantToWorkWith,DatabaseHaveWorkedWith,DatabaseWantToWorkWith,PlatformHaveWorkedWith,PlatformWantToWorkWith,WebframeHaveWorkedWith,WebframeWantToWorkWith,MiscTechHaveWorkedWith,MiscTechWantToWorkWith,ToolsTechHaveWorkedWith,ToolsTechWantToWorkWith,NEWCollabToolsHaveWorkedWith,NEWCollabToolsWantToWorkWith,OpSys,NEWStuck,NEWSOSites,SOVisitFreq,SOAccount,SOPartFreq,SOComm,NEWOtherComms,Age,Gender,Trans,Sexuality,Ethnicity,Accessibility,MentalHealth,SurveyLength,SurveyEase,ConvertedCompYearly\n",
            "\n",
            "['ResponseId', 'MainBranch', 'Employment', 'Country', 'US_State', 'UK_Country', 'EdLevel', 'Age1stCode', 'LearnCode', 'YearsCode', 'YearsCodePro', 'DevType', 'OrgSize', 'Currency', 'CompTotal', 'CompFreq', 'LanguageHaveWorkedWith', 'LanguageWantToWorkWith', 'DatabaseHaveWorkedWith', 'DatabaseWantToWorkWith', 'PlatformHaveWorkedWith', 'PlatformWantToWorkWith', 'WebframeHaveWorkedWith', 'WebframeWantToWorkWith', 'MiscTechHaveWorkedWith', 'MiscTechWantToWorkWith', 'ToolsTechHaveWorkedWith', 'ToolsTechWantToWorkWith', 'NEWCollabToolsHaveWorkedWith', 'NEWCollabToolsWantToWorkWith', 'OpSys', 'NEWStuck', 'NEWSOSites', 'SOVisitFreq', 'SOAccount', 'SOPartFreq', 'SOComm', 'NEWOtherComms', 'Age', 'Gender', 'Trans', 'Sexuality', 'Ethnicity', 'Accessibility', 'MentalHealth', 'SurveyLength', 'SurveyEase', 'ConvertedCompYearly\\n']\n",
            "48\n"
          ]
        }
      ],
      "source": [
        "headline = f.readline()           # 파일의 첫 라인을 읽는다. 첫 라인은 테이블의 head이다.\n",
        "print(headline)\n",
        "columns = headline.split(',')\n",
        "print(columns)\n",
        "print(len(columns))"
      ]
    },
    {
      "cell_type": "code",
      "execution_count": null,
      "metadata": {
        "colab": {
          "base_uri": "https://localhost:8080/"
        },
        "id": "u403SBmFz4Zx",
        "outputId": "9f2226e0-758a-4066-c005-1d98c74af14c"
      },
      "outputs": [
        {
          "output_type": "stream",
          "name": "stdout",
          "text": [
            "83439\n",
            "['1', 'I am a developer by profession', '\"Independent contractor', ' freelancer', ' or self-employed\"', 'Slovakia', 'NA', 'NA', '\"Secondary school (e.g. American high school', ' German Realschule or Gymnasium', ' etc.)\"', '18 - 24 years', '\"Coding Bootcamp;Other online resources (ex: videos', ' blogs', ' etc)\"', 'NA', 'NA', '\"Developer', ' mobile\"', '20 to 99 employees', 'EUR European Euro', '4800', 'Monthly', 'C++;HTML/CSS;JavaScript;Objective-C;PHP;Swift', 'Swift', 'PostgreSQL;SQLite', 'SQLite', 'NA', 'NA', 'Laravel;Symfony', 'NA', 'NA', 'NA', 'NA', 'NA', 'PHPStorm;Xcode', 'Atom;Xcode', 'MacOS', 'Call a coworker or friend;Visit Stack Overflow;Go for a walk or other physical activity;Google it', 'Stack Overflow', 'Multiple times per day', 'Yes', 'A few times per month or weekly', '\"Yes', ' definitely\"', 'No', '25-34 years old', 'Man', 'No', 'Straight / Heterosexual', 'White or of European descent', 'None of the above', 'None of the above', 'Appropriate in length', 'Easy', '62268\\n']\n",
            "56\n"
          ]
        }
      ],
      "source": [
        "data = f.readlines()          # 파일의 나머지 모든 라인을 읽어온다. 라인들의 리스트로 저장된다.\n",
        "f.close()\n",
        "\n",
        "print(len(data))\n",
        "print(data[0].split(','))\n",
        "print(len(data[0].split(',')))"
      ]
    },
    {
      "cell_type": "markdown",
      "metadata": {
        "id": "dJOE-4_oWufu"
      },
      "source": [
        "위에서 마지막 라인의 결과를 보면 테이블의 하나의 셀에 콤마(,)가 포함된 항목(예: Student, full-time)이 있어서 이렇게 `split` 메서드를 이용하여 `csv` 파일을 파싱할 수는 없다는 것을 알수 있다.\n",
        "\n",
        "Python은 csv 파일을 처리하기 위해서 `csv` 패키지를 제공한다."
      ]
    },
    {
      "cell_type": "code",
      "execution_count": null,
      "metadata": {
        "colab": {
          "base_uri": "https://localhost:8080/"
        },
        "id": "yGjcxZxr1RCC",
        "outputId": "45ac2217-bdb4-46fd-b7ab-a598fe65bc58"
      },
      "outputs": [
        {
          "output_type": "stream",
          "name": "stdout",
          "text": [
            "48\n",
            "['ResponseId', 'MainBranch', 'Employment', 'Country', 'US_State', 'UK_Country', 'EdLevel', 'Age1stCode', 'LearnCode', 'YearsCode', 'YearsCodePro', 'DevType', 'OrgSize', 'Currency', 'CompTotal', 'CompFreq', 'LanguageHaveWorkedWith', 'LanguageWantToWorkWith', 'DatabaseHaveWorkedWith', 'DatabaseWantToWorkWith', 'PlatformHaveWorkedWith', 'PlatformWantToWorkWith', 'WebframeHaveWorkedWith', 'WebframeWantToWorkWith', 'MiscTechHaveWorkedWith', 'MiscTechWantToWorkWith', 'ToolsTechHaveWorkedWith', 'ToolsTechWantToWorkWith', 'NEWCollabToolsHaveWorkedWith', 'NEWCollabToolsWantToWorkWith', 'OpSys', 'NEWStuck', 'NEWSOSites', 'SOVisitFreq', 'SOAccount', 'SOPartFreq', 'SOComm', 'NEWOtherComms', 'Age', 'Gender', 'Trans', 'Sexuality', 'Ethnicity', 'Accessibility', 'MentalHealth', 'SurveyLength', 'SurveyEase', 'ConvertedCompYearly']\n",
            "83439\n"
          ]
        }
      ],
      "source": [
        "import csv\n",
        "\n",
        "with open(file_path, 'r') as f:    # with clause\n",
        "  csvreader = csv.reader(f)\n",
        "  header = next(csvreader)\n",
        "  print(len(header))\n",
        "  print(header)\n",
        "\n",
        "  count = 0\n",
        "  for row in csvreader:\n",
        "    count += 1\n",
        "    if len(row) != 48:\n",
        "      print(len(row))\n",
        "\n",
        "  print(count)\n"
      ]
    },
    {
      "cell_type": "markdown",
      "metadata": {
        "id": "gu5KwcEX14b1"
      },
      "source": [
        "<font color=”blue”> **문제 1**: 국적이 `'South Korea'`인 응답자가 몇 명인지 세어 보자. 테이블의 4번째 컬럼이 국적이다."
      ]
    },
    {
      "cell_type": "code",
      "execution_count": null,
      "metadata": {
        "colab": {
          "base_uri": "https://localhost:8080/"
        },
        "id": "RKGApIBB2tWW",
        "outputId": "8bd98c69-fda8-4ae8-dd35-4e3475077971"
      },
      "outputs": [
        {
          "output_type": "stream",
          "name": "stdout",
          "text": [
            "189\n"
          ]
        }
      ],
      "source": [
        "with open(file_path, 'r') as f:\n",
        "  csvreader = csv.reader(f)\n",
        "  header = next(csvreader)\n",
        "\n",
        "  count = 0\n",
        "  for row in csvreader:\n",
        "    if row[3] == 'South Korea':\n",
        "      count += 1\n",
        "print(count)"
      ]
    },
    {
      "cell_type": "markdown",
      "metadata": {
        "id": "Fo9tqcja3rB7"
      },
      "source": [
        "<font color=”blue”> **문제 2**: Python을 사용하는 응답자가 몇 명인지 세어보자. 17번째 컬럼(`LanguageHaveWorkedWith`)이 사용하는 언어이고, 응답자는 복수의 언어를 선택할 수 있다. 언어명들은 세미콜론(;)으로 구분되어 있다."
      ]
    },
    {
      "cell_type": "code",
      "execution_count": null,
      "metadata": {
        "colab": {
          "base_uri": "https://localhost:8080/"
        },
        "id": "d37lWTpJY2hJ",
        "outputId": "e839bd09-1d52-47fb-e2eb-d18194ecabca"
      },
      "outputs": [
        {
          "output_type": "stream",
          "name": "stdout",
          "text": [
            "39792 of total 83439 responders have worked with Python.\n"
          ]
        }
      ],
      "source": [
        "with open(file_path, 'r') as f:\n",
        "  csvreader = csv.reader(f)\n",
        "  header = next(csvreader)\n",
        "\n",
        "  count_total = 0\n",
        "  count_python = 0\n",
        "  for row in csvreader:\n",
        "    count_total += 1\n",
        "    if 'Python' in row[16] or 'python' in row[16]:\n",
        "      count_python += 1\n",
        "\n",
        "  print('{} of total {} responders have worked with Python.'.format(count_python, count_total))"
      ]
    },
    {
      "cell_type": "markdown",
      "metadata": {
        "id": "H8xsUEFpL9gZ"
      },
      "source": [
        "## 딕셔너리(Dictionary)"
      ]
    },
    {
      "cell_type": "markdown",
      "metadata": {
        "id": "kkjAGMAJL9ga"
      },
      "source": [
        "Java의 맵(map)과 유사하게 파이썬의 딕셔너리는 `(key, value)` 쌍을 저장한다."
      ]
    },
    {
      "cell_type": "code",
      "execution_count": null,
      "metadata": {
        "colab": {
          "base_uri": "https://localhost:8080/"
        },
        "id": "XBYI1MrYL9gb",
        "outputId": "c33d7cb3-4c43-44dc-84e4-a51d72acaa66"
      },
      "outputs": [
        {
          "output_type": "stream",
          "name": "stdout",
          "text": [
            "cute\n",
            "True\n"
          ]
        }
      ],
      "source": [
        "d = {'cat': 'cute', 'dog': 'furry'}  # Create a new dictionary with some data\n",
        "\n",
        "print(d['cat'])       # 키(key)로 인덱싱하여 값(value)을 엑세스할 수 있다.\n",
        "print('cat' in d)     # Check if a dictionary has a given key; prints \"True\""
      ]
    },
    {
      "cell_type": "code",
      "execution_count": null,
      "metadata": {
        "colab": {
          "base_uri": "https://localhost:8080/"
        },
        "id": "pS7e-G-HL9gf",
        "outputId": "90e29213-245e-4cf5-ded9-c76ec34eb455"
      },
      "outputs": [
        {
          "output_type": "stream",
          "name": "stdout",
          "text": [
            "wet\n",
            "{'cat': 'jsdgf', 'dog': 'furry', 'fish': 'wet'}\n"
          ]
        }
      ],
      "source": [
        "d['fish'] = 'wet'     # Set an entry in a dictionary\n",
        "print(d['fish'])      # Prints \"wet\"\n",
        "\n",
        "d['cat'] = 'jsdgf'\n",
        "print(d)"
      ]
    },
    {
      "cell_type": "code",
      "execution_count": null,
      "metadata": {
        "colab": {
          "base_uri": "https://localhost:8080/"
        },
        "id": "tFY065ItL9gi",
        "outputId": "d2d28ff1-0c63-492f-f783-6c14a897a1ce"
      },
      "outputs": [
        {
          "output_type": "stream",
          "name": "stdout",
          "text": [
            "None\n"
          ]
        }
      ],
      "source": [
        "# print(d['monkey'])  # KeyError: 'monkey' not a key of d\n",
        "print(d.get('monkey'))"
      ]
    },
    {
      "cell_type": "code",
      "execution_count": null,
      "metadata": {
        "colab": {
          "base_uri": "https://localhost:8080/"
        },
        "id": "8TjbEWqML9gl",
        "outputId": "b004f2cd-bcf7-4a61-cb50-6ae503d873b6"
      },
      "outputs": [
        {
          "output_type": "stream",
          "name": "stdout",
          "text": [
            "N/A\n",
            "wet\n"
          ]
        }
      ],
      "source": [
        "print(d.get('monkey', 'N/A'))  # Get an element with a default; prints \"N/A\"\n",
        "print(d.get('fish', 'N/A'))    # Get an element with a default; prints \"wet\""
      ]
    },
    {
      "cell_type": "code",
      "execution_count": null,
      "metadata": {
        "colab": {
          "base_uri": "https://localhost:8080/"
        },
        "id": "0EItdNBJL9go",
        "outputId": "f1c0bda1-346d-495a-c099-357d67940170"
      },
      "outputs": [
        {
          "output_type": "stream",
          "name": "stdout",
          "text": [
            "N/A\n"
          ]
        }
      ],
      "source": [
        "del d['fish']        # Remove an element from a dictionary\n",
        "print(d.get('fish', 'N/A')) # \"fish\" is no longer a key; prints \"N/A\""
      ]
    },
    {
      "cell_type": "markdown",
      "metadata": {
        "id": "IxwEqHlGL9gr"
      },
      "source": [
        "딕셔너리는 key를 이용하여 쉽게 반복(iterate)할 수 있다."
      ]
    },
    {
      "cell_type": "code",
      "execution_count": null,
      "metadata": {
        "colab": {
          "base_uri": "https://localhost:8080/"
        },
        "id": "rYfz7ZKNL9gs",
        "outputId": "15857863-b0d1-4d14-ac17-8e07f329c0c3"
      },
      "outputs": [
        {
          "output_type": "stream",
          "name": "stdout",
          "text": [
            "dict_items([('person', 2), ('cat', 4), ('spider', 8)])\n",
            "A person has 2 legs\n",
            "A cat has 4 legs\n",
            "A spider has 8 legs\n",
            "person\n",
            "cat\n",
            "spider\n"
          ]
        }
      ],
      "source": [
        "d = {'person': 2, 'cat': 4, 'spider': 8}\n",
        "print(d.items())\n",
        "for animal, legs in d.items():\n",
        "    print('A {} has {} legs'.format(animal, legs))\n",
        "\n",
        "for item in d:\n",
        "  print(item)"
      ]
    },
    {
      "cell_type": "markdown",
      "metadata": {
        "id": "17sxiOpzL9gz"
      },
      "source": [
        "리스트 comprehensions과 유사한 딕셔너리 comprehensions을 통해 손쉽게 딕셔너리를 만들 수 있다."
      ]
    },
    {
      "cell_type": "code",
      "execution_count": null,
      "metadata": {
        "colab": {
          "base_uri": "https://localhost:8080/"
        },
        "id": "8PB07imLL9gz",
        "outputId": "83e24d40-17ab-475f-8b9d-d9288cfcadef"
      },
      "outputs": [
        {
          "output_type": "stream",
          "name": "stdout",
          "text": [
            "{0: 0, 2: 4, 4: 16}\n"
          ]
        }
      ],
      "source": [
        "nums = [0, 1, 2, 3, 4]\n",
        "even_num_to_square = {x: x ** 2 for x in nums if x % 2 == 0}\n",
        "print(even_num_to_square)"
      ]
    },
    {
      "cell_type": "markdown",
      "metadata": {
        "id": "s65jxSdCQ0a0"
      },
      "source": [
        "딕셔너리에 관한 더 세부적인 사항은 [문서](https://docs.python.org/2/library/stdtypes.html#dict)를 참조하라.\n",
        "\n"
      ]
    },
    {
      "cell_type": "markdown",
      "metadata": {
        "id": "gS0beXLB4p_R"
      },
      "source": [
        "<font color=”blue”> **문제 3**: 위의 Stackoverflow 설문 결과에서 각 국가별 응답자의 수를 모두 카운트해보자."
      ]
    },
    {
      "cell_type": "markdown",
      "metadata": {
        "id": "a4zv42jR47ZC"
      },
      "source": [
        "Python은 카운팅을 위한 편리하고 특별한 클래스 `Counter`를 제공하지만 여기에서는 그냥 Dictionary를 이용해서 카운팅을 해보자."
      ]
    },
    {
      "cell_type": "code",
      "execution_count": null,
      "metadata": {
        "colab": {
          "base_uri": "https://localhost:8080/"
        },
        "id": "DYniu85D5aE0",
        "outputId": "df677af9-7b16-4016-f887-d8db62482718"
      },
      "outputs": [
        {
          "output_type": "stream",
          "name": "stdout",
          "text": [
            "{'Slovakia': 252, 'Netherlands': 1772, 'Russian Federation': 1474, 'Austria': 808, 'United Kingdom of Great Britain and Northern Ireland': 4475, 'United States of America': 15288, 'Malaysia': 333, 'India': 10511, 'Sweden': 1196, 'Spain': 1485, 'Germany': 5625, 'Peru': 147, 'Turkey': 1054, 'Canada': 3012, 'Singapore': 339, 'Brazil': 2254, 'France': 2708, 'Switzerland': 922, 'Malawi': 11, 'Israel': 913, 'Poland': 1805, 'Ukraine': 770, 'Viet Nam': 386, 'Portugal': 530, 'Italy': 1666, 'Bulgaria': 402, 'Greece': 603, 'Iran, Islamic Republic of...': 900, 'Ireland': 386, 'Georgia': 161, 'Uzbekistan': 68, 'Hungary': 478, 'Belgium': 697, 'Pakistan': 838, 'Nigeria': 409, 'Albania': 73, 'Bangladesh': 704, 'Romania': 650, 'Sri Lanka': 396, 'Lithuania': 208, 'Slovenia': 235, 'Croatia': 250, 'Czech Republic': 792, 'Denmark': 599, 'Armenia': 92, 'Lebanon': 113, 'Bahrain': 28, 'Egypt': 521, 'Nepal': 337, 'Colombia': 381, 'Indonesia': 632, 'Australia': 1646, 'Turkmenistan': 13, 'Morocco': 204, 'Chile': 230, 'Serbia': 310, 'New Zealand': 522, 'Estonia': 130, 'Tunisia': 150, 'Finland': 528, 'Hong Kong (S.A.R.)': 198, 'United Arab Emirates': 182, 'Argentina': 587, 'Azerbaijan': 64, 'Philippines': 382, 'Costa Rica': 77, 'South Africa': 571, 'Kosovo': 45, 'Japan': 429, 'United Republic of Tanzania': 43, 'Bolivia': 48, 'Bosnia and Herzegovina': 130, 'Uruguay': 144, 'South Korea': 189, 'China': 1055, 'Norway': 602, 'Belarus': 165, 'Luxembourg': 51, 'Malta': 42, 'Ethiopia': 69, 'Madagascar': 18, 'Kenya': 263, 'The former Yugoslav Republic of Macedonia': 54, 'Botswana': 6, 'Algeria': 46, 'Senegal': 28, 'Mexico': 695, 'Cyprus': 56, 'Venezuela, Bolivarian Republic of...': 104, 'Cameroon': 38, 'Jordan': 72, 'Dominican Republic': 104, 'Ecuador': 103, 'Syrian Arab Republic': 51, 'Zambia': 22, 'Taiwan': 302, 'Nomadic': 54, 'Latvia': 107, 'Guatemala': 58, 'Paraguay': 47, 'Iceland': 43, 'Haiti': 5, 'Republic of Moldova': 55, 'Kazakhstan': 65, 'Libyan Arab Jamahiriya': 11, 'Afghanistan': 65, 'Panama': 31, \"Côte d'Ivoire\": 17, 'Cuba': 34, 'Myanmar': 55, 'Tajikistan': 9, \"Lao People's Democratic Republic\": 4, 'Yemen': 20, 'Thailand': 184, 'Qatar': 29, 'Democratic Republic of the Congo': 10, 'Iraq': 76, 'Mozambique': 12, 'Somalia': 7, 'Andorra': 12, 'Kyrgyzstan': 21, 'Kuwait': 29, 'Saudi Arabia': 137, 'Mauritania': 5, 'Honduras': 24, 'Angola': 27, 'Oman': 20, 'Swaziland': 10, 'Sudan': 27, 'Guyana': 7, 'Chad': 2, 'El Salvador': 32, 'Benin': 15, 'North Korea': 6, 'Nicaragua': 18, 'Dominica': 1, 'Trinidad and Tobago': 20, 'Ghana': 91, 'Barbados': 12, 'Burundi': 5, 'Micronesia, Federated States of...': 2, 'Zimbabwe': 36, 'Mauritius': 31, 'Gambia': 2, 'Bahamas': 7, 'Congo, Republic of the...': 12, 'Suriname': 5, 'Djibouti': 3, 'Republic of Korea': 54, 'Bhutan': 5, 'Cambodia': 35, 'Uganda': 63, 'Rwanda': 34, 'Montenegro': 17, 'Maldives': 16, 'Saint Kitts and Nevis': 1, 'Monaco': 2, 'Togo': 7, 'Isle of Man': 5, 'Jamaica': 20, 'Belize': 5, 'Palestine': 25, 'Mongolia': 21, 'Burkina Faso': 4, 'Liechtenstein': 1, 'Saint Lucia': 3, 'Cape Verde': 6, 'Brunei Darussalam': 1, 'Namibia': 12, 'Central African Republic': 3, 'Lesotho': 4, 'Guinea': 2, 'Liberia': 3, 'Fiji': 4, 'Niger': 3, 'Sierra Leone': 2, 'San Marino': 2, 'Saint Vincent and the Grenadines': 1, 'Tuvalu': 1, 'Papua New Guinea': 1, 'Mali': 2}\n"
          ]
        }
      ],
      "source": [
        "import csv\n",
        "\n",
        "counter = {}\n",
        "with open(file_path, 'r') as f:\n",
        "  csvreader = csv.reader(f)\n",
        "  header = next(csvreader)\n",
        "\n",
        "  for row in csvreader:\n",
        "    if row[3] not in counter:\n",
        "      counter[row[3]] = 0\n",
        "\n",
        "    counter[row[3]] += 1\n",
        "\n",
        "print(counter)"
      ]
    },
    {
      "cell_type": "code",
      "execution_count": null,
      "metadata": {
        "colab": {
          "base_uri": "https://localhost:8080/"
        },
        "id": "_O6ItGH6a77a",
        "outputId": "d5467275-996e-4515-c428-b88ad053deb8"
      },
      "outputs": [
        {
          "output_type": "stream",
          "name": "stdout",
          "text": [
            "['Afghanistan', 'Albania', 'Algeria', 'Andorra', 'Angola', 'Argentina', 'Armenia', 'Australia', 'Austria', 'Azerbaijan', 'Bahamas', 'Bahrain', 'Bangladesh', 'Barbados', 'Belarus', 'Belgium', 'Belize', 'Benin', 'Bhutan', 'Bolivia', 'Bosnia and Herzegovina', 'Botswana', 'Brazil', 'Brunei Darussalam', 'Bulgaria', 'Burkina Faso', 'Burundi', 'Cambodia', 'Cameroon', 'Canada', 'Cape Verde', 'Central African Republic', 'Chad', 'Chile', 'China', 'Colombia', 'Congo, Republic of the...', 'Costa Rica', 'Croatia', 'Cuba', 'Cyprus', 'Czech Republic', \"Côte d'Ivoire\", 'Democratic Republic of the Congo', 'Denmark', 'Djibouti', 'Dominica', 'Dominican Republic', 'Ecuador', 'Egypt', 'El Salvador', 'Estonia', 'Ethiopia', 'Fiji', 'Finland', 'France', 'Gambia', 'Georgia', 'Germany', 'Ghana', 'Greece', 'Guatemala', 'Guinea', 'Guyana', 'Haiti', 'Honduras', 'Hong Kong (S.A.R.)', 'Hungary', 'Iceland', 'India', 'Indonesia', 'Iran, Islamic Republic of...', 'Iraq', 'Ireland', 'Isle of Man', 'Israel', 'Italy', 'Jamaica', 'Japan', 'Jordan', 'Kazakhstan', 'Kenya', 'Kosovo', 'Kuwait', 'Kyrgyzstan', \"Lao People's Democratic Republic\", 'Latvia', 'Lebanon', 'Lesotho', 'Liberia', 'Libyan Arab Jamahiriya', 'Liechtenstein', 'Lithuania', 'Luxembourg', 'Madagascar', 'Malawi', 'Malaysia', 'Maldives', 'Mali', 'Malta', 'Mauritania', 'Mauritius', 'Mexico', 'Micronesia, Federated States of...', 'Monaco', 'Mongolia', 'Montenegro', 'Morocco', 'Mozambique', 'Myanmar', 'Namibia', 'Nepal', 'Netherlands', 'New Zealand', 'Nicaragua', 'Niger', 'Nigeria', 'Nomadic', 'North Korea', 'Norway', 'Oman', 'Pakistan', 'Palestine', 'Panama', 'Papua New Guinea', 'Paraguay', 'Peru', 'Philippines', 'Poland', 'Portugal', 'Qatar', 'Republic of Korea', 'Republic of Moldova', 'Romania', 'Russian Federation', 'Rwanda', 'Saint Kitts and Nevis', 'Saint Lucia', 'Saint Vincent and the Grenadines', 'San Marino', 'Saudi Arabia', 'Senegal', 'Serbia', 'Sierra Leone', 'Singapore', 'Slovakia', 'Slovenia', 'Somalia', 'South Africa', 'South Korea', 'Spain', 'Sri Lanka', 'Sudan', 'Suriname', 'Swaziland', 'Sweden', 'Switzerland', 'Syrian Arab Republic', 'Taiwan', 'Tajikistan', 'Thailand', 'The former Yugoslav Republic of Macedonia', 'Togo', 'Trinidad and Tobago', 'Tunisia', 'Turkey', 'Turkmenistan', 'Tuvalu', 'Uganda', 'Ukraine', 'United Arab Emirates', 'United Kingdom of Great Britain and Northern Ireland', 'United Republic of Tanzania', 'United States of America', 'Uruguay', 'Uzbekistan', 'Venezuela, Bolivarian Republic of...', 'Viet Nam', 'Yemen', 'Zambia', 'Zimbabwe']\n"
          ]
        }
      ],
      "source": [
        "print(sorted(counter))\n",
        "# print(counter.sort())   # Not working"
      ]
    },
    {
      "cell_type": "code",
      "execution_count": null,
      "metadata": {
        "colab": {
          "base_uri": "https://localhost:8080/"
        },
        "id": "Jk8GfIUOMiSn",
        "outputId": "20965b68-0726-4d40-f203-d4caa7c4e29b"
      },
      "outputs": [
        {
          "output_type": "stream",
          "name": "stdout",
          "text": [
            "[('Afghanistan', 65), ('Albania', 73), ('Algeria', 46), ('Andorra', 12), ('Angola', 27), ('Argentina', 587), ('Armenia', 92), ('Australia', 1646), ('Austria', 808), ('Azerbaijan', 64), ('Bahamas', 7), ('Bahrain', 28), ('Bangladesh', 704), ('Barbados', 12), ('Belarus', 165), ('Belgium', 697), ('Belize', 5), ('Benin', 15), ('Bhutan', 5), ('Bolivia', 48), ('Bosnia and Herzegovina', 130), ('Botswana', 6), ('Brazil', 2254), ('Brunei Darussalam', 1), ('Bulgaria', 402), ('Burkina Faso', 4), ('Burundi', 5), ('Cambodia', 35), ('Cameroon', 38), ('Canada', 3012), ('Cape Verde', 6), ('Central African Republic', 3), ('Chad', 2), ('Chile', 230), ('China', 1055), ('Colombia', 381), ('Congo, Republic of the...', 12), ('Costa Rica', 77), ('Croatia', 250), ('Cuba', 34), ('Cyprus', 56), ('Czech Republic', 792), (\"Côte d'Ivoire\", 17), ('Democratic Republic of the Congo', 10), ('Denmark', 599), ('Djibouti', 3), ('Dominica', 1), ('Dominican Republic', 104), ('Ecuador', 103), ('Egypt', 521), ('El Salvador', 32), ('Estonia', 130), ('Ethiopia', 69), ('Fiji', 4), ('Finland', 528), ('France', 2708), ('Gambia', 2), ('Georgia', 161), ('Germany', 5625), ('Ghana', 91), ('Greece', 603), ('Guatemala', 58), ('Guinea', 2), ('Guyana', 7), ('Haiti', 5), ('Honduras', 24), ('Hong Kong (S.A.R.)', 198), ('Hungary', 478), ('Iceland', 43), ('India', 10511), ('Indonesia', 632), ('Iran, Islamic Republic of...', 900), ('Iraq', 76), ('Ireland', 386), ('Isle of Man', 5), ('Israel', 913), ('Italy', 1666), ('Jamaica', 20), ('Japan', 429), ('Jordan', 72), ('Kazakhstan', 65), ('Kenya', 263), ('Kosovo', 45), ('Kuwait', 29), ('Kyrgyzstan', 21), (\"Lao People's Democratic Republic\", 4), ('Latvia', 107), ('Lebanon', 113), ('Lesotho', 4), ('Liberia', 3), ('Libyan Arab Jamahiriya', 11), ('Liechtenstein', 1), ('Lithuania', 208), ('Luxembourg', 51), ('Madagascar', 18), ('Malawi', 11), ('Malaysia', 333), ('Maldives', 16), ('Mali', 2), ('Malta', 42), ('Mauritania', 5), ('Mauritius', 31), ('Mexico', 695), ('Micronesia, Federated States of...', 2), ('Monaco', 2), ('Mongolia', 21), ('Montenegro', 17), ('Morocco', 204), ('Mozambique', 12), ('Myanmar', 55), ('Namibia', 12), ('Nepal', 337), ('Netherlands', 1772), ('New Zealand', 522), ('Nicaragua', 18), ('Niger', 3), ('Nigeria', 409), ('Nomadic', 54), ('North Korea', 6), ('Norway', 602), ('Oman', 20), ('Pakistan', 838), ('Palestine', 25), ('Panama', 31), ('Papua New Guinea', 1), ('Paraguay', 47), ('Peru', 147), ('Philippines', 382), ('Poland', 1805), ('Portugal', 530), ('Qatar', 29), ('Republic of Korea', 54), ('Republic of Moldova', 55), ('Romania', 650), ('Russian Federation', 1474), ('Rwanda', 34), ('Saint Kitts and Nevis', 1), ('Saint Lucia', 3), ('Saint Vincent and the Grenadines', 1), ('San Marino', 2), ('Saudi Arabia', 137), ('Senegal', 28), ('Serbia', 310), ('Sierra Leone', 2), ('Singapore', 339), ('Slovakia', 252), ('Slovenia', 235), ('Somalia', 7), ('South Africa', 571), ('South Korea', 189), ('Spain', 1485), ('Sri Lanka', 396), ('Sudan', 27), ('Suriname', 5), ('Swaziland', 10), ('Sweden', 1196), ('Switzerland', 922), ('Syrian Arab Republic', 51), ('Taiwan', 302), ('Tajikistan', 9), ('Thailand', 184), ('The former Yugoslav Republic of Macedonia', 54), ('Togo', 7), ('Trinidad and Tobago', 20), ('Tunisia', 150), ('Turkey', 1054), ('Turkmenistan', 13), ('Tuvalu', 1), ('Uganda', 63), ('Ukraine', 770), ('United Arab Emirates', 182), ('United Kingdom of Great Britain and Northern Ireland', 4475), ('United Republic of Tanzania', 43), ('United States of America', 15288), ('Uruguay', 144), ('Uzbekistan', 68), ('Venezuela, Bolivarian Republic of...', 104), ('Viet Nam', 386), ('Yemen', 20), ('Zambia', 22), ('Zimbabwe', 36)]\n"
          ]
        }
      ],
      "source": [
        "print(sorted(counter.items()))"
      ]
    },
    {
      "cell_type": "code",
      "execution_count": null,
      "metadata": {
        "colab": {
          "base_uri": "https://localhost:8080/"
        },
        "id": "mD_gw87vNOBO",
        "outputId": "645c4305-d549-49f7-b88d-d70f10626baf"
      },
      "outputs": [
        {
          "output_type": "stream",
          "name": "stdout",
          "text": [
            "[('United States of America', 15288), ('India', 10511), ('Germany', 5625), ('United Kingdom of Great Britain and Northern Ireland', 4475), ('Canada', 3012), ('France', 2708), ('Brazil', 2254), ('Poland', 1805), ('Netherlands', 1772), ('Italy', 1666), ('Australia', 1646), ('Spain', 1485), ('Russian Federation', 1474), ('Sweden', 1196), ('China', 1055), ('Turkey', 1054), ('Switzerland', 922), ('Israel', 913), ('Iran, Islamic Republic of...', 900), ('Pakistan', 838), ('Austria', 808), ('Czech Republic', 792), ('Ukraine', 770), ('Bangladesh', 704), ('Belgium', 697), ('Mexico', 695), ('Romania', 650), ('Indonesia', 632), ('Greece', 603), ('Norway', 602), ('Denmark', 599), ('Argentina', 587), ('South Africa', 571), ('Portugal', 530), ('Finland', 528), ('New Zealand', 522), ('Egypt', 521), ('Hungary', 478), ('Japan', 429), ('Nigeria', 409), ('Bulgaria', 402), ('Sri Lanka', 396), ('Viet Nam', 386), ('Ireland', 386), ('Philippines', 382), ('Colombia', 381), ('Singapore', 339), ('Nepal', 337), ('Malaysia', 333), ('Serbia', 310), ('Taiwan', 302), ('Kenya', 263), ('Slovakia', 252), ('Croatia', 250), ('Slovenia', 235), ('Chile', 230), ('Lithuania', 208), ('Morocco', 204), ('Hong Kong (S.A.R.)', 198), ('South Korea', 189), ('Thailand', 184), ('United Arab Emirates', 182), ('Belarus', 165), ('Georgia', 161), ('Tunisia', 150), ('Peru', 147), ('Uruguay', 144), ('Saudi Arabia', 137), ('Estonia', 130), ('Bosnia and Herzegovina', 130), ('Lebanon', 113), ('Latvia', 107), ('Venezuela, Bolivarian Republic of...', 104), ('Dominican Republic', 104), ('Ecuador', 103), ('Armenia', 92), ('Ghana', 91), ('Costa Rica', 77), ('Iraq', 76), ('Albania', 73), ('Jordan', 72), ('Ethiopia', 69), ('Uzbekistan', 68), ('Kazakhstan', 65), ('Afghanistan', 65), ('Azerbaijan', 64), ('Uganda', 63), ('Guatemala', 58), ('Cyprus', 56), ('Republic of Moldova', 55), ('Myanmar', 55), ('The former Yugoslav Republic of Macedonia', 54), ('Nomadic', 54), ('Republic of Korea', 54), ('Luxembourg', 51), ('Syrian Arab Republic', 51), ('Bolivia', 48), ('Paraguay', 47), ('Algeria', 46), ('Kosovo', 45), ('United Republic of Tanzania', 43), ('Iceland', 43), ('Malta', 42), ('Cameroon', 38), ('Zimbabwe', 36), ('Cambodia', 35), ('Cuba', 34), ('Rwanda', 34), ('El Salvador', 32), ('Panama', 31), ('Mauritius', 31), ('Qatar', 29), ('Kuwait', 29), ('Bahrain', 28), ('Senegal', 28), ('Angola', 27), ('Sudan', 27), ('Palestine', 25), ('Honduras', 24), ('Zambia', 22), ('Kyrgyzstan', 21), ('Mongolia', 21), ('Yemen', 20), ('Oman', 20), ('Trinidad and Tobago', 20), ('Jamaica', 20), ('Madagascar', 18), ('Nicaragua', 18), (\"Côte d'Ivoire\", 17), ('Montenegro', 17), ('Maldives', 16), ('Benin', 15), ('Turkmenistan', 13), ('Mozambique', 12), ('Andorra', 12), ('Barbados', 12), ('Congo, Republic of the...', 12), ('Namibia', 12), ('Malawi', 11), ('Libyan Arab Jamahiriya', 11), ('Democratic Republic of the Congo', 10), ('Swaziland', 10), ('Tajikistan', 9), ('Somalia', 7), ('Guyana', 7), ('Bahamas', 7), ('Togo', 7), ('Botswana', 6), ('North Korea', 6), ('Cape Verde', 6), ('Haiti', 5), ('Mauritania', 5), ('Burundi', 5), ('Suriname', 5), ('Bhutan', 5), ('Isle of Man', 5), ('Belize', 5), (\"Lao People's Democratic Republic\", 4), ('Burkina Faso', 4), ('Lesotho', 4), ('Fiji', 4), ('Djibouti', 3), ('Saint Lucia', 3), ('Central African Republic', 3), ('Liberia', 3), ('Niger', 3), ('Chad', 2), ('Micronesia, Federated States of...', 2), ('Gambia', 2), ('Monaco', 2), ('Guinea', 2), ('Sierra Leone', 2), ('San Marino', 2), ('Mali', 2), ('Dominica', 1), ('Saint Kitts and Nevis', 1), ('Liechtenstein', 1), ('Brunei Darussalam', 1), ('Saint Vincent and the Grenadines', 1), ('Tuvalu', 1), ('Papua New Guinea', 1)]\n"
          ]
        }
      ],
      "source": [
        "def a(kv):\n",
        "  return kv[1]\n",
        "\n",
        "# print(sorted(counter.items(), key=a, reverse=True))\n",
        "\n",
        "print(sorted(counter.items(), key=lambda kv : kv[1], reverse=True))"
      ]
    },
    {
      "cell_type": "markdown",
      "metadata": {
        "id": "3EB0sVhaNpg0"
      },
      "source": [
        "<font color=”blue”> **문제 4**: 위의 Stackoverflow 설문 결과에서 각 프로그래밍 언어별 응답자의 수를 모두 카운트하여, 각 언어의 사용 비율, 즉 각 언어별로 전체 응답자의 몇 퍼센트가 그 언어를 사용하는지 계산하여 비율이 높은 언어부터 순서대로 출력해보자."
      ]
    },
    {
      "cell_type": "code",
      "execution_count": null,
      "metadata": {
        "id": "8wfl7NINaNtU"
      },
      "outputs": [],
      "source": [
        "# Left as an exercise\n"
      ]
    },
    {
      "cell_type": "markdown",
      "metadata": {
        "id": "V9MHfUdvL9g2"
      },
      "source": [
        "## 집합(Set)"
      ]
    },
    {
      "cell_type": "markdown",
      "metadata": {
        "id": "Rpm4UtNpL9g2"
      },
      "source": [
        "집합은 순서가 없는 서로 다른 원소들의 모임이다"
      ]
    },
    {
      "cell_type": "code",
      "execution_count": null,
      "metadata": {
        "colab": {
          "base_uri": "https://localhost:8080/"
        },
        "id": "MmyaniLsL9g2",
        "outputId": "e6d99a9c-6927-4e46-fd94-63e09fb38fe2"
      },
      "outputs": [
        {
          "output_type": "stream",
          "name": "stdout",
          "text": [
            "True\n",
            "False\n"
          ]
        }
      ],
      "source": [
        "animals = {'cat', 'dog'}\n",
        "print('cat' in animals)   # Check if an element is in a set; prints \"True\"\n",
        "print('fish' in animals)  # prints \"False\"\n"
      ]
    },
    {
      "cell_type": "code",
      "execution_count": null,
      "metadata": {
        "colab": {
          "base_uri": "https://localhost:8080/"
        },
        "id": "ElJEyK86L9g6",
        "outputId": "0ad47e02-2419-40c9-8d11-5b51077f0416"
      },
      "outputs": [
        {
          "output_type": "stream",
          "name": "stdout",
          "text": [
            "True\n",
            "3\n"
          ]
        }
      ],
      "source": [
        "animals.add('fish')      # Add an element to a set\n",
        "print('fish' in animals)\n",
        "print(len(animals))       # Number of elements in a set;"
      ]
    },
    {
      "cell_type": "code",
      "execution_count": null,
      "metadata": {
        "colab": {
          "base_uri": "https://localhost:8080/"
        },
        "id": "5uGmrxdPL9g9",
        "outputId": "4152aa40-dbc7-40eb-e02b-7feaaec96fff"
      },
      "outputs": [
        {
          "output_type": "stream",
          "name": "stdout",
          "text": [
            "3\n",
            "2\n"
          ]
        }
      ],
      "source": [
        "animals.add('cat')       # Adding an element that is already in the set does nothing\n",
        "print(len(animals))\n",
        "animals.remove('cat')    # Remove an element from a set\n",
        "print(len(animals))"
      ]
    },
    {
      "cell_type": "markdown",
      "metadata": {
        "id": "zk2DbvLKL9g_"
      },
      "source": [
        "집합의 원소들간에는 순서가 없으므로 다음과 같이 집합의 원소들을 iterate할 때 항상 동일한 순서로 iterate되다고 가정해서는 않된다."
      ]
    },
    {
      "cell_type": "code",
      "execution_count": null,
      "metadata": {
        "colab": {
          "base_uri": "https://localhost:8080/"
        },
        "id": "K47KYNGyL9hA",
        "outputId": "2b557cc7-12c4-44fd-ae6d-24d6e73d2283"
      },
      "outputs": [
        {
          "output_type": "stream",
          "name": "stdout",
          "text": [
            "#1: cat\n",
            "#2: fish\n",
            "#3: dog\n"
          ]
        }
      ],
      "source": [
        "animals = {'cat', 'dog', 'fish'}\n",
        "for idx, animal in enumerate(animals):\n",
        "    print('#{}: {}'.format(idx + 1, animal))"
      ]
    },
    {
      "cell_type": "markdown",
      "metadata": {
        "id": "puq4S8buL9hC"
      },
      "source": [
        "리스트와 마찬가지로 다음과 같이 set comprehension을 지원한다."
      ]
    },
    {
      "cell_type": "code",
      "execution_count": null,
      "metadata": {
        "colab": {
          "base_uri": "https://localhost:8080/"
        },
        "id": "iw7k90k3L9hC",
        "outputId": "a4fe10e6-cbe0-4818-d102-ba7fc03c182d"
      },
      "outputs": [
        {
          "output_type": "stream",
          "name": "stdout",
          "text": [
            "{0, 1, 2, 3, 4, 5}\n"
          ]
        }
      ],
      "source": [
        "from math import sqrt\n",
        "print({int(sqrt(x)) for x in range(30)})"
      ]
    },
    {
      "cell_type": "markdown",
      "metadata": {
        "id": "qPsHSKB1L9hF"
      },
      "source": [
        "## 튜플(Tuple)"
      ]
    },
    {
      "cell_type": "markdown",
      "metadata": {
        "id": "kucc0LKVL9hG"
      },
      "source": [
        "튜플은 immutable한 리스트이다. 즉, 한 번 생성된 튜플은 값을 변경할 수 없다. 그점을 제외하고 튜플은 리스트와 매우 유사하지만 중요한 차이가 한가지 있다. **튜플은 딕셔너리의 key로 사용될 수 있지만 리스트는 그렇지 않다.**"
      ]
    },
    {
      "cell_type": "code",
      "execution_count": null,
      "metadata": {
        "colab": {
          "base_uri": "https://localhost:8080/"
        },
        "id": "9wHUyTKxL9hH",
        "outputId": "8cb35400-d3df-4d3a-fa4a-34a6c78ae7d7"
      },
      "outputs": [
        {
          "output_type": "stream",
          "name": "stdout",
          "text": [
            "<class 'tuple'>\n",
            "5\n",
            "1\n"
          ]
        }
      ],
      "source": [
        "d = {(x, x + 1): x for x in range(10)}  # Create a dictionary with tuple keys\n",
        "t = (5, 6)       # Create a tuple\n",
        "print(type(t))\n",
        "print(d[t])\n",
        "print(d[(1, 2)])"
      ]
    },
    {
      "cell_type": "code",
      "execution_count": null,
      "metadata": {
        "id": "HoO8zYKzL9hJ",
        "colab": {
          "base_uri": "https://localhost:8080/",
          "height": 162
        },
        "outputId": "2847d5b0-28e6-44f5-c18c-cb88c4b95637"
      },
      "outputs": [
        {
          "output_type": "error",
          "ename": "TypeError",
          "evalue": "ignored",
          "traceback": [
            "\u001b[0;31m---------------------------------------------------------------------------\u001b[0m",
            "\u001b[0;31mTypeError\u001b[0m                                 Traceback (most recent call last)",
            "\u001b[0;32m<ipython-input-48-6be48084e178>\u001b[0m in \u001b[0;36m<module>\u001b[0;34m\u001b[0m\n\u001b[0;32m----> 1\u001b[0;31m \u001b[0mt\u001b[0m\u001b[0;34m[\u001b[0m\u001b[0;36m0\u001b[0m\u001b[0;34m]\u001b[0m \u001b[0;34m=\u001b[0m \u001b[0;36m1\u001b[0m \u001b[0;31m# Not working since tuple is immutable\u001b[0m\u001b[0;34m\u001b[0m\u001b[0;34m\u001b[0m\u001b[0m\n\u001b[0m",
            "\u001b[0;31mTypeError\u001b[0m: 'tuple' object does not support item assignment"
          ]
        }
      ],
      "source": [
        "t[0] = 1 # Not working since tuple is immutable"
      ]
    },
    {
      "cell_type": "markdown",
      "metadata": {
        "id": "AXA4jrEOL9hM"
      },
      "source": [
        "## 함수(Function)"
      ]
    },
    {
      "cell_type": "markdown",
      "metadata": {
        "id": "WaRms-QfL9hN"
      },
      "source": [
        "키워드 def를 사용하여 다음과 같이 함수를 정의한다."
      ]
    },
    {
      "cell_type": "code",
      "execution_count": null,
      "metadata": {
        "colab": {
          "base_uri": "https://localhost:8080/"
        },
        "id": "kiMDUr58L9hN",
        "outputId": "461fe8fa-9305-42ae-c7f1-5b28f520685b"
      },
      "outputs": [
        {
          "output_type": "stream",
          "name": "stdout",
          "text": [
            "negative\n",
            "zero\n",
            "positive\n"
          ]
        }
      ],
      "source": [
        "def sign(x):\n",
        "    if x > 0:\n",
        "        return 'positive'\n",
        "    elif x < 0:\n",
        "        return 'negative'\n",
        "    else:\n",
        "        return 'zero'\n",
        "\n",
        "for x in [-1, 0, 1]:\n",
        "    print(sign(x))"
      ]
    },
    {
      "cell_type": "markdown",
      "metadata": {
        "id": "U-QJFt8TL9hR"
      },
      "source": [
        "다음과 같이 optional argument와 그것의 default 값을 지정할 수 있다."
      ]
    },
    {
      "cell_type": "code",
      "execution_count": null,
      "metadata": {
        "colab": {
          "base_uri": "https://localhost:8080/"
        },
        "id": "PfsZ3DazL9hR",
        "outputId": "be79f69c-e64d-4d57-a872-0b2f5fb3456b"
      },
      "outputs": [
        {
          "output_type": "stream",
          "name": "stdout",
          "text": [
            "Hello, Bob!\n",
            "HELLO, FRED\n"
          ]
        }
      ],
      "source": [
        "def hello(name, loud=False):\n",
        "    if loud:\n",
        "        print('HELLO, {}'.format(name.upper()))\n",
        "    else:\n",
        "        print('Hello, {}!'.format(name))\n",
        "\n",
        "hello('Bob')\n",
        "hello('Fred', loud=True)"
      ]
    },
    {
      "cell_type": "markdown",
      "metadata": {
        "id": "FsTyOjsiP9e3"
      },
      "source": [
        "Python의 함수는 다른 변수에 치환될 수 있고, 매개변수로 넘겨질 수 있다. 소위 '1급 시민'(First Class Citizen)이다."
      ]
    },
    {
      "cell_type": "code",
      "execution_count": null,
      "metadata": {
        "colab": {
          "base_uri": "https://localhost:8080/"
        },
        "id": "X1y6Eglenp_S",
        "outputId": "f68aaf4c-3a93-4c22-850b-cd7aa9d9eeda"
      },
      "outputs": [
        {
          "output_type": "stream",
          "name": "stdout",
          "text": [
            "Hello, John!\n"
          ]
        }
      ],
      "source": [
        "myfunc = hello\n",
        "myfunc('John')"
      ]
    },
    {
      "cell_type": "code",
      "execution_count": null,
      "metadata": {
        "colab": {
          "base_uri": "https://localhost:8080/"
        },
        "id": "RYzNVExAQUB4",
        "outputId": "7b84feda-ceb2-4e83-b15e-d557f3bf91b6"
      },
      "outputs": [
        {
          "output_type": "stream",
          "name": "stdout",
          "text": [
            "Hello, John!\n"
          ]
        }
      ],
      "source": [
        "def process(func):\n",
        "  func('John')\n",
        "\n",
        "process(hello)"
      ]
    },
    {
      "cell_type": "markdown",
      "metadata": {
        "id": "D4VQjKm6N56j"
      },
      "source": [
        "## Lambda"
      ]
    },
    {
      "cell_type": "markdown",
      "metadata": {
        "id": "5l0vCzgMQzBL"
      },
      "source": [
        "Lambda는 한 마디로 '익명의 함수'를 정의하는 규칙이다. 함수를 정의할 때는 코드 상의 여러 곳에서 반복적으로 호출될 것을 염두에 두는 것이 일반적이다. 반면 오직 한 번만 호출되는 함수가 있다면 이를 함수로 정의하는 것은 다소 번거롭다고 할 수 있다. 이럴 경우 lambda를 이용하면 코드를 간결하게 할 수 있다."
      ]
    },
    {
      "cell_type": "code",
      "execution_count": null,
      "metadata": {
        "colab": {
          "base_uri": "https://localhost:8080/"
        },
        "id": "jdiTdQmoPDq1",
        "outputId": "fda48f23-ea0b-45bd-9c77-f5f0703c2a98"
      },
      "outputs": [
        {
          "output_type": "stream",
          "name": "stdout",
          "text": [
            "[2, 4, 6, 8, 10, 12]\n"
          ]
        }
      ],
      "source": [
        "my_list = [1, 2, 3, 4, 5, 6]\n",
        "\n",
        "# Python의 map 함수는 하나의 iterable 객체(리스트, 튜플 등)와 iterable의 각 원소에 적용될\n",
        "# 하나의 함수를 받아서 iterable의 각 원소에 그 함수를 적용한 결과를\n",
        "# 하나의 map 객체로 반환한다.\n",
        "# print(map(lambda x: x*2, my_list))\n",
        "new_list = list(map(lambda x: x*2, my_list))\n",
        "print(new_list) # [2, 4, 6, 8, 10, 12]"
      ]
    },
    {
      "cell_type": "code",
      "execution_count": null,
      "metadata": {
        "colab": {
          "base_uri": "https://localhost:8080/"
        },
        "id": "MWZXRmNkT-gj",
        "outputId": "7df11e97-17b2-4dde-a662-d9b3290f85e1"
      },
      "outputs": [
        {
          "output_type": "stream",
          "name": "stdout",
          "text": [
            "[18, 5, 12]\n"
          ]
        }
      ],
      "source": [
        "my_list = [18, -3, 5, 0, -1, 12]\n",
        "\n",
        "# Python의 filter 함수는 하나의 iterable 객체와 iterable의 각 원소에 적용될\n",
        "# 하나의 함수를 받아서 iterable의 각 원소에 그 함수를 적용한 결과가 True인 원소들만을 선택하여\n",
        "# 하나의 map 객체로 반환한다.\n",
        "new_list = list(filter(lambda x: x > 0, my_list))\n",
        "print(new_list) # [18, 5, 12]"
      ]
    },
    {
      "cell_type": "code",
      "execution_count": null,
      "metadata": {
        "colab": {
          "base_uri": "https://localhost:8080/"
        },
        "id": "6CoJOQPgUzll",
        "outputId": "90d6b2b8-1e4a-4a1d-ce03-95dadada2094"
      },
      "outputs": [
        {
          "output_type": "stream",
          "name": "stdout",
          "text": [
            "['afternoon', 'bye', 'hello', 'morning', 'today']\n",
            "['bye', 'hello', 'today', 'morning', 'afternoon']\n"
          ]
        }
      ],
      "source": [
        "words = ['hello', 'bye', 'morning', 'afternoon', 'today']\n",
        "print(sorted(words))\n",
        "print(sorted(words, key=lambda s: len(s)))"
      ]
    },
    {
      "cell_type": "markdown",
      "metadata": {
        "id": "ObA9PRtQL9hT"
      },
      "source": [
        "## 클래스(Class)"
      ]
    },
    {
      "cell_type": "markdown",
      "metadata": {
        "id": "hAzL_lTkL9hU"
      },
      "source": [
        "Python에서는 다음과 같이 클래스를 정의한다."
      ]
    },
    {
      "cell_type": "code",
      "execution_count": null,
      "metadata": {
        "colab": {
          "base_uri": "https://localhost:8080/"
        },
        "id": "RWdbaGigL9hU",
        "outputId": "fba6e2ab-3ffe-405b-9ff5-4356e35d473c"
      },
      "outputs": [
        {
          "output_type": "stream",
          "name": "stdout",
          "text": [
            "Hello, Fred!\n",
            "HELLO, FRED\n"
          ]
        }
      ],
      "source": [
        "class Greeter:\n",
        "\n",
        "    # Constructor\n",
        "    def __init__(self, name):\n",
        "        self.name = name  # Create an instance variable\n",
        "\n",
        "    # Instance method\n",
        "    def greet(self, loud=False):\n",
        "        if loud:\n",
        "          print('HELLO, {}'.format(self.name.upper()))\n",
        "        else:\n",
        "          print('Hello, {}!'.format(self.name))\n",
        "\n",
        "g = Greeter('Fred')  # Construct an instance of the Greeter class\n",
        "g.greet()            # Call an instance method; prints \"Hello, Fred\"\n",
        "g.greet(loud=True)   # Call an instance method; prints \"HELLO, FRED!\""
      ]
    }
  ],
  "metadata": {
    "celltoolbar": "Slideshow",
    "colab": {
      "provenance": []
    },
    "kernelspec": {
      "display_name": "Python 3",
      "language": "python",
      "name": "python3"
    },
    "language_info": {
      "codemirror_mode": {
        "name": "ipython",
        "version": 3
      },
      "file_extension": ".py",
      "mimetype": "text/x-python",
      "name": "python",
      "nbconvert_exporter": "python",
      "pygments_lexer": "ipython3",
      "version": "3.8.13"
    }
  },
  "nbformat": 4,
  "nbformat_minor": 0
}