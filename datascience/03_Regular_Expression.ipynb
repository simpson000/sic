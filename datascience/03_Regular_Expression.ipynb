{
  "cells": [
    {
      "cell_type": "markdown",
      "metadata": {
        "id": "tC0naVwKLAdH"
      },
      "source": [
        "# 정규표현식(Regular Expression)"
      ]
    },
    {
      "cell_type": "markdown",
      "metadata": {
        "id": "vWCDJ-4sKvdk"
      },
      "source": [
        "정규표현식을 이용한 스트링에서의 패턴매칭(pattern matching)에 대해 다룬다.\n",
        "정규표현식은 패턴을 표현하는 일종의 언어이다.\n",
        "\n",
        "예를 들어서 \"먼저 `A`가 한번 나오고 다음으로 `BC` 혹은 `CB`가 1번 이상 반복되다가 `E`로 끝나는 패턴\"이 있다고 하자. 예를 들면 `'ABCBCCBE'` 혹은 `'ACBE'` 등이 이 패턴에 해당한다.\n",
        "\n",
        "이 패턴은 정규표현식으로 `'A(BC|CB)+E'`로 표현된다. 이 정규표현식을 이용하여 주어진 텍스트에 이런 패턴이 존재하는지 검사하거나 혹은 이 패턴의 모든 인스턴스를 찾아내는 등의 일을 할 수 있다.\n",
        "\n",
        "정규표현식은 데이터사이언스 응용에서 데이터 cleaning을 위한 필수적인 테크닉의 하나이다."
      ]
    },
    {
      "cell_type": "code",
      "execution_count": null,
      "metadata": {
        "id": "9scL-ObqKvdo"
      },
      "outputs": [],
      "source": [
        "# 먼저 re 모듈을 import한다.\n",
        "import re"
      ]
    },
    {
      "cell_type": "code",
      "execution_count": null,
      "metadata": {
        "colab": {
          "base_uri": "https://localhost:8080/"
        },
        "id": "A0Ea6ilDtf-7",
        "outputId": "d1ec5ca0-1c4c-4abc-e055-a34b3f9a990f"
      },
      "outputs": [
        {
          "output_type": "stream",
          "name": "stdout",
          "text": [
            "None\n",
            "<re.Match object; span=(3, 11), match='ABCBCCBE'>\n",
            "['CB']\n"
          ]
        }
      ],
      "source": [
        "print(re.match(\"A(BC|CB)+E\", 'BBABCBCCBEFGH'))\n",
        "print(re.search(\"A(BC|CB)+E\", 'BBCABCBCCBEFGHABCE'))\n",
        "print(re.findall(\"A(BC|CB)+E\", 'BBCABCBCCBEFGH'))"
      ]
    },
    {
      "cell_type": "markdown",
      "metadata": {
        "id": "02dGxe1-4140"
      },
      "source": [
        "`re` 모듈은 텍스트에서 패턴을 검색하는 몇몇 함수들을 제공한다. 대표적인 예는 다음과 같다.\n",
        "\n",
        "*   `re.match(pattern, text)`\n",
        "*   `re.search(pattern, text)`\n",
        "*   `re.findall(pattern, text)`"
      ]
    },
    {
      "cell_type": "markdown",
      "metadata": {
        "id": "Uz71AcOP0UxE"
      },
      "source": [
        "`re` 모듈이 제공하는 메서드들 중 `match()` 함수는 주어진 패턴이 문자열의 시작 부분에서 매치되는지 검사한다. 반면 `search()`는 문자열 전체에서 매치되는지 검사하지만, 첫 번째 매치결과만을 반환한다.\n",
        "두 함수 모두 매치될 경우에는 `re.Match` 객체를 반환하고 매치되지 않을 경우 `None`을 반환한다.\n",
        "\n",
        "위의 코드에서 `match`의 경우 문자열의 시작 부분에서는 매치되지 않으므로 `None`이 반환되었고, `search`의 경우 처음으로 매치되는 부분을 찾아서 반환하였다. `findall`의 경우 예상과 다르게 동작하는데 이에 대해서는 뒤에서 설명한다.\n",
        "\n",
        "매치되는 경우에 반환되는 `re.Match` 객체는 `if` 문으로 검사할 때 boolean 값 `True`로 계산되므로 `if`문으로 매치 여부를 검사할 수 있다. `re.Match` 객체의 `span` 속성이 텍스트 내에서 패턴이 매치된 위치를 알려준다."
      ]
    },
    {
      "cell_type": "code",
      "execution_count": null,
      "metadata": {
        "colab": {
          "base_uri": "https://localhost:8080/"
        },
        "id": "lxzRkT0lKvdp",
        "outputId": "6855f6a3-0cba-4e7d-ba5a-b7387f68bc3b"
      },
      "outputs": [
        {
          "name": "stdout",
          "output_type": "stream",
          "text": [
            "<re.Match object; span=(0, 3), match='Thi'>\n",
            "None Not matched\n",
            "<re.Match object; span=(10, 14), match='good'>\n"
          ]
        }
      ],
      "source": [
        "text = \"This is a good day. It's a good thing.\"\n",
        "\n",
        "# 찾을 패턴이 첫 번째 매개변수이다.\n",
        "z = re.match(\"Thi\", text)\n",
        "if z:\n",
        "  print(z)\n",
        "else:\n",
        "  print('Not matched')\n",
        "\n",
        "z = re.match(\"good\", text)\n",
        "if z:\n",
        "  print(z)\n",
        "else:\n",
        "  print(z, \"Not matched\")\n",
        "\n",
        "z = re.search(\"good\", text)\n",
        "if z:\n",
        "    print(z)\n",
        "else:\n",
        "    print(\"Not matched\")"
      ]
    },
    {
      "cell_type": "markdown",
      "metadata": {
        "id": "7plCHchW1R47"
      },
      "source": [
        "`findall()` 메서드는 텍스트에 패턴이 등장하는 모든 인스턴스를 찾아 문자열의 리스트로 반환한다."
      ]
    },
    {
      "cell_type": "code",
      "execution_count": null,
      "metadata": {
        "colab": {
          "base_uri": "https://localhost:8080/"
        },
        "id": "jgibxPzxKvdr",
        "outputId": "8a609689-445c-4e96-e813-9dde76110c71"
      },
      "outputs": [
        {
          "name": "stdout",
          "output_type": "stream",
          "text": [
            "['good', 'good'] <class 'list'>\n"
          ]
        }
      ],
      "source": [
        "z = re.findall(\"good\", text)\n",
        "print(z, type(z))"
      ]
    },
    {
      "cell_type": "markdown",
      "metadata": {
        "id": "KcsXc-D76OUA"
      },
      "source": [
        "`findall` 함수가 모든 매치를 찾아주긴 하지만 매치된 패턴의 위치까지 보고하지는 않는다. 또한 정규표현식에 그룹(group)이 포함될 경우 (위의 첫 번째 코드셀에서와 같이) 예상과는 다르게 동작한다. 그래서 모든 매치를 찾고 또한 위치 정보까지 얻기를 원한다면 다음과 같이 `finditer` 함수를 사용하는 것이 좋다."
      ]
    },
    {
      "cell_type": "code",
      "execution_count": null,
      "metadata": {
        "colab": {
          "base_uri": "https://localhost:8080/"
        },
        "id": "HlsxXD1J2bZz",
        "outputId": "9881816c-c38b-45ea-dd2d-29c8171ab1dd"
      },
      "outputs": [
        {
          "name": "stdout",
          "output_type": "stream",
          "text": [
            "<class 'callable_iterator'>\n",
            "<re.Match object; span=(10, 14), match='good'>\n",
            "<re.Match object; span=(27, 31), match='good'>\n"
          ]
        }
      ],
      "source": [
        "text_to_search = \"This is a good day. It's a good thing.\"\n",
        "matches = re.finditer('good', text_to_search)\n",
        "print(type(matches))\n",
        "\n",
        "for match in matches:\n",
        "  print(match)"
      ]
    },
    {
      "cell_type": "markdown",
      "metadata": {
        "id": "h5SOaBXe5CC-"
      },
      "source": [
        "종종 특정한 패턴을 찾은 후 다른 문자열로 교체(substitute, replace)하는 경우가 있다. 이 경우 `re.sub()` 함수를 사용한다."
      ]
    },
    {
      "cell_type": "code",
      "execution_count": null,
      "metadata": {
        "colab": {
          "base_uri": "https://localhost:8080/"
        },
        "id": "mXAuOa_-5Q7p",
        "outputId": "b7646d36-266f-4565-9c98-5c6f63ed6304"
      },
      "outputs": [
        {
          "output_type": "stream",
          "name": "stdout",
          "text": [
            "colour socks and colour shoes and colour shirts\n",
            "colour socks and colour shoes and colour shirts\n",
            "colour socks and colour shoes and colour shirts\n",
            "colour socks and red shoes and white shirts\n"
          ]
        }
      ],
      "source": [
        "text = 'blue socks and red shoes and white shirts'\n",
        "pattern = 'blue|white|red'\n",
        "\n",
        "print(re.sub(pattern, 'colour', text))\n",
        "\n",
        "p = re.compile(pattern)\n",
        "print(p.sub('colour', text))\n",
        "print(re.sub(p, 'colour', text))\n",
        "print(p.sub('colour', text, count=1))"
      ]
    },
    {
      "cell_type": "markdown",
      "metadata": {
        "id": "fJYMamK12soU"
      },
      "source": [
        "#### raw string의 사용"
      ]
    },
    {
      "cell_type": "markdown",
      "metadata": {
        "id": "G9GwWEgu3-1y"
      },
      "source": [
        "Python에서 문자열(string)을 표시할 때 예를 들어 `r'hello'`와 같이 문자열 앞에 `r`을 추가하면 raw string이 된다. 예를 들어 `'\\n'`은 하나의 `newline` 문자로 이루어진  길이가 1인 문자열이지만 `r'\\n'`는 하나의 백슬래쉬와 문자 `n`으로 구성된 길이가 2인 문자열이다.  \n",
        "\n",
        "**정규표현식은 항상 raw string으로 표시하는 것이 좋다.** 이유는 백슬래쉬(`\\`)와 같은 문자들이 정규표현식에서 특별한 기능을 하는 특수 문자인데 Python의 string에서도 역시 특수문자이기 때문에 이중으로 부여된 특수 기능을 수행해버리기 때문이다."
      ]
    },
    {
      "cell_type": "code",
      "execution_count": null,
      "metadata": {
        "colab": {
          "base_uri": "https://localhost:8080/"
        },
        "id": "GRY0fdsm45x8",
        "outputId": "827cb06e-9efe-42a7-d454-59dcf7b97918"
      },
      "outputs": [
        {
          "output_type": "stream",
          "name": "stdout",
          "text": [
            "This is \\n a test \\n string\n",
            "<re.Match object; span=(8, 9), match='\\\\'>\n",
            "<re.Match object; span=(18, 19), match='\\\\'>\n"
          ]
        }
      ],
      "source": [
        "# pattern = '\\\\\\\\' # test what happens if '\\\\'\n",
        "pattern = r'\\\\'    # 하나의 backslash 문자로 이루어진 패턴을 의미한다.\n",
        "text = \"This is \\\\n a test \\\\n string\"\n",
        "print(text)\n",
        "\n",
        "matches = re.finditer(pattern, text)\n",
        "for match in matches:\n",
        "  print(match)"
      ]
    },
    {
      "cell_type": "markdown",
      "metadata": {
        "id": "46n8XRxI70rE"
      },
      "source": [
        "#### 패턴을 `compile`해 두기"
      ]
    },
    {
      "cell_type": "markdown",
      "metadata": {
        "id": "GBcRRCFB7-ac"
      },
      "source": [
        "만약 어떤 패턴을 반복적으로 사용하여 패턴매칭을 한다면 패턴을 컴파일해두는 것이 좋다. 복잡한 정규표현식의 경우 매칭을 하기 위해서 상당한 전처리 작업을 해야하는데 패턴을 컴파일해두면 이런 전처리 작업을 반복해서 하지 않아도 되므로 효율적이다.\n",
        "\n",
        "또한 `match`, `search`, `finditer` 등은 아래와 같이 컴파일된 패턴의 **메서드**로도 제공되고 `re` 모듈의 멤버 **함수**로도 제공된다."
      ]
    },
    {
      "cell_type": "code",
      "execution_count": null,
      "metadata": {
        "colab": {
          "base_uri": "https://localhost:8080/"
        },
        "id": "qAcr4oLvqmBs",
        "outputId": "2d0bb29b-fc52-4f4e-ac3c-8f5a4a8a777b"
      },
      "outputs": [
        {
          "name": "stdout",
          "output_type": "stream",
          "text": [
            "<class 're.Pattern'>\n",
            "<re.Match object; span=(10, 14), match='good'>\n",
            "<re.Match object; span=(27, 31), match='good'>\n"
          ]
        }
      ],
      "source": [
        "pattern = re.compile(r'good')\n",
        "print(type(pattern))\n",
        "\n",
        "text_to_search = \"This is a good day. It's a good thing.\"\n",
        "\n",
        "matches = pattern.finditer(text_to_search)        # finditer as a method of compiled pattern\n",
        "# matches = re.finditer(pattern, text_to_search)  # finditer as a function of re module\n",
        "\n",
        "for match in matches:\n",
        "  print(match)"
      ]
    },
    {
      "cell_type": "markdown",
      "metadata": {
        "id": "IB9FiuqW_AIG"
      },
      "source": [
        "#### 둘 이상의 패턴을 `OR`하기"
      ]
    },
    {
      "cell_type": "markdown",
      "metadata": {
        "id": "9CZMmz0cWY76"
      },
      "source": [
        "2개 이상의 패턴을 정규표현식의 `OR`기호인 `|`로 연결하여 동시에 검색할 수도 있다."
      ]
    },
    {
      "cell_type": "code",
      "execution_count": null,
      "metadata": {
        "colab": {
          "base_uri": "https://localhost:8080/"
        },
        "id": "emR7LHWPWk5f",
        "outputId": "a985693b-b19e-4e75-d143-c5fd50a6d181"
      },
      "outputs": [
        {
          "data": {
            "text/plain": "['cat', 'ant', 'ant']"
          },
          "execution_count": 12,
          "metadata": {},
          "output_type": "execute_result"
        }
      ],
      "source": [
        "text = \"dog cat monkey pet puppy ant furry elephant\"\n",
        "re.findall(r\"cat|ant\", text)"
      ]
    },
    {
      "cell_type": "markdown",
      "metadata": {
        "id": "T8I2sxV9_MM2"
      },
      "source": [
        "패턴에 공백이 포함되면 공백 문자 자체가 패턴의 일부로 인식되므로 다음과 같이 하면 전혀 다른 의미가 된다."
      ]
    },
    {
      "cell_type": "code",
      "execution_count": null,
      "metadata": {
        "colab": {
          "base_uri": "https://localhost:8080/"
        },
        "id": "mXgND0OIXL9k",
        "outputId": "77e71b32-3885-474b-c8ff-3c9b40aa09e6"
      },
      "outputs": [
        {
          "data": {
            "text/plain": "['cat ', ' ant']"
          },
          "execution_count": 13,
          "metadata": {},
          "output_type": "execute_result"
        }
      ],
      "source": [
        "re.findall(r\"cat | ant\", text)"
      ]
    },
    {
      "cell_type": "markdown",
      "metadata": {
        "id": "PobX52ts72sG"
      },
      "source": [
        "### 메타문자(Metacharacters)"
      ]
    },
    {
      "cell_type": "markdown",
      "metadata": {
        "id": "RT0066cv7791"
      },
      "source": [
        "정규표현식에서 특별한 기능을 가진 문자들을 메타문자 부른다. 메타문자는 다음과 같다:\n",
        "\n",
        "`. ^ $ * + ? { } [ ] \\ | ( )`\n",
        "\n",
        "검색하고자 하는 패턴 자체가 메타문자를 포함하는 경우 백슬래쉬(`\\`)를 이용하여 escape 시켜줘야 한다."
      ]
    },
    {
      "cell_type": "code",
      "execution_count": null,
      "metadata": {
        "colab": {
          "base_uri": "https://localhost:8080/"
        },
        "id": "HS5z_0Wc88NV",
        "outputId": "832d46d1-bb9d-4e26-cc95-635730059737"
      },
      "outputs": [
        {
          "data": {
            "text/plain": "['A', 'B', 'C', '.', 'D', 'E', '.', 'F', 'G', 'H']"
          },
          "execution_count": 14,
          "metadata": {},
          "output_type": "execute_result"
        }
      ],
      "source": [
        "re.findall(r\".\", \"ABC.DE.FGH\")"
      ]
    },
    {
      "cell_type": "markdown",
      "metadata": {
        "id": "8tvgox-6_kad"
      },
      "source": [
        "위의 코드에서 `'.'`는 '아무 문자'를 의미하는 메타문자이기 때문에 텍스트의 모든 문자와 매치되는 결과가 발생했다. '.'를 글자 그대로 매치하기 위해서는 다음과 같이 escape해줘야 한다."
      ]
    },
    {
      "cell_type": "code",
      "execution_count": null,
      "metadata": {
        "colab": {
          "base_uri": "https://localhost:8080/"
        },
        "id": "D64z0jtJ9Psa",
        "outputId": "be50c8db-57a7-4417-9ddb-9bc6057eb468"
      },
      "outputs": [
        {
          "data": {
            "text/plain": "['.', '.']"
          },
          "execution_count": 15,
          "metadata": {},
          "output_type": "execute_result"
        }
      ],
      "source": [
        "re.findall(r\"\\.\", \"ABC.DE.FGH\")"
      ]
    },
    {
      "cell_type": "code",
      "execution_count": null,
      "metadata": {
        "colab": {
          "base_uri": "https://localhost:8080/"
        },
        "id": "wCPuMLjb-Bmv",
        "outputId": "eb644e56-f46f-4190-d4c2-af253c4fe7b9"
      },
      "outputs": [
        {
          "data": {
            "text/plain": "['i', 'i', 'e', 'd', 'i', 't', 'e', 't', 'e', 't', 'e', 'd', 'i', 't']"
          },
          "execution_count": 16,
          "metadata": {},
          "output_type": "execute_result"
        }
      ],
      "source": [
        "re.findall(r\"[edit]\", \"This is [edit] a sample text [edit].\")"
      ]
    },
    {
      "cell_type": "markdown",
      "metadata": {
        "id": "jEWvjJVO_yVN"
      },
      "source": [
        "대괄호로 둘러싸인 문자들은 문자의 집합을 표현한다. 위의 예에서 `[edit]`은 \"문자 `e`, `d`, `i`, `t`중 아무나\"라는 의미를 가지게 되어서 위와 같은 결과가 나온 것이다. 글자 그대로 `[edit]`을 찾으려면 아래와 같이 `[`와 `]`를 escape해주어야 한다."
      ]
    },
    {
      "cell_type": "code",
      "execution_count": null,
      "metadata": {
        "colab": {
          "base_uri": "https://localhost:8080/"
        },
        "id": "7DOrjynw-Rla",
        "outputId": "fc229fe7-0d7c-4d1f-c734-fa6746734ade"
      },
      "outputs": [
        {
          "data": {
            "text/plain": "['[edit]', '[edit]']"
          },
          "execution_count": 17,
          "metadata": {},
          "output_type": "execute_result"
        }
      ],
      "source": [
        "re.findall(r\"\\[edit\\]\", \"This is [edit] a sample text [edit].\")"
      ]
    },
    {
      "cell_type": "markdown",
      "metadata": {
        "id": "64CU_QsqCS7Q"
      },
      "source": [
        "### 특정 문자 그룹"
      ]
    },
    {
      "cell_type": "markdown",
      "metadata": {
        "id": "x2eqq1wZCjnj"
      },
      "source": [
        "다음은 정규표현식에서 특정한 문자 그룹을 의미하는 메타문자들이다.\n",
        "\n",
        "```\n",
        ".     Any character except newline\n",
        "\\d    Digit (0-9)\n",
        "\\D    Not a digit\n",
        "\\w    Word character (a-z, A-Z, 0-9, _)\n",
        "\\W    Not a word character\n",
        "\\s    Whitespace (space, tab, newline)\n",
        "\\S    Not whitespace\n",
        "\n",
        "```"
      ]
    },
    {
      "cell_type": "code",
      "execution_count": null,
      "metadata": {
        "colab": {
          "base_uri": "https://localhost:8080/"
        },
        "id": "suZ0SnCWFi73",
        "outputId": "4ad8ccc0-2ffd-45b5-d9e9-d65f12d2ea67"
      },
      "outputs": [
        {
          "data": {
            "text/plain": "['pet', 'pat', 'ppt', 'pot', 'p-t', 'p9t', 'p t', 'p_t']"
          },
          "execution_count": 18,
          "metadata": {},
          "output_type": "execute_result"
        }
      ],
      "source": [
        "text_to_search = \"cat pet pat ppt -cut spots p-t p9tp ttyp_t\"\n",
        "re.findall(r\"p.t\", text_to_search)"
      ]
    },
    {
      "cell_type": "code",
      "execution_count": null,
      "metadata": {
        "colab": {
          "base_uri": "https://localhost:8080/"
        },
        "id": "pKiJem2OFzkU",
        "outputId": "25d10f11-bd25-45b1-cf5a-6adc154e3844"
      },
      "outputs": [
        {
          "data": {
            "text/plain": "['pet', 'pat', 'ppt', 'pot', 'p9t', 'p_t']"
          },
          "execution_count": 19,
          "metadata": {},
          "output_type": "execute_result"
        }
      ],
      "source": [
        "re.findall(r\"p\\wt\", text_to_search)"
      ]
    },
    {
      "cell_type": "code",
      "execution_count": null,
      "metadata": {
        "colab": {
          "base_uri": "https://localhost:8080/"
        },
        "id": "Gi4BHV01F5Tn",
        "outputId": "3b6d95c9-2062-47b8-b0c7-f2c9407cc7a6"
      },
      "outputs": [
        {
          "data": {
            "text/plain": "['p9t']"
          },
          "execution_count": 20,
          "metadata": {},
          "output_type": "execute_result"
        }
      ],
      "source": [
        "re.findall(r\"p\\dt\", text_to_search)"
      ]
    },
    {
      "cell_type": "code",
      "execution_count": null,
      "metadata": {
        "colab": {
          "base_uri": "https://localhost:8080/"
        },
        "id": "a0Z8gdb2Z_XG",
        "outputId": "9f0809ae-7f52-440b-ceac-f2cb2b418804"
      },
      "outputs": [
        {
          "data": {
            "text/plain": "<re.Match object; span=(11, 19), match='word:cat'>"
          },
          "execution_count": 21,
          "metadata": {},
          "output_type": "execute_result"
        }
      ],
      "source": [
        "str = 'an example word:cat!!'\n",
        "re.search(r'word:\\w\\w\\w', str)"
      ]
    },
    {
      "cell_type": "markdown",
      "metadata": {
        "id": "hra8fI9ZMOdI"
      },
      "source": [
        "**예제 1**: 다음의 전화번호부에서 모든 전화번호를 매치하는 패턴을 구상해보자."
      ]
    },
    {
      "cell_type": "code",
      "execution_count": null,
      "metadata": {
        "colab": {
          "base_uri": "https://localhost:8080/"
        },
        "id": "bsbKSRzYMuli",
        "outputId": "0f40ec6f-6426-4963-d014-cc7171dbfe71"
      },
      "outputs": [
        {
          "output_type": "execute_result",
          "data": {
            "text/plain": [
              "['051-623-2675']"
            ]
          },
          "metadata": {},
          "execution_count": 6
        }
      ],
      "source": [
        "text_including_phone_numbers = '''\n",
        "      This is my phone book:\n",
        "      Kwon O: 02-123-8765, Seoul,\n",
        "      Lee T. H: 010-1235-5678, Seoul,\n",
        "      Kim H, G: 051-623-2675, Pusan,\n",
        "      Park: 042.875.9870, Daejeon,\n",
        "      Maybe Not Number: 123-1234-7890,\n",
        "      Wrong Format: 123*456788765,\n",
        "      Serial Number: AMG73K348P8999\n",
        "      '''\n",
        "\n",
        "pattern = r\"\\d\\d\\d-\\d\\d\\d-\\d\\d\\d\\d\"\n",
        "re.findall(pattern, text_including_phone_numbers)"
      ]
    },
    {
      "cell_type": "markdown",
      "metadata": {
        "id": "bkNUCDlQjp3t"
      },
      "source": [
        "하지만 위와 같이 하면 전화번호의 일부만이 찾아진다. 다음과 같이 . 메타문자와 OR(`|`) 기호를 이용하면 모든 전화번호를 찾을 수 있지만 다소 길고 또한 전화번호가 아닌 패턴까지 찾아지는 문제가 있다."
      ]
    },
    {
      "cell_type": "code",
      "execution_count": null,
      "metadata": {
        "colab": {
          "base_uri": "https://localhost:8080/"
        },
        "id": "4fay8nvqXsZN",
        "outputId": "8ba6380a-2455-4932-d8cc-1b8f6ca416ed"
      },
      "outputs": [
        {
          "data": {
            "text/plain": "['02-123-8765',\n '010-1235-5678',\n '051-623-2675',\n '042.875.9870',\n '123-1234-7890',\n '123*45678876',\n '73K348P8999']"
          },
          "execution_count": 23,
          "metadata": {},
          "output_type": "execute_result"
        }
      ],
      "source": [
        "pattern = r\"\\d\\d\\d.\\d\\d\\d.\\d\\d\\d\\d|\\d\\d\\d.\\d\\d\\d\\d.\\d\\d\\d\\d|\\d\\d.\\d\\d\\d.\\d\\d\\d\\d\"\n",
        "re.findall(pattern, text_including_phone_numbers)"
      ]
    },
    {
      "cell_type": "markdown",
      "metadata": {
        "id": "gpSoS8XvKvdt"
      },
      "source": [
        "## 문자집합"
      ]
    },
    {
      "cell_type": "markdown",
      "metadata": {
        "id": "MdPNDSgmc6VM"
      },
      "source": [
        "정규표현식에서 대괄호를 이용하여 특정한 문자들의 집합을 정의할 수 있다."
      ]
    },
    {
      "cell_type": "code",
      "execution_count": null,
      "metadata": {
        "colab": {
          "base_uri": "https://localhost:8080/"
        },
        "id": "fYnxzf-9Kvdt",
        "outputId": "e28268c5-c847-4996-97ac-8e587fb4de64"
      },
      "outputs": [
        {
          "data": {
            "text/plain": "['B', 'B', 'B']"
          },
          "execution_count": 24,
          "metadata": {},
          "output_type": "execute_result"
        }
      ],
      "source": [
        "# 문자열 grades는 어떤 학생이 과목들을 수강하고 받은 학점들이다.\n",
        "grades=\"ACAAAABCBCBAA\"\n",
        "\n",
        "# B를 몇개나 받았는지 알고 싶다면 다음과 같이 findall 메서드로 패턴 'B'를 찾아본다.\n",
        "re.findall(r\"B\",grades)"
      ]
    },
    {
      "cell_type": "code",
      "execution_count": null,
      "metadata": {
        "colab": {
          "base_uri": "https://localhost:8080/"
        },
        "id": "IHh0RBNkKvdu",
        "outputId": "11348d21-c237-49f1-e710-3a6432f8b679"
      },
      "outputs": [
        {
          "data": {
            "text/plain": "['A', 'A', 'A', 'A', 'A', 'B', 'B', 'B', 'A', 'A']"
          },
          "execution_count": 25,
          "metadata": {},
          "output_type": "execute_result"
        }
      ],
      "source": [
        "# A 혹은 B를 모두 찾고 싶다고 해서 패턴 \"AB\"를 검색해서는 안될 것이다.\n",
        "# 대신 다음과 같이 A와 B로 구성된 문자집합 [AB]를 사용하여 검색할 수 있다.\n",
        "# 즉, 대괄호로 묶인 문자들은 OR 관계에 있다.\n",
        "\n",
        "re.findall(r\"[AB]\",grades)"
      ]
    },
    {
      "cell_type": "markdown",
      "metadata": {
        "id": "NfPy3yLEhbKw"
      },
      "source": [
        "알파벳 순으로 연속된 문자들의 집합은 모든 원소들을 나열하지 않고 범위로 표시할 수 있다. 예를 들면\n",
        "\n",
        "```\n",
        "[D-G]          {D, E, F, G}\n",
        "[f-h]          {f, g, h}\n",
        "[2-6]          {2, 3, 4, 5, 6}\n",
        "[a-z]          영문 소문자 집합\n",
        "[A-Z]          영문 대문자 집합\n",
        "[a-zA-Z0-9]    영문 대소문자와 숫자\n",
        "[+-*/0-9]      사칙연산 기호와 숫자     \n",
        "```"
      ]
    },
    {
      "cell_type": "markdown",
      "metadata": {
        "id": "cC2I3IYark3_"
      },
      "source": [
        "위의 마지막 예에서 `+`, `*` 등의 기호는 메타문자이지만 문자집합을 정의하는 **대괄호 내부에서는 보통의 문자로 취급된다**는 점에 주의하라."
      ]
    },
    {
      "cell_type": "code",
      "execution_count": null,
      "metadata": {
        "colab": {
          "base_uri": "https://localhost:8080/"
        },
        "id": "4UOVtA1VKvdu",
        "outputId": "72220b6e-2b12-4cde-b73b-0822a57b4c73"
      },
      "outputs": [
        {
          "data": {
            "text/plain": "['AC', 'AB']"
          },
          "execution_count": 26,
          "metadata": {},
          "output_type": "execute_result"
        }
      ],
      "source": [
        "# A 다음에 B 혹은 C가 나오는 패턴은 다음과 같이 표현한다.\n",
        "\n",
        "re.findall(r\"A[BC]\",grades)"
      ]
    },
    {
      "cell_type": "markdown",
      "metadata": {
        "id": "JOTwUAVrsNcU"
      },
      "source": [
        "캐럿문자(`^`)를 이용하여 여집합을 표현할 수 있다. 이때 `^`은 반드시 대괄호 내에 첫번째 위치에 있어야 한다."
      ]
    },
    {
      "cell_type": "code",
      "execution_count": null,
      "metadata": {
        "colab": {
          "base_uri": "https://localhost:8080/"
        },
        "id": "F2LGxDIyKvdv",
        "outputId": "73530d67-0fc0-4f92-e5bd-64c0390b2f01"
      },
      "outputs": [
        {
          "data": {
            "text/plain": "['C', 'B', 'C', 'B', 'C', 'B']"
          },
          "execution_count": 27,
          "metadata": {},
          "output_type": "execute_result"
        }
      ],
      "source": [
        "# [^A]는 A를 제외한 모든 문자의 집합을 나타낸다.\n",
        "re.findall(r\"[^A]\",grades)"
      ]
    },
    {
      "cell_type": "code",
      "execution_count": null,
      "metadata": {
        "colab": {
          "base_uri": "https://localhost:8080/"
        },
        "id": "dq1PSGNeq11w",
        "outputId": "9c966a3c-c6e6-4bf6-b3ec-ba2ee1e051e4"
      },
      "outputs": [
        {
          "data": {
            "text/plain": "['C', 'C', 'C']"
          },
          "execution_count": 28,
          "metadata": {},
          "output_type": "execute_result"
        }
      ],
      "source": [
        "# A와 B를 제외한 모든 문자집합이다.\n",
        "re.findall(r\"[^AB]\",grades)\n"
      ]
    },
    {
      "cell_type": "code",
      "execution_count": null,
      "metadata": {
        "colab": {
          "base_uri": "https://localhost:8080/"
        },
        "id": "TU0KEMX3Kvdv",
        "outputId": "b23a8fae-10e3-428c-a29b-d5f3bfd3b8b0"
      },
      "outputs": [
        {
          "data": {
            "text/plain": "['A']"
          },
          "execution_count": 29,
          "metadata": {},
          "output_type": "execute_result"
        }
      ],
      "source": [
        "# ^기호는 대괄호의 내부에서 맨 앞에 등장해야 한다. 대괄호 외부에서는 앵커(anchor)의 역할을 하므로 전혀 다른 의미가 된다는 점에 주의하라.\n",
        "re.findall(r\"^[AB]\",grades)"
      ]
    },
    {
      "cell_type": "markdown",
      "metadata": {
        "id": "XXbbow1Vi2B_"
      },
      "source": [
        "**예제 2** 예제 1에서 사용한 정규표현식을 문자집합을 이용해 다듬어보자."
      ]
    },
    {
      "cell_type": "code",
      "execution_count": null,
      "metadata": {
        "colab": {
          "base_uri": "https://localhost:8080/"
        },
        "id": "r3hcnUl7jExt",
        "outputId": "f3e39f8f-2111-4e9c-820a-707e3c77ba76"
      },
      "outputs": [
        {
          "data": {
            "text/plain": "['02-123-8765',\n '010-1235-5678',\n '051-623-2675',\n '042.875.9870',\n '123-1234-7890']"
          },
          "execution_count": 30,
          "metadata": {},
          "output_type": "execute_result"
        }
      ],
      "source": [
        "text_including_phone_numbers = '''\n",
        "      This is my phone book:\n",
        "      Kwon O: 02-123-8765, Seoul,\n",
        "      Lee T. H: 010-1235-5678, Seoul,\n",
        "      Kim H, G: 051-623-2675, Pusan,\n",
        "      Park: 042.875.9870, Daejeon,\n",
        "      Maybe Not Number: 123-1234-7890,\n",
        "      Wrong Format: 123*4567*8765,\n",
        "      Serial Number: AMG73K348P8999\n",
        "      '''\n",
        "\n",
        "pattern = r\"\\d\\d\\d[-.]\\d\\d\\d[-.]\\d\\d\\d\\d|\\d\\d\\d[-.]\\d\\d\\d\\d[-.]\\d\\d\\d\\d|\\d\\d[-.]\\d\\d\\d[-.]\\d\\d\\d\\d\"\n",
        "re.findall(pattern, text_including_phone_numbers)"
      ]
    },
    {
      "cell_type": "markdown",
      "metadata": {
        "id": "_7PlEircKvdw"
      },
      "source": [
        "## Quantifiers"
      ]
    },
    {
      "cell_type": "markdown",
      "metadata": {
        "id": "MHrPmYkU4N9u"
      },
      "source": [
        "Quantifier는 패턴 내에서 특정 형태의 반복 여부 혹은 횟수를 지정하는 기능을 한다.\n",
        "\n",
        "\n",
        "```\n",
        "*        0 or More\n",
        "+        1 or More\n",
        "?        0 or 1\n",
        "{3}      Exact number\n",
        "{3,5}    Range of numbers (Minimum, Maximum)\n",
        "```\n",
        "\n"
      ]
    },
    {
      "cell_type": "markdown",
      "metadata": {
        "id": "WIi3KIybtYQu"
      },
      "source": [
        "전화번호 검색을 위한 정규표현식을 quantifier를 이용해 다시 작성해보자."
      ]
    },
    {
      "cell_type": "code",
      "execution_count": null,
      "metadata": {
        "colab": {
          "base_uri": "https://localhost:8080/"
        },
        "id": "oRpoRAsL4--5",
        "outputId": "3f3c0301-3065-4166-eb21-377a99280eaf"
      },
      "outputs": [
        {
          "data": {
            "text/plain": "['02-123-8765',\n '010-1235-5678',\n '051-623-2675',\n '042.875.9870',\n '123-1234-7890']"
          },
          "execution_count": 31,
          "metadata": {},
          "output_type": "execute_result"
        }
      ],
      "source": [
        "pattern = r\"\\d{2,3}[-.]\\d{3,4}[-.]\\d{4}\"\n",
        "re.findall(pattern, text_including_phone_numbers)"
      ]
    },
    {
      "cell_type": "code",
      "execution_count": null,
      "metadata": {
        "colab": {
          "base_uri": "https://localhost:8080/"
        },
        "id": "-I1x1mHiKvdx",
        "outputId": "fa5463a7-5155-44fb-be85-58f70c0f5133"
      },
      "outputs": [
        {
          "data": {
            "text/plain": "[]"
          },
          "execution_count": 32,
          "metadata": {},
          "output_type": "execute_result"
        }
      ],
      "source": [
        "# 주의: {m,n} 표현에서 m과 n사이에 공백이 있으면 안된다.\n",
        "re.findall(\"A{2, 3}\",\"AABBB\")"
      ]
    },
    {
      "cell_type": "markdown",
      "metadata": {
        "id": "HmkmgFoQVu5w"
      },
      "source": [
        "**예제 3**: 아래의 텍스트에서 사람 호칭과 이름 부분만을 인식하는 정규표현식은?"
      ]
    },
    {
      "cell_type": "code",
      "execution_count": null,
      "metadata": {
        "colab": {
          "base_uri": "https://localhost:8080/"
        },
        "id": "w-uDw1qkVy1H",
        "outputId": "d2eaee66-9337-4fd6-da1a-3abd9d386ec6"
      },
      "outputs": [
        {
          "data": {
            "text/plain": "['Mr.    Schaffer', 'Mr  Smith', 'Mr. T']"
          },
          "execution_count": 33,
          "metadata": {},
          "output_type": "execute_result"
        }
      ],
      "source": [
        "text_to_search = '''\n",
        "  This is a list of neighbors:\n",
        "  Mr.    Schaffer\n",
        "  Mr  Smith\n",
        "  dsfgksdkjf sjdjfhsdk\n",
        "  Ms Davis\n",
        "  Mrs. Robinson\n",
        "  Mr. T\n",
        "  fdskgjfkj skdjfhskf\n",
        "'''\n",
        "\n",
        "pattern = r\"Mr\\.?\\s+[A-Z]\\w*\"\n",
        "re.findall(pattern, text_to_search)\n"
      ]
    },
    {
      "cell_type": "markdown",
      "metadata": {
        "id": "sZ4BDeR3Z_XF"
      },
      "source": [
        "## Anchor"
      ]
    },
    {
      "cell_type": "markdown",
      "metadata": {
        "id": "RuCpKpLrIMWu"
      },
      "source": [
        "앵커는 텍스트에서 패턴을 매치할 위치를 특정 지점으로 한정하기 위한 규칙이다.  다음과 같은 종류의 앵커가 있다.\n",
        "\n",
        "```\n",
        "\\b    Word boundary (단어의 시작이나 끝)\n",
        "\\B    Not a word boundary\n",
        "^     Beginning of text\n",
        "$     End of text\n",
        "```"
      ]
    },
    {
      "cell_type": "code",
      "execution_count": null,
      "metadata": {
        "colab": {
          "base_uri": "https://localhost:8080/"
        },
        "id": "U8qZaYhNKvds",
        "outputId": "6886f45d-64fe-45ca-899f-7b773f69de1e"
      },
      "outputs": [
        {
          "name": "stdout",
          "output_type": "stream",
          "text": [
            "['amy', 'amy', 'amy']\n",
            "['amy']\n",
            "['amy', 'amy']\n",
            "['amy', 'amy']\n",
            "['ful']\n"
          ]
        }
      ],
      "source": [
        "text = \"amy is not harmful. amys gets good grades. Our student samy is succesful\"\n",
        "\n",
        "print(re.findall(r\"amy\", text))     # any position\n",
        "print(re.findall(r\"^amy\", text))    # start of text\n",
        "print(re.findall(r\"\\bamy\", text))   # start of word\n",
        "print(re.findall(r\"amy\\b\", text))   # end of word\n",
        "# for it in re.finditer(r\"amy\\b\", text):\n",
        "#   print(it)\n",
        "print(re.findall(\"ful$\", text))     # end of text"
      ]
    },
    {
      "cell_type": "markdown",
      "metadata": {
        "id": "UG18xYGIKvdz"
      },
      "source": [
        "## Groups"
      ]
    },
    {
      "cell_type": "markdown",
      "metadata": {
        "id": "Zv4xLWYdSn1f"
      },
      "source": [
        "정규표현식에서 소괄호로 묶인 부분을 하나의 그룹이라고 부른다. 그룹은 `*`, `+`, `?`, `{m,n}` 등의 quantifier를 적용하여 통채로 반복될 수 있다. 예를 들어 `(ab)*`는 `ab`가 0번 혹은 그 이상 반복되는 패턴을 의미한다. 또한 그룹 내에서 패턴들을 OR(`|`)로 연결하여 선택적으로 적용할 수도 있다. 가령 `(ab|cd)+`는 `ab` 혹은 `cd`가 1번 이상 반복되는 패턴으로 `ababcdcdab`등과 매치된다.\n",
        "\n"
      ]
    },
    {
      "cell_type": "code",
      "execution_count": null,
      "metadata": {
        "colab": {
          "base_uri": "https://localhost:8080/"
        },
        "id": "m4fNgF5HUGvM",
        "outputId": "62066090-946f-4b79-8b5d-cd936f9e1680"
      },
      "outputs": [
        {
          "data": {
            "text/plain": "<re.Match object; span=(3, 13), match='ababcdcdab'>"
          },
          "execution_count": 35,
          "metadata": {},
          "output_type": "execute_result"
        }
      ],
      "source": [
        "p = re.compile(r'(ab|cd)+')\n",
        "re.search(p, 'zzzababcdcdabxxx')"
      ]
    },
    {
      "cell_type": "code",
      "execution_count": null,
      "metadata": {
        "colab": {
          "base_uri": "https://localhost:8080/"
        },
        "id": "qlSlt8lQUn-W",
        "outputId": "25938c0d-4bef-4a46-e041-b50ca059f5f4"
      },
      "outputs": [
        {
          "name": "stdout",
          "output_type": "stream",
          "text": [
            "<re.Match object; span=(3, 13), match='ababcdcdab'>\n",
            "<re.Match object; span=(16, 18), match='ab'>\n",
            "<re.Match object; span=(21, 23), match='cd'>\n",
            "<re.Match object; span=(26, 32), match='ababcd'>\n"
          ]
        }
      ],
      "source": [
        "for match in re.finditer(p, 'zzzababcdcdabxxxabxxxcdxxxababcdxxx'):\n",
        "  print(match)"
      ]
    },
    {
      "cell_type": "markdown",
      "metadata": {
        "id": "tkKMDFi6j0Dq"
      },
      "source": [
        "**예제 4**: 아래의 텍스트에서 사람 호칭과 이름 부분만을 인식하는 정규표현식은?"
      ]
    },
    {
      "cell_type": "code",
      "execution_count": null,
      "metadata": {
        "colab": {
          "base_uri": "https://localhost:8080/"
        },
        "id": "HMKb6PUwj5ou",
        "outputId": "28b0af54-49e5-4680-c1b1-fa82b65b2355"
      },
      "outputs": [
        {
          "name": "stdout",
          "output_type": "stream",
          "text": [
            "<re.Match object; span=(34, 46), match='Mr. Schaffer'>\n",
            "<re.Match object; span=(49, 58), match='Mr  Smith'>\n",
            "<re.Match object; span=(61, 70), match='Ms  Davis'>\n",
            "<re.Match object; span=(73, 86), match='Mrs. Robinson'>\n",
            "<re.Match object; span=(89, 94), match='Mr. T'>\n",
            "\n",
            "\n",
            "['r', 'r', 's', 'rs', 'r']\n"
          ]
        }
      ],
      "source": [
        "text_to_search = '''\n",
        "  This is a list of neighbors:\n",
        "  Mr. Schaffer\n",
        "  Mr  Smith\n",
        "  Ms  Davis\n",
        "  Mrs. Robinson\n",
        "  Mr. T\n",
        "'''\n",
        "\n",
        "pattern = r\"M(r|s|rs)\\.?\\s+[A-Z]\\w*\"\n",
        "for item in re.finditer(pattern, text_to_search):\n",
        "  print(item)\n",
        "\n",
        "print('\\n')\n",
        "print(re.findall(pattern, text_to_search))"
      ]
    },
    {
      "cell_type": "markdown",
      "metadata": {
        "id": "-E19GDZ3wxSE"
      },
      "source": [
        "위의 예의 마지막은 그룹이 있는 패턴에 대해서 `findall` 함수를 적용한 경우인데 예상과는 다른 결과를 보여준다. 이는 `findall` 함수에서 그룹을 처리하는 독특한 방식에 따른 결과인데 자세한 사항은 [문서](https://docs.python.org/3/library/re.html)를 참조하라."
      ]
    },
    {
      "cell_type": "markdown",
      "metadata": {
        "id": "AXo5EbDpLwfg"
      },
      "source": [
        "**예제 5:** url을 인식하는 정규표현식을 작성해보자."
      ]
    },
    {
      "cell_type": "code",
      "execution_count": null,
      "metadata": {
        "colab": {
          "base_uri": "https://localhost:8080/"
        },
        "id": "Sg8W6HwhLyj8",
        "outputId": "9635572a-ec8b-401e-b177-6d8b905cc0b3"
      },
      "outputs": [
        {
          "name": "stdout",
          "output_type": "stream",
          "text": [
            "<re.Match object; span=(5, 23), match='https://google.com'>\n",
            "<re.Match object; span=(28, 44), match='http://naver.com'>\n",
            "<re.Match object; span=(49, 68), match='https://youtube.com'>\n",
            "<re.Match object; span=(73, 95), match='https://www.pknu.ac.kr'>\n"
          ]
        }
      ],
      "source": [
        "urls = '''\n",
        "    https://google.com\n",
        "    http://naver.com\n",
        "    https://youtube.com\n",
        "    https://www.pknu.ac.kr\n",
        "'''\n",
        "\n",
        "pattern = re.compile(r'https?://(www\\.)?\\w+(\\.\\w+)+')\n",
        "for item in re.finditer(pattern, urls):\n",
        "  print(item)\n"
      ]
    },
    {
      "cell_type": "markdown",
      "metadata": {
        "id": "vtKYzLmIWZH6"
      },
      "source": [
        "`re.search()`, `re.match()`, 혹은 `re.finditer()` 메서드는 `re.Match` 객체를 반환한다.\n",
        "패턴에 하나 이상의 그룹이 포함될 경우 반환된 `re.Match` 객체에는 매치된 전체 스트링뿐 아니라\n",
        "그룹별로 매치된 정보도 함께 제공한다. 이 정보를 이용하면 매우 유용한 일을 할 수 있다."
      ]
    },
    {
      "cell_type": "code",
      "execution_count": null,
      "metadata": {
        "id": "7mgdVaBeY1kd"
      },
      "outputs": [],
      "source": [
        "p = re.compile('(ab)+(c|d)+(ab)*')"
      ]
    },
    {
      "cell_type": "markdown",
      "metadata": {
        "id": "N-o3ATakZDC5"
      },
      "source": [
        "위의 패턴에는 세 개의 그룹이 포함되어 있다: `ab`, `c|d`, 그리고 `ab`.\n",
        "이 세 그룹은 각각 그룹 1, 2, 3로 명명된다."
      ]
    },
    {
      "cell_type": "code",
      "execution_count": null,
      "metadata": {
        "colab": {
          "base_uri": "https://localhost:8080/"
        },
        "id": "dHhcBWSiP4Qa",
        "outputId": "23cb1ac4-ab29-4b97-9709-32782bef529a"
      },
      "outputs": [
        {
          "name": "stdout",
          "output_type": "stream",
          "text": [
            "Match object:  <re.Match object; span=(3, 17), match='abababccddabab'>\n",
            "Whole Match:  abababccddabab\n",
            "Whole Match Again:  abababccddabab\n",
            "Whole Groups:  ('ab', 'd', 'ab')\n",
            "1st group:  ab\n",
            "2nd group:  d\n",
            "3rd group:  ab\n",
            "\n",
            "\n",
            "Match object:  <re.Match object; span=(20, 25), match='abdab'>\n",
            "Whole Match:  abdab\n",
            "Whole Match Again:  abdab\n",
            "Whole Groups:  ('ab', 'd', 'ab')\n",
            "1st group:  ab\n",
            "2nd group:  d\n",
            "3rd group:  ab\n",
            "\n",
            "\n",
            "Match object:  <re.Match object; span=(30, 33), match='abc'>\n",
            "Whole Match:  abc\n",
            "Whole Match Again:  abc\n",
            "Whole Groups:  ('ab', 'c', None)\n",
            "1st group:  ab\n",
            "2nd group:  c\n",
            "3rd group:  None\n",
            "\n",
            "\n"
          ]
        }
      ],
      "source": [
        "text = 'xxxabababccddababxxxabdabccgggabc'\n",
        "for item in re.finditer(p, text):\n",
        "  print('Match object: ', item)\n",
        "  print('Whole Match: ', item.group())   # the whole match, by default, it's equivalent to group(0)\n",
        "  print('Whole Match Again: ', item.group(0))\n",
        "  print('Whole Groups: ', item.groups())\n",
        "\n",
        "  print('1st group: ', item.group(1))\n",
        "  print('2nd group: ', item.group(2))\n",
        "  print('3rd group: ', item.group(3))\n",
        "\n",
        "  print('\\n')\n",
        "\n",
        "  # for index in range(len(item.groups())):\n",
        "  #   print('{}th Group: '.format(index+1), item.group(index+1))"
      ]
    },
    {
      "cell_type": "markdown",
      "metadata": {
        "id": "ar0pmyC2aZaT"
      },
      "source": [
        "이렇게 그룹 단위의 매치를 인식하는 것은 때로 매우 유용하다. 위에서 호칭(Mr, Mrs, Ms)과 이름을 인식하는 예를 생각해보자."
      ]
    },
    {
      "cell_type": "code",
      "execution_count": null,
      "metadata": {
        "colab": {
          "base_uri": "https://localhost:8080/"
        },
        "id": "3c6tQ3aMa__d",
        "outputId": "fdf0326b-7b47-4548-b7ee-b49957ea4eb4"
      },
      "outputs": [
        {
          "name": "stdout",
          "output_type": "stream",
          "text": [
            "('Mr', 'Schaffer')\n",
            "('Mr', 'Smith')\n",
            "('Ms', 'Davis')\n",
            "('Mrs', 'Robinson')\n",
            "('Mr', 'T')\n",
            "('Dr', 'Johnson')\n",
            "('Prof', 'Kim')\n"
          ]
        }
      ],
      "source": [
        "text_to_search = '''\n",
        "  This is a list of neighbors:\n",
        "  Mr. Schaffer\n",
        "  Mr  Smith\n",
        "  Ms  Davis\n",
        "  Mrs. Robinson\n",
        "  Mr. T\n",
        "  Dr. Johnson\n",
        "  Prof. Kim\n",
        "'''\n",
        "\n",
        "pattern = r\"(Mr|Ms|Mrs|Dr|Prof)\\.?\\s+([A-Z]\\w*)\"\n",
        "for item in re.finditer(pattern, text_to_search):\n",
        "  # print(item)\n",
        "  print(item.groups())"
      ]
    },
    {
      "cell_type": "markdown",
      "metadata": {
        "id": "IE3W7RWmzJte"
      },
      "source": [
        "이렇게 하면 호칭 부분과 이름 부분을 떼어서 인식할 수 있다"
      ]
    },
    {
      "cell_type": "markdown",
      "metadata": {
        "id": "CdPGP5aZzVZu"
      },
      "source": [
        "그룹 내에 다른 그룹이 중첩될 수 있다. 이때 그룹 넘버링이 열리는 괄호가 등장하는 순서대로 매겨진다."
      ]
    },
    {
      "cell_type": "code",
      "execution_count": null,
      "metadata": {
        "colab": {
          "base_uri": "https://localhost:8080/"
        },
        "id": "PJRWqNV5daFS",
        "outputId": "2460b133-5e2a-4d33-efbd-4d044f3bfa05"
      },
      "outputs": [
        {
          "name": "stdout",
          "output_type": "stream",
          "text": [
            "('Mr', 'Mr', 'r', 'Schaffer')\n",
            "('Mr', 'Mr', 'r', 'Smith')\n",
            "('Ms', 'Ms', 's', 'Davis')\n",
            "('Mrs', 'Mrs', 'rs', 'Robinson')\n",
            "('Mr', 'Mr', 'r', 'T')\n",
            "('Dr', None, None, 'Johnson')\n",
            "('Prof', None, None, 'Kim')\n"
          ]
        }
      ],
      "source": [
        "\n",
        "pattern = r\"((M(r|s|rs))|Dr|Prof)\\.?\\s+([A-Z]\\w*)\"\n",
        "for item in re.finditer(pattern, text_to_search):\n",
        "  print(item.groups())"
      ]
    },
    {
      "cell_type": "markdown",
      "metadata": {
        "id": "b0QWRMDMeJud"
      },
      "source": [
        "## Named Group"
      ]
    },
    {
      "cell_type": "markdown",
      "metadata": {
        "id": "5rAu1DTBePqQ"
      },
      "source": [
        "그룹들을 번호로 식별하는 것은 정규표현식이 복잡할 경우 번거롭고 실수의 여지가 많다.\n",
        "대신 `(?P<name>...)`의 형태로 그룹에 '이름'을 부여하는 기능을 제공한다. `re.Match.groupdict()` 함수는 매치된 그룹들을 딕셔너리로 변환해준다."
      ]
    },
    {
      "cell_type": "code",
      "execution_count": null,
      "metadata": {
        "colab": {
          "base_uri": "https://localhost:8080/"
        },
        "id": "jgBV6H9EfQfF",
        "outputId": "b75b612a-ed29-4c24-8fff-8b290e8de46f"
      },
      "outputs": [
        {
          "name": "stdout",
          "output_type": "stream",
          "text": [
            "{'Title': 'Mr', 'Name': 'Schaffer'}\n",
            "{'Title': 'Mr', 'Name': 'Smith'}\n",
            "{'Title': 'Ms', 'Name': 'Davis'}\n",
            "{'Title': 'Mrs', 'Name': 'Robinson'}\n",
            "{'Title': 'Mr', 'Name': 'T'}\n",
            "{'Title': 'Dr', 'Name': 'Johnson'}\n",
            "{'Title': 'Prof', 'Name': 'Kim'}\n"
          ]
        }
      ],
      "source": [
        "pattern = r\"(?P<Title>Mr|Ms|Mrs|Dr|Prof)\\.?\\s+(?P<Name>[A-Z]\\w*)\"\n",
        "# pattern = r\"(?P<Title>(M(r|s|rs))|Dr|Prof)\\.?\\s+(?P<Name>[A-Z]\\w*)\"\n",
        "for item in re.finditer(pattern, text_to_search):\n",
        "  print(item.groupdict())"
      ]
    },
    {
      "cell_type": "markdown",
      "metadata": {
        "id": "JUGA0tcNf13A"
      },
      "source": [
        "다음은 IMAP 프로토콜에서 시간을 명시하는 규칙이다."
      ]
    },
    {
      "cell_type": "code",
      "execution_count": null,
      "metadata": {
        "colab": {
          "base_uri": "https://localhost:8080/"
        },
        "id": "-0vu-yjTgEAN",
        "outputId": "decea71a-c2c3-4d20-a775-92e7c9b2bf0b"
      },
      "outputs": [
        {
          "name": "stdout",
          "output_type": "stream",
          "text": [
            "{'day': '21', 'mon': 'Jun', 'year': '2018', 'hour': '17', 'min': '51', 'sec': '47', 'zonen': '+', 'zoneh': '00', 'zonem': '00'}\n"
          ]
        }
      ],
      "source": [
        "InternalDate = re.compile(r'INTERNALDATE \"'\n",
        "        r'(?P<day>[ 123][0-9])-(?P<mon>[A-Z][a-z][a-z])-'\n",
        "        r'(?P<year>[0-9][0-9][0-9][0-9])'\n",
        "        r' (?P<hour>[0-9][0-9]):(?P<min>[0-9][0-9]):(?P<sec>[0-9][0-9])'\n",
        "        r' (?P<zonen>[-+])(?P<zoneh>[0-9][0-9])(?P<zonem>[0-9][0-9])'\n",
        "        r'\"')\n",
        "\n",
        "example_text = '''\n",
        "              INFO Imap(2)[6] Response: * 1 FETCH (UID 8 RFC822.SIZE 576 FLAGS\n",
        "              (\\Seen) INTERNALDATE \"21-Jun-2018 17:51:47 +0000\" ENVELOPE\n",
        "              (\"Sat, 3 Dec 2016 21:39:27 -0700\" \"Test Message\" ((NIL NIL “john.doe” “godaddy.com”))\n",
        "              ((NIL NIL “john.doe” “godaddy.com”)) ((NIL NIL “john.doe” “godaddy.com”))\n",
        "              ((“jane.doe@yahoo.com” NIL “jane.doe” “yahoo.com”)) NIL NIL NIL\n",
        "              “<20171203153135.4b5c8628937d16bc17cc44c9ad222e17.7ac1f537cc.wbe@email15.godaddy.com>”))\n",
        "              '''\n",
        "\n",
        "for item in re.finditer(InternalDate, example_text):\n",
        "  print(item.groupdict())"
      ]
    },
    {
      "cell_type": "markdown",
      "metadata": {
        "id": "suzl8RXGKvd1"
      },
      "source": [
        "## 예1: Wikipedia Data"
      ]
    },
    {
      "cell_type": "markdown",
      "source": [
        "텍스트 파일 `buddhist.txt`는 [여기](https://drive.google.com/file/d/1ETiYiPLU4ih8E4z6-B_CPsk3rKkAqxQH/view?usp=share_link)에서 다운로드한다."
      ],
      "metadata": {
        "id": "1ZhfymyLCPs1"
      }
    },
    {
      "cell_type": "code",
      "execution_count": null,
      "metadata": {
        "colab": {
          "base_uri": "https://localhost:8080/"
        },
        "id": "wAWl1ij6Kvd1",
        "outputId": "a5dd86f6-3bd2-404e-ca2f-d69155f1ac02"
      },
      "outputs": [
        {
          "output_type": "stream",
          "name": "stdout",
          "text": [
            "Mounted at /content/drive\n"
          ]
        }
      ],
      "source": [
        "from google.colab import drive\n",
        "drive.mount('/content/drive')"
      ]
    },
    {
      "cell_type": "code",
      "execution_count": null,
      "metadata": {
        "id": "B2qQE5uMtqjS"
      },
      "outputs": [],
      "source": [
        "path = '/content/drive/MyDrive/DataScience2023/chap03_regex/buddhist.txt'"
      ]
    },
    {
      "cell_type": "code",
      "execution_count": null,
      "metadata": {
        "colab": {
          "base_uri": "https://localhost:8080/"
        },
        "id": "dvnAcMcLtbZ_",
        "outputId": "7cf37b8c-92ff-4e0a-bac9-c87c7be68937"
      },
      "outputs": [
        {
          "output_type": "stream",
          "name": "stdout",
          "text": [
            "Buddhist universities and colleges in the United States\n",
            "From Wikipedia, the free encyclopedia\n",
            "Jump to navigationJump to search\n",
            "\n",
            "This article needs additional citations for verification. Please help improve this article \n",
            "by adding citations to reliable sources. Unsourced material may be challenged and removed.\n",
            "Find sources: \"Buddhist universities and colleges in the United States\" \n",
            "news · newspapers · books · scholar · JSTOR (December 2009) \n",
            "(Learn how and when to remove this template message)\n",
            "There are several Buddhist universities in the United States. \n",
            "Some of these have existed for decades and are accredited. \n",
            "Others are relatively new and are either in the process of being accredited or \n",
            "else have no formal accreditation. The list includes:\n",
            "\n",
            " Dhammakaya Open University - located in Azusa, California, part of the Thai Wat Phra Dhammakaya[1]\n",
            " Dharmakirti College - located in Tucson, Arizona Now called Awam Tibetan Buddhist Institute (http://awaminstitute.org/)\n",
            " Dharma Realm Buddhist University - located in Ukiah, California\n",
            " Ewam Buddhist Institute - located in Arlee, Montana\n",
            " Naropa University - located in Boulder, Colorado (Accredited by the Higher Learning Commission)\n",
            " Institute of Buddhist Studies - located in Berkeley, California\n",
            " Maitripa College - located in Portland, Oregon\n",
            " Soka University of America - located in Aliso Viejo, California\n",
            " University of the West - located in Rosemead, California\n",
            " Won Institute of Graduate Studies - located in Glenside, Pennsylvania\n",
            "\n",
            " References[edit]\n",
            " ^ Banchanon, Phongphiphat (3 February 2015). \n",
            " [Getting to know the Dhammakaya network]. Forbes Thailand (in Thai). \n",
            " Retrieved 11 November 2016.\n",
            " \n",
            " External links[edit]\n",
            " List of Buddhist Universities and Colleges in the world\n",
            "\n"
          ]
        }
      ],
      "source": [
        "with open(path,\"r\", encoding='utf-8') as file:\n",
        "    wiki=file.read()\n",
        "\n",
        "print(wiki)"
      ]
    },
    {
      "cell_type": "markdown",
      "metadata": {
        "id": "v0OYOp28VCh2"
      },
      "source": [
        "위의 파일은 미국에 있는 불교 대학교에 관한 위키피디어의 내용이다. 대학 이름과 위치 등이 일정한 규칙에 따라서 기술되어 있다.\n",
        "\n",
        "이 예는 정규표현식의 정의에서 verbose 모드에 대해서 설명하기 위한 것이다. 아래와 같이 정규표현식을 여러 줄에 걸쳐서 기술하고 커멘트도 달 수 있다. 단, raw string을 사용할 수 없고 모든 whitespace를 `\\` 문자를 이용하여 escape해야 한다. 그래야 `#`로 시작하는 커멘트를 식별하여 무시할 수 있기 때문이다."
      ]
    },
    {
      "cell_type": "code",
      "execution_count": null,
      "metadata": {
        "colab": {
          "base_uri": "https://localhost:8080/"
        },
        "id": "cUFs_zvwKvd1",
        "outputId": "5b2d71bf-05a9-4a18-e289-5b1c44b939d9"
      },
      "outputs": [
        {
          "output_type": "stream",
          "name": "stdout",
          "text": [
            "{'title': ' Dhammakaya Open University', 'city': 'Azusa', 'state': 'California'}\n",
            "{'title': ' Dharmakirti College', 'city': 'Tucson', 'state': 'Arizona'}\n",
            "{'title': ' Dharma Realm Buddhist University', 'city': 'Ukiah', 'state': 'California'}\n",
            "{'title': ' Ewam Buddhist Institute', 'city': 'Arlee', 'state': 'Montana'}\n",
            "{'title': ' Naropa University', 'city': 'Boulder', 'state': 'Colorado'}\n",
            "{'title': ' Institute of Buddhist Studies', 'city': 'Berkeley', 'state': 'California'}\n",
            "{'title': ' Maitripa College', 'city': 'Portland', 'state': 'Oregon'}\n",
            "{'title': ' University of the West', 'city': 'Rosemead', 'state': 'California'}\n",
            "{'title': ' Won Institute of Graduate Studies', 'city': 'Glenside', 'state': 'Pennsylvania'}\n"
          ]
        }
      ],
      "source": [
        "pattern=re.compile(\"\"\"\n",
        "(?P<title>.*)          # the university title\n",
        "(\\ -\\ located\\ in\\ )   # an indicator of the location\n",
        "(?P<city>\\w*)          # city the university is in\n",
        "(,\\ )                  # separator for the state\n",
        "(?P<state>\\w*)         # the state the city is located in\n",
        "\"\"\", re.VERBOSE)\n",
        "\n",
        "for item in re.finditer(pattern, wiki):\n",
        "    print(item.groupdict())"
      ]
    },
    {
      "cell_type": "markdown",
      "metadata": {
        "id": "rYWbKs5oKvd1"
      },
      "source": [
        "## 예2: New York Times and Hashtags"
      ]
    },
    {
      "cell_type": "markdown",
      "metadata": {
        "id": "dyZp_OIcVTG9"
      },
      "source": [
        "아래의 파일은 New York Times의 twitter 계정에서 health와 관련된 트윗들을 모아 놓은 [파일](https://drive.google.com/file/d/1tx1CWtwxh5WENk94lOLbLvtnIh6QxtMR/view?usp=share_link)이다. 트윗들이 `|` 문자로 구분되어 있다. 이 파일에서 모든 해쉬태그를 찾아보자. 해쉬태그는 해쉬마크 `#`로 시작하며 whitespace 문자를 만나면 끝난다."
      ]
    },
    {
      "cell_type": "code",
      "execution_count": null,
      "metadata": {
        "id": "3aNievW5Kvd1"
      },
      "outputs": [],
      "source": [
        "with open(\"/content/drive/MyDrive/DataScience2022/chap03/data/nytimeshealth.txt\",\"r\") as file:\n",
        "    health=file.read()\n",
        "print(health)"
      ]
    },
    {
      "cell_type": "code",
      "execution_count": null,
      "metadata": {
        "colab": {
          "base_uri": "https://localhost:8080/"
        },
        "id": "s-GegneYKvd1",
        "outputId": "790c46ba-47fb-4e42-f153-a3249035632a"
      },
      "outputs": [
        {
          "output_type": "execute_result",
          "data": {
            "text/plain": [
              "['#askwell',\n",
              " '#pregnancy',\n",
              " '#Ayotzinap',\n",
              " '#Colorado',\n",
              " '#3',\n",
              " '#VegetarianThanksgiving',\n",
              " '#BrittanyMaynard',\n",
              " '#FallPrevention',\n",
              " '#Ebola',\n",
              " '#Ebola',\n",
              " '#ebola',\n",
              " '#Ebola',\n",
              " '#Ebola',\n",
              " '#EbolaHysteria',\n",
              " '#AskNYT',\n",
              " '#Ebola',\n",
              " '#Ebola',\n",
              " '#Ebola',\n",
              " '#Liberia',\n",
              " '#Excalibur',\n",
              " '#ebola',\n",
              " '#Ebola',\n",
              " '#dallas',\n",
              " '#nobelprize2014',\n",
              " '#ebola',\n",
              " '#ebola',\n",
              " '#monrovia',\n",
              " '#ebola',\n",
              " '#nobelprize2014',\n",
              " '#ebola',\n",
              " '#nobelprize2014',\n",
              " '#Medicine',\n",
              " '#Ebola',\n",
              " '#Monrovia',\n",
              " '#Liberia',\n",
              " '#Ebola',\n",
              " '#smell',\n",
              " '#Ebola',\n",
              " '#Ebola',\n",
              " '#Ebola',\n",
              " '#Monrovia',\n",
              " '#Ebola',\n",
              " '#ebola',\n",
              " '#monrovia',\n",
              " '#liberia',\n",
              " '#benzos',\n",
              " '#Alzheimers',\n",
              " '#ClimateChange',\n",
              " '#Whole',\n",
              " '#Wheat',\n",
              " '#Focaccia',\n",
              " '#Tomatoes',\n",
              " '#Olives',\n",
              " '#Recipes',\n",
              " '#Health',\n",
              " '#Ebola',\n",
              " '#Ebola',\n",
              " '#Monrovia',\n",
              " '#Liberia',\n",
              " '#Liberia',\n",
              " '#Ebola',\n",
              " '#Ebola',\n",
              " '#Liberia',\n",
              " '#Ebola',\n",
              " '#blood',\n",
              " '#Ebola',\n",
              " '#organtrafficking',\n",
              " '#org',\n",
              " '#EbolaOutbreak',\n",
              " '#SierraLeone',\n",
              " '#Freetown',\n",
              " '#SierraLeone',\n",
              " '#ebolaoutbreak',\n",
              " '#kenema',\n",
              " '#ebola',\n",
              " '#Ebola',\n",
              " '#ebola',\n",
              " '#ebola',\n",
              " '#Ebola',\n",
              " '#Ebola',\n",
              " '#RecipesforHealth',\n",
              " '#ASMR',\n",
              " '#benz',\n",
              " '#Mot',\n",
              " '#MH17',\n",
              " '#AIDS2014',\n",
              " '#mh17',\n",
              " '#AIDS',\n",
              " '#MH17',\n",
              " '#stir',\n",
              " '#Rec',\n",
              " '#Recipesf',\n",
              " '#benzos']"
            ]
          },
          "metadata": {},
          "execution_count": 14
        }
      ],
      "source": [
        "pattern = '#[\\w]+'\n",
        "re.findall(pattern, health)"
      ]
    },
    {
      "cell_type": "markdown",
      "metadata": {
        "id": "J84rk_QlYc4D"
      },
      "source": [
        "## 예3: HTML 태그"
      ]
    },
    {
      "cell_type": "markdown",
      "metadata": {
        "id": "UGynwt9USJVh"
      },
      "source": [
        "정규표현식을 이용하여 html 파일로부터 순수한 텍스트만을 남기고 모든 HTML 태그를 제거해보자. `re.sub()` 함수를 이용하면 특정 패턴을 다른 문자열로 대체할 수 있다. 여기서는 모든 HTML 태크를 공백 문자열로 대체하여 제거한다."
      ]
    },
    {
      "cell_type": "code",
      "execution_count": null,
      "metadata": {
        "colab": {
          "base_uri": "https://localhost:8080/"
        },
        "id": "ndFbuPE9Yfs5",
        "outputId": "2aee50f6-09d5-4c2f-97e5-68930a309183"
      },
      "outputs": [
        {
          "name": "stdout",
          "output_type": "stream",
          "text": [
            "\n",
            "<span style=\"font-size:19px;\">Hello world! \n",
            " \n",
            "Thank you for taking the 2021 Stack Overflow Developer Survey, \n",
            "the longest running survey of software developers (and anyone else who codes!) on Earth. \n",
            " \n",
            "As in previous years, anonymized results of the survey will be made publicly \n",
            "available under the Open Database License, where anyone can download and analyze the data. \n",
            "On that note, throughout the survey, certain answers you and your peers give will be \n",
            "treated as personally identifiable information, and therefore kept out of \n",
            "the anonymized results file. We'll call out each of those in the survey with \n",
            "a note saying \"This information will be kept private.\" \n",
            " \n",
            "There are six sections in this survey. The 2nd, 3rd, and 4th sections will \n",
            "appear in a random order.\n",
            "   1. Basic Information\n",
            "   2. Education, Work, and Career\n",
            "   3. Technology and Tech Culture\n",
            "   4. Stack Overflow Usage + Community\n",
            "   5. Demographic Information \n",
            "   6. Final Questions\n",
            " \n",
            "Most questions in this survey are optional. Required questions are \n",
            "marked with *. This anonymous survey will take about 10 minutes to complete. \n",
            "We encourage you to complete it in one sitting.\n",
            "\n",
            "If you use security or ad-blocking plugins, you may see error messages\n",
            "Our third-party software provider, Qualtrics, does not work well with \n",
            "certain ad blockers and security software. To avoid error messages that \n",
            "prevent you from taking the survey, please try specifically unblocking \n",
            "Qualtrics in your plugin or pausing the plugin while you take the survey. \n",
            " \n",
            "To begin, click Next.\n",
            "\n"
          ]
        }
      ],
      "source": [
        "text = '''\n",
        "<div><span style=\"font-size:19px;\"><strong>Hello world! </strong></span></div>\n",
        "<div> </div>\n",
        "<div>Thank you for taking the 2021 Stack Overflow Developer Survey,\n",
        "the longest running survey of software developers (and anyone else who codes!) on Earth. </div>\n",
        "<div> </div>\n",
        "<div>As in previous years, anonymized results of the survey will be made publicly\n",
        "available under the Open Database License, where anyone can download and analyze the data.\n",
        "On that note, throughout the survey, certain answers you and your peers give will be\n",
        "treated as personally identifiable information, and therefore kept out of\n",
        "the anonymized results file. We'll call out each of those in the survey with\n",
        "a note saying \"This information will be kept private.\" </div>\n",
        "<div> </div>\n",
        "<div>There are six sections in this survey. The 2nd, 3rd, and 4th sections will\n",
        "appear in a random order.</div><div><br></div>\n",
        "<div>   1. Basic Information</div>\n",
        "<div>   2. Education, Work, and Career</div>\n",
        "<div>   3. Technology and Tech Culture</div>\n",
        "<div>   4. Stack Overflow Usage + Community</div>\n",
        "<div>   5. Demographic Information </div>\n",
        "<div>   6. Final Questions</div>\n",
        "<div>\n",
        "<div>Most questions in this survey are optional. Required questions are\n",
        "marked with *. This anonymous survey will take about 10 minutes to complete.\n",
        "We encourage you to complete it in one sitting.</div><div><br></div>\n",
        "</div>\n",
        "<div><strong>If you use security or ad-blocking plugins, you may see error messages</strong></div>\n",
        "<div>Our third-party software provider, Qualtrics, does not work well with\n",
        "certain ad blockers and security software. To avoid error messages that\n",
        "prevent you from taking the survey, please try specifically unblocking\n",
        "Qualtrics in your plugin or pausing the plugin while you take the survey. </div>\n",
        "<div> </div>\n",
        "<div>To begin, click <strong>Next.</strong></div>\n",
        "'''\n",
        "\n",
        "text_filtered1 = re.sub(r'</?\\w+>', '', text)    # first try\n",
        "print(text_filtered1)"
      ]
    },
    {
      "cell_type": "markdown",
      "metadata": {
        "id": "eO_heduKSwNJ"
      },
      "source": [
        "위의 예에서 모든 HTML 태그를 찾아내진 못하였다. 왜냐하면 HTML 태그는 공백 문자를 비롯하여 여러 문자를 포함하는 복잡한 형태일 수 있다. 단 모든 태그는 `<`와 `>`로 묶여 있다는 것에 착안하여 다음과 같이 해보자."
      ]
    },
    {
      "cell_type": "code",
      "execution_count": null,
      "metadata": {
        "colab": {
          "base_uri": "https://localhost:8080/"
        },
        "id": "cnwYd30zOl0-",
        "outputId": "f4e04152-3ba6-4ec7-b928-9f6a3791d5bb"
      },
      "outputs": [
        {
          "name": "stdout",
          "output_type": "stream",
          "text": [
            "\n",
            "\n",
            "\n",
            "Thank you for taking the 2021 Stack Overflow Developer Survey, \n",
            "the longest running survey of software developers (and anyone else who codes!) on Earth. \n",
            "\n",
            "As in previous years, anonymized results of the survey will be made publicly \n",
            "available under the Open Database License, where anyone can download and analyze the data. \n",
            "On that note, throughout the survey, certain answers you and your peers give will be \n",
            "treated as personally identifiable information, and therefore kept out of \n",
            "the anonymized results file. We'll call out each of those in the survey with \n",
            "a note saying \"This information will be kept private.\" \n",
            "\n",
            "There are six sections in this survey. The 2nd, 3rd, and 4th sections will \n",
            "appear in a random order.\n",
            "\n",
            "\n",
            "\n",
            "\n",
            "\n",
            "\n",
            " \n",
            "Most questions in this survey are optional. Required questions are \n",
            "marked with *. This anonymous survey will take about 10 minutes to complete. \n",
            "We encourage you to complete it in one sitting.\n",
            "\n",
            "\n",
            "Our third-party software provider, Qualtrics, does not work well with \n",
            "certain ad blockers and security software. To avoid error messages that \n",
            "prevent you from taking the survey, please try specifically unblocking \n",
            "Qualtrics in your plugin or pausing the plugin while you take the survey. \n",
            "\n",
            "\n",
            "\n"
          ]
        }
      ],
      "source": [
        "text_filtered2 = re.sub(r'<.*>', '', text)\n",
        "print(text_filtered2)"
      ]
    },
    {
      "cell_type": "markdown",
      "metadata": {
        "id": "EwMn5sqRQTPN"
      },
      "source": [
        "이렇게 출력된 이유는 무엇일까? 정규표현식에서 `*`, `+`, 그리고 `?` quantifier는 모두 greedy하게 처리된다. 즉, 가능한 한 많은 문자들과 매치되도록 처리한다. 따라서 정규표현식 `<.*>`는 하나의 HTML 태그가 아니라 각 라인에서 처음 만나는 `<`와 마지막 `>` 사이에 포함된 모든 문자들과 매치되어 버린다. 예를 들어 `<a> text <c>`라는 문자열이 있을 때 `<a>` 혹은 `<c>`와 매치되는 대신 전체 문자열과 매치되어 버린다.\n",
        "\n",
        "정규표현식에서 quantifier 다음에 `?`를 추가하면 non-greey하게 즉 최소한의 범위로 매치된다. 즉, `<.*?>`는 `<a>` 혹은 `<c>`와 매치된다.\n"
      ]
    },
    {
      "cell_type": "code",
      "execution_count": null,
      "metadata": {
        "colab": {
          "base_uri": "https://localhost:8080/"
        },
        "id": "GccaAdNZOfLe",
        "outputId": "8751520d-08b0-4953-d35c-b20769683115"
      },
      "outputs": [
        {
          "name": "stdout",
          "output_type": "stream",
          "text": [
            "\n",
            "Hello world! \n",
            " \n",
            "Thank you for taking the 2021 Stack Overflow Developer Survey, \n",
            "the longest running survey of software developers (and anyone else who codes!) on Earth. \n",
            " \n",
            "As in previous years, anonymized results of the survey will be made publicly \n",
            "available under the Open Database License, where anyone can download and analyze the data. \n",
            "On that note, throughout the survey, certain answers you and your peers give will be \n",
            "treated as personally identifiable information, and therefore kept out of \n",
            "the anonymized results file. We'll call out each of those in the survey with \n",
            "a note saying \"This information will be kept private.\" \n",
            " \n",
            "There are six sections in this survey. The 2nd, 3rd, and 4th sections will \n",
            "appear in a random order.\n",
            "   1. Basic Information\n",
            "   2. Education, Work, and Career\n",
            "   3. Technology and Tech Culture\n",
            "   4. Stack Overflow Usage + Community\n",
            "   5. Demographic Information \n",
            "   6. Final Questions\n",
            " \n",
            "Most questions in this survey are optional. Required questions are \n",
            "marked with *. This anonymous survey will take about 10 minutes to complete. \n",
            "We encourage you to complete it in one sitting.\n",
            "\n",
            "If you use security or ad-blocking plugins, you may see error messages\n",
            "Our third-party software provider, Qualtrics, does not work well with \n",
            "certain ad blockers and security software. To avoid error messages that \n",
            "prevent you from taking the survey, please try specifically unblocking \n",
            "Qualtrics in your plugin or pausing the plugin while you take the survey. \n",
            " \n",
            "To begin, click Next.\n",
            "\n"
          ]
        }
      ],
      "source": [
        "text_filtered = re.sub(r'<(.*?)>', '', text)\n",
        "print(text_filtered)"
      ]
    },
    {
      "cell_type": "markdown",
      "metadata": {
        "id": "LdA-BELQ-4tr"
      },
      "source": [
        "## 예4: 한글"
      ]
    },
    {
      "cell_type": "code",
      "execution_count": null,
      "metadata": {
        "colab": {
          "base_uri": "https://localhost:8080/"
        },
        "id": "9PFZCGCakoWM",
        "outputId": "583932ec-f03c-44ad-8fd2-ae3cf4145ba4"
      },
      "outputs": [
        {
          "name": "stdout",
          "output_type": "stream",
          "text": [
            "\n",
            "(61.102)앜 서로03.31 01:44:10삭제\n",
            "(61.102)호승 저 정도면 거의 공중부양 워킹 수준인데?03.31 01:46:12삭제\n",
            "(211.37)바보에게 바보가...03.31 01:47:01삭제\n",
            "(180.233)미친03.31 02:11:21삭제\n",
            "(106.102)미쳤나\n",
            "\n",
            "['앜', '서로', '삭제', '호승', '저', '정도면', '거의', '공중부양', '워킹', '수준인데', '삭제', '바보에게', '바보가', '삭제', '미친', '삭제', '미쳤나']\n"
          ]
        }
      ],
      "source": [
        "text = '''\n",
        "ㅇㅇ(61.102)앜ㅠㅠㅠㅠ 서로ㅋㅋㅋㅋㅋㅋㅋㅋㅋㅋ03.31 01:44:10삭제\n",
        "ㅇㅇ(61.102)호승 ㅜㅜㅜㅜ저 정도면 거의 공중부양 워킹 수준인데?03.31 01:46:12삭제\n",
        "ㅇㅇ(211.37)바보에게 바보가...03.31 01:47:01삭제\n",
        "ㅇㅇ(180.233)미친ㅋㅋㅋㅋㅋㅋㅋㅋㅋㅋ03.31 02:11:21삭제\n",
        "ㅇㅇ(106.102)ㅅㅂㅋㅋㅋㅋㅋㅋ미쳤나ㅎㅎㅎㅎㅏㅏㅏㅏ\n",
        "'''\n",
        "text_filtered = re.sub(r'[ㄱ-ㅎㅏ-ㅣ]', '', text)\n",
        "print(text_filtered)\n",
        "\n",
        "text_selected = re.findall(r'[가-힣]+', text)\n",
        "print(text_selected)"
      ]
    }
  ],
  "metadata": {
    "colab": {
      "provenance": []
    },
    "kernelspec": {
      "display_name": "Python 3 (ipykernel)",
      "language": "python",
      "name": "python3"
    },
    "language_info": {
      "codemirror_mode": {
        "name": "ipython",
        "version": 3
      },
      "file_extension": ".py",
      "mimetype": "text/x-python",
      "name": "python",
      "nbconvert_exporter": "python",
      "pygments_lexer": "ipython3",
      "version": "3.9.7"
    }
  },
  "nbformat": 4,
  "nbformat_minor": 0
}