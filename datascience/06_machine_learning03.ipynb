{
  "cells": [
    {
      "cell_type": "markdown",
      "metadata": {
        "id": "xWs2k9xKLGQK"
      },
      "source": [
        "# Model Evaluation"
      ]
    },
    {
      "cell_type": "code",
      "execution_count": null,
      "metadata": {
        "id": "QkvSMUVELGQL"
      },
      "outputs": [],
      "source": [
        "%matplotlib inline\n",
        "import numpy as np\n",
        "import pandas as pd\n",
        "import seaborn as sn\n",
        "import matplotlib.pyplot as plt\n",
        "from sklearn.neighbors import KNeighborsClassifier\n",
        "np.set_printoptions(precision=2)"
      ]
    },
    {
      "cell_type": "code",
      "source": [
        "from google.colab import drive\n",
        "drive.mount('/content/drive/')"
      ],
      "metadata": {
        "colab": {
          "base_uri": "https://localhost:8080/"
        },
        "id": "lTo75VwPGJZi",
        "outputId": "866f313e-1736-42a0-9c81-a9df3582ffe8"
      },
      "execution_count": null,
      "outputs": [
        {
          "output_type": "stream",
          "name": "stdout",
          "text": [
            "Mounted at /content/drive/\n"
          ]
        }
      ]
    },
    {
      "cell_type": "markdown",
      "metadata": {
        "collapsed": true,
        "id": "X5kmA1HhLGQY"
      },
      "source": [
        "## Cross-validation in `sklearn`"
      ]
    },
    {
      "cell_type": "code",
      "source": [
        "fruits = pd.read_table('/content/drive/MyDrive/DataScience2023/chap06_machine_learning/datasets/fruit_data_with_colors.txt')\n",
        "fruits = fruits.dropna()\n",
        "\n",
        "feature_names_fruits = ['height', 'width', 'mass', 'color_score']\n",
        "X_fruits = fruits[feature_names_fruits]\n",
        "y_fruits = fruits['fruit_label']\n",
        "target_names_fruits = ['apple', 'mandarin', 'orange', 'lemon']\n",
        "\n",
        "X_fruits_2d = fruits[['height', 'width']]\n",
        "y_fruits_2d = fruits['fruit_label']"
      ],
      "metadata": {
        "id": "pKsGV411ee8B"
      },
      "execution_count": null,
      "outputs": []
    },
    {
      "cell_type": "code",
      "execution_count": null,
      "metadata": {
        "colab": {
          "base_uri": "https://localhost:8080/"
        },
        "id": "ikE28gqzLGQY",
        "outputId": "24e56822-3019-4400-d08f-5bcadc6004f9"
      },
      "outputs": [
        {
          "output_type": "stream",
          "name": "stdout",
          "text": [
            "Cross-validation scores (3-fold): [0.8  0.75 0.84]\n",
            "Mean cross-validation score (3-fold): 0.797\n"
          ]
        }
      ],
      "source": [
        "from sklearn.model_selection import cross_val_score\n",
        "\n",
        "clf = KNeighborsClassifier(n_neighbors = 5)\n",
        "X = X_fruits_2d.to_numpy()\n",
        "y = y_fruits_2d.to_numpy()\n",
        "\n",
        "cv_scores = cross_val_score(clf, X, y, cv=3)\n",
        "\n",
        "print('Cross-validation scores (3-fold):', cv_scores)\n",
        "print('Mean cross-validation score (3-fold): {:.3f}'\n",
        "     .format(np.mean(cv_scores)))"
      ]
    },
    {
      "cell_type": "code",
      "execution_count": null,
      "metadata": {
        "id": "WdccjZ_KcxmK",
        "colab": {
          "base_uri": "https://localhost:8080/"
        },
        "outputId": "ce2bc8db-0294-41ae-a805-e5b7d8fdad14"
      },
      "outputs": [
        {
          "output_type": "stream",
          "name": "stdout",
          "text": [
            "{'DESCR': '.. _iris_dataset:\\n'\n",
            "          '\\n'\n",
            "          'Iris plants dataset\\n'\n",
            "          '--------------------\\n'\n",
            "          '\\n'\n",
            "          '**Data Set Characteristics:**\\n'\n",
            "          '\\n'\n",
            "          '    :Number of Instances: 150 (50 in each of three classes)\\n'\n",
            "          '    :Number of Attributes: 4 numeric, predictive attributes and the '\n",
            "          'class\\n'\n",
            "          '    :Attribute Information:\\n'\n",
            "          '        - sepal length in cm\\n'\n",
            "          '        - sepal width in cm\\n'\n",
            "          '        - petal length in cm\\n'\n",
            "          '        - petal width in cm\\n'\n",
            "          '        - class:\\n'\n",
            "          '                - Iris-Setosa\\n'\n",
            "          '                - Iris-Versicolour\\n'\n",
            "          '                - Iris-Virginica\\n'\n",
            "          '                \\n'\n",
            "          '    :Summary Statistics:\\n'\n",
            "          '\\n'\n",
            "          '    ============== ==== ==== ======= ===== ====================\\n'\n",
            "          '                    Min  Max   Mean    SD   Class Correlation\\n'\n",
            "          '    ============== ==== ==== ======= ===== ====================\\n'\n",
            "          '    sepal length:   4.3  7.9   5.84   0.83    0.7826\\n'\n",
            "          '    sepal width:    2.0  4.4   3.05   0.43   -0.4194\\n'\n",
            "          '    petal length:   1.0  6.9   3.76   1.76    0.9490  (high!)\\n'\n",
            "          '    petal width:    0.1  2.5   1.20   0.76    0.9565  (high!)\\n'\n",
            "          '    ============== ==== ==== ======= ===== ====================\\n'\n",
            "          '\\n'\n",
            "          '    :Missing Attribute Values: None\\n'\n",
            "          '    :Class Distribution: 33.3% for each of 3 classes.\\n'\n",
            "          '    :Creator: R.A. Fisher\\n'\n",
            "          '    :Donor: Michael Marshall (MARSHALL%PLU@io.arc.nasa.gov)\\n'\n",
            "          '    :Date: July, 1988\\n'\n",
            "          '\\n'\n",
            "          'The famous Iris database, first used by Sir R.A. Fisher. The '\n",
            "          'dataset is taken\\n'\n",
            "          \"from Fisher's paper. Note that it's the same as in R, but not as in \"\n",
            "          'the UCI\\n'\n",
            "          'Machine Learning Repository, which has two wrong data points.\\n'\n",
            "          '\\n'\n",
            "          'This is perhaps the best known database to be found in the\\n'\n",
            "          \"pattern recognition literature.  Fisher's paper is a classic in the \"\n",
            "          'field and\\n'\n",
            "          'is referenced frequently to this day.  (See Duda & Hart, for '\n",
            "          'example.)  The\\n'\n",
            "          'data set contains 3 classes of 50 instances each, where each class '\n",
            "          'refers to a\\n'\n",
            "          'type of iris plant.  One class is linearly separable from the other '\n",
            "          '2; the\\n'\n",
            "          'latter are NOT linearly separable from each other.\\n'\n",
            "          '\\n'\n",
            "          '.. topic:: References\\n'\n",
            "          '\\n'\n",
            "          '   - Fisher, R.A. \"The use of multiple measurements in taxonomic '\n",
            "          'problems\"\\n'\n",
            "          '     Annual Eugenics, 7, Part II, 179-188 (1936); also in '\n",
            "          '\"Contributions to\\n'\n",
            "          '     Mathematical Statistics\" (John Wiley, NY, 1950).\\n'\n",
            "          '   - Duda, R.O., & Hart, P.E. (1973) Pattern Classification and '\n",
            "          'Scene Analysis.\\n'\n",
            "          '     (Q327.D83) John Wiley & Sons.  ISBN 0-471-22361-1.  See page '\n",
            "          '218.\\n'\n",
            "          '   - Dasarathy, B.V. (1980) \"Nosing Around the Neighborhood: A New '\n",
            "          'System\\n'\n",
            "          '     Structure and Classification Rule for Recognition in Partially '\n",
            "          'Exposed\\n'\n",
            "          '     Environments\".  IEEE Transactions on Pattern Analysis and '\n",
            "          'Machine\\n'\n",
            "          '     Intelligence, Vol. PAMI-2, No. 1, 67-71.\\n'\n",
            "          '   - Gates, G.W. (1972) \"The Reduced Nearest Neighbor Rule\".  IEEE '\n",
            "          'Transactions\\n'\n",
            "          '     on Information Theory, May 1972, 431-433.\\n'\n",
            "          '   - See also: 1988 MLC Proceedings, 54-64.  Cheeseman et al\"s '\n",
            "          'AUTOCLASS II\\n'\n",
            "          '     conceptual clustering system finds 3 classes in the data.\\n'\n",
            "          '   - Many, many more ...',\n",
            " 'data': array([[5.1, 3.5, 1.4, 0.2],\n",
            "       [4.9, 3. , 1.4, 0.2],\n",
            "       [4.7, 3.2, 1.3, 0.2],\n",
            "       [4.6, 3.1, 1.5, 0.2],\n",
            "       [5. , 3.6, 1.4, 0.2],\n",
            "       [5.4, 3.9, 1.7, 0.4],\n",
            "       [4.6, 3.4, 1.4, 0.3],\n",
            "       [5. , 3.4, 1.5, 0.2],\n",
            "       [4.4, 2.9, 1.4, 0.2],\n",
            "       [4.9, 3.1, 1.5, 0.1],\n",
            "       [5.4, 3.7, 1.5, 0.2],\n",
            "       [4.8, 3.4, 1.6, 0.2],\n",
            "       [4.8, 3. , 1.4, 0.1],\n",
            "       [4.3, 3. , 1.1, 0.1],\n",
            "       [5.8, 4. , 1.2, 0.2],\n",
            "       [5.7, 4.4, 1.5, 0.4],\n",
            "       [5.4, 3.9, 1.3, 0.4],\n",
            "       [5.1, 3.5, 1.4, 0.3],\n",
            "       [5.7, 3.8, 1.7, 0.3],\n",
            "       [5.1, 3.8, 1.5, 0.3],\n",
            "       [5.4, 3.4, 1.7, 0.2],\n",
            "       [5.1, 3.7, 1.5, 0.4],\n",
            "       [4.6, 3.6, 1. , 0.2],\n",
            "       [5.1, 3.3, 1.7, 0.5],\n",
            "       [4.8, 3.4, 1.9, 0.2],\n",
            "       [5. , 3. , 1.6, 0.2],\n",
            "       [5. , 3.4, 1.6, 0.4],\n",
            "       [5.2, 3.5, 1.5, 0.2],\n",
            "       [5.2, 3.4, 1.4, 0.2],\n",
            "       [4.7, 3.2, 1.6, 0.2],\n",
            "       [4.8, 3.1, 1.6, 0.2],\n",
            "       [5.4, 3.4, 1.5, 0.4],\n",
            "       [5.2, 4.1, 1.5, 0.1],\n",
            "       [5.5, 4.2, 1.4, 0.2],\n",
            "       [4.9, 3.1, 1.5, 0.2],\n",
            "       [5. , 3.2, 1.2, 0.2],\n",
            "       [5.5, 3.5, 1.3, 0.2],\n",
            "       [4.9, 3.6, 1.4, 0.1],\n",
            "       [4.4, 3. , 1.3, 0.2],\n",
            "       [5.1, 3.4, 1.5, 0.2],\n",
            "       [5. , 3.5, 1.3, 0.3],\n",
            "       [4.5, 2.3, 1.3, 0.3],\n",
            "       [4.4, 3.2, 1.3, 0.2],\n",
            "       [5. , 3.5, 1.6, 0.6],\n",
            "       [5.1, 3.8, 1.9, 0.4],\n",
            "       [4.8, 3. , 1.4, 0.3],\n",
            "       [5.1, 3.8, 1.6, 0.2],\n",
            "       [4.6, 3.2, 1.4, 0.2],\n",
            "       [5.3, 3.7, 1.5, 0.2],\n",
            "       [5. , 3.3, 1.4, 0.2],\n",
            "       [7. , 3.2, 4.7, 1.4],\n",
            "       [6.4, 3.2, 4.5, 1.5],\n",
            "       [6.9, 3.1, 4.9, 1.5],\n",
            "       [5.5, 2.3, 4. , 1.3],\n",
            "       [6.5, 2.8, 4.6, 1.5],\n",
            "       [5.7, 2.8, 4.5, 1.3],\n",
            "       [6.3, 3.3, 4.7, 1.6],\n",
            "       [4.9, 2.4, 3.3, 1. ],\n",
            "       [6.6, 2.9, 4.6, 1.3],\n",
            "       [5.2, 2.7, 3.9, 1.4],\n",
            "       [5. , 2. , 3.5, 1. ],\n",
            "       [5.9, 3. , 4.2, 1.5],\n",
            "       [6. , 2.2, 4. , 1. ],\n",
            "       [6.1, 2.9, 4.7, 1.4],\n",
            "       [5.6, 2.9, 3.6, 1.3],\n",
            "       [6.7, 3.1, 4.4, 1.4],\n",
            "       [5.6, 3. , 4.5, 1.5],\n",
            "       [5.8, 2.7, 4.1, 1. ],\n",
            "       [6.2, 2.2, 4.5, 1.5],\n",
            "       [5.6, 2.5, 3.9, 1.1],\n",
            "       [5.9, 3.2, 4.8, 1.8],\n",
            "       [6.1, 2.8, 4. , 1.3],\n",
            "       [6.3, 2.5, 4.9, 1.5],\n",
            "       [6.1, 2.8, 4.7, 1.2],\n",
            "       [6.4, 2.9, 4.3, 1.3],\n",
            "       [6.6, 3. , 4.4, 1.4],\n",
            "       [6.8, 2.8, 4.8, 1.4],\n",
            "       [6.7, 3. , 5. , 1.7],\n",
            "       [6. , 2.9, 4.5, 1.5],\n",
            "       [5.7, 2.6, 3.5, 1. ],\n",
            "       [5.5, 2.4, 3.8, 1.1],\n",
            "       [5.5, 2.4, 3.7, 1. ],\n",
            "       [5.8, 2.7, 3.9, 1.2],\n",
            "       [6. , 2.7, 5.1, 1.6],\n",
            "       [5.4, 3. , 4.5, 1.5],\n",
            "       [6. , 3.4, 4.5, 1.6],\n",
            "       [6.7, 3.1, 4.7, 1.5],\n",
            "       [6.3, 2.3, 4.4, 1.3],\n",
            "       [5.6, 3. , 4.1, 1.3],\n",
            "       [5.5, 2.5, 4. , 1.3],\n",
            "       [5.5, 2.6, 4.4, 1.2],\n",
            "       [6.1, 3. , 4.6, 1.4],\n",
            "       [5.8, 2.6, 4. , 1.2],\n",
            "       [5. , 2.3, 3.3, 1. ],\n",
            "       [5.6, 2.7, 4.2, 1.3],\n",
            "       [5.7, 3. , 4.2, 1.2],\n",
            "       [5.7, 2.9, 4.2, 1.3],\n",
            "       [6.2, 2.9, 4.3, 1.3],\n",
            "       [5.1, 2.5, 3. , 1.1],\n",
            "       [5.7, 2.8, 4.1, 1.3],\n",
            "       [6.3, 3.3, 6. , 2.5],\n",
            "       [5.8, 2.7, 5.1, 1.9],\n",
            "       [7.1, 3. , 5.9, 2.1],\n",
            "       [6.3, 2.9, 5.6, 1.8],\n",
            "       [6.5, 3. , 5.8, 2.2],\n",
            "       [7.6, 3. , 6.6, 2.1],\n",
            "       [4.9, 2.5, 4.5, 1.7],\n",
            "       [7.3, 2.9, 6.3, 1.8],\n",
            "       [6.7, 2.5, 5.8, 1.8],\n",
            "       [7.2, 3.6, 6.1, 2.5],\n",
            "       [6.5, 3.2, 5.1, 2. ],\n",
            "       [6.4, 2.7, 5.3, 1.9],\n",
            "       [6.8, 3. , 5.5, 2.1],\n",
            "       [5.7, 2.5, 5. , 2. ],\n",
            "       [5.8, 2.8, 5.1, 2.4],\n",
            "       [6.4, 3.2, 5.3, 2.3],\n",
            "       [6.5, 3. , 5.5, 1.8],\n",
            "       [7.7, 3.8, 6.7, 2.2],\n",
            "       [7.7, 2.6, 6.9, 2.3],\n",
            "       [6. , 2.2, 5. , 1.5],\n",
            "       [6.9, 3.2, 5.7, 2.3],\n",
            "       [5.6, 2.8, 4.9, 2. ],\n",
            "       [7.7, 2.8, 6.7, 2. ],\n",
            "       [6.3, 2.7, 4.9, 1.8],\n",
            "       [6.7, 3.3, 5.7, 2.1],\n",
            "       [7.2, 3.2, 6. , 1.8],\n",
            "       [6.2, 2.8, 4.8, 1.8],\n",
            "       [6.1, 3. , 4.9, 1.8],\n",
            "       [6.4, 2.8, 5.6, 2.1],\n",
            "       [7.2, 3. , 5.8, 1.6],\n",
            "       [7.4, 2.8, 6.1, 1.9],\n",
            "       [7.9, 3.8, 6.4, 2. ],\n",
            "       [6.4, 2.8, 5.6, 2.2],\n",
            "       [6.3, 2.8, 5.1, 1.5],\n",
            "       [6.1, 2.6, 5.6, 1.4],\n",
            "       [7.7, 3. , 6.1, 2.3],\n",
            "       [6.3, 3.4, 5.6, 2.4],\n",
            "       [6.4, 3.1, 5.5, 1.8],\n",
            "       [6. , 3. , 4.8, 1.8],\n",
            "       [6.9, 3.1, 5.4, 2.1],\n",
            "       [6.7, 3.1, 5.6, 2.4],\n",
            "       [6.9, 3.1, 5.1, 2.3],\n",
            "       [5.8, 2.7, 5.1, 1.9],\n",
            "       [6.8, 3.2, 5.9, 2.3],\n",
            "       [6.7, 3.3, 5.7, 2.5],\n",
            "       [6.7, 3. , 5.2, 2.3],\n",
            "       [6.3, 2.5, 5. , 1.9],\n",
            "       [6.5, 3. , 5.2, 2. ],\n",
            "       [6.2, 3.4, 5.4, 2.3],\n",
            "       [5.9, 3. , 5.1, 1.8]]),\n",
            " 'data_module': 'sklearn.datasets.data',\n",
            " 'feature_names': ['sepal length (cm)',\n",
            "                   'sepal width (cm)',\n",
            "                   'petal length (cm)',\n",
            "                   'petal width (cm)'],\n",
            " 'filename': 'iris.csv',\n",
            " 'frame': None,\n",
            " 'target': array([0, 0, 0, 0, 0, 0, 0, 0, 0, 0, 0, 0, 0, 0, 0, 0, 0, 0, 0, 0, 0, 0,\n",
            "       0, 0, 0, 0, 0, 0, 0, 0, 0, 0, 0, 0, 0, 0, 0, 0, 0, 0, 0, 0, 0, 0,\n",
            "       0, 0, 0, 0, 0, 0, 1, 1, 1, 1, 1, 1, 1, 1, 1, 1, 1, 1, 1, 1, 1, 1,\n",
            "       1, 1, 1, 1, 1, 1, 1, 1, 1, 1, 1, 1, 1, 1, 1, 1, 1, 1, 1, 1, 1, 1,\n",
            "       1, 1, 1, 1, 1, 1, 1, 1, 1, 1, 1, 1, 2, 2, 2, 2, 2, 2, 2, 2, 2, 2,\n",
            "       2, 2, 2, 2, 2, 2, 2, 2, 2, 2, 2, 2, 2, 2, 2, 2, 2, 2, 2, 2, 2, 2,\n",
            "       2, 2, 2, 2, 2, 2, 2, 2, 2, 2, 2, 2, 2, 2, 2, 2, 2, 2]),\n",
            " 'target_names': array(['setosa', 'versicolor', 'virginica'], dtype='<U10')}\n"
          ]
        }
      ],
      "source": [
        "from sklearn.datasets import load_iris\n",
        "from sklearn.linear_model import LogisticRegression\n",
        "from pprint import pprint\n",
        "iris = load_iris()\n",
        "logreg = LogisticRegression(max_iter=1000)\n",
        "pprint(iris)"
      ]
    },
    {
      "cell_type": "code",
      "source": [
        "scores = cross_val_score(logreg, iris.data, iris.target)  # default cv = 5\n",
        "print(\"Cross-validation scores: {}\".format(scores))\n",
        "print('Mean cross-validation score (5-fold): {:.3f}'\n",
        "     .format(np.mean(cv_scores)))"
      ],
      "metadata": {
        "colab": {
          "base_uri": "https://localhost:8080/"
        },
        "id": "MlwIEvcKtf2c",
        "outputId": "d8f45daf-8c98-41f6-857d-2e77d5d55b79"
      },
      "execution_count": null,
      "outputs": [
        {
          "output_type": "stream",
          "name": "stdout",
          "text": [
            "Cross-validation scores: [0.97 1.   0.93 0.97 1.  ]\n",
            "Mean cross-validation score (5-fold): 0.797\n"
          ]
        }
      ]
    },
    {
      "cell_type": "code",
      "execution_count": null,
      "metadata": {
        "id": "z4l8OmXdcxmM",
        "outputId": "75b53020-4f9b-4d79-f5e0-f82b56bd62ab",
        "colab": {
          "base_uri": "https://localhost:8080/"
        }
      },
      "outputs": [
        {
          "output_type": "execute_result",
          "data": {
            "text/plain": [
              "{'fit_time': array([0.07, 0.15, 0.08, 0.03, 0.04]),\n",
              " 'score_time': array([0., 0., 0., 0., 0.]),\n",
              " 'test_score': array([0.97, 1.  , 0.93, 0.97, 1.  ]),\n",
              " 'train_score': array([0.97, 0.97, 0.98, 0.98, 0.97])}"
            ]
          },
          "metadata": {},
          "execution_count": 7
        }
      ],
      "source": [
        "from sklearn.model_selection import cross_validate\n",
        "res = cross_validate(logreg, iris.data, iris.target, cv=5,\n",
        "                     return_train_score=True)\n",
        "res"
      ]
    },
    {
      "cell_type": "code",
      "source": [
        "from sklearn.model_selection import GroupKFold\n",
        "from sklearn.datasets import make_blobs\n",
        "\n",
        "# create synthetic dataset\n",
        "X, y = make_blobs(n_samples=12, random_state=0)\n",
        "# assume the first three samples belong to the same group,\n",
        "# then the next four, etc.\n",
        "groups = [0, 0, 0, 1, 1, 1, 1, 2, 2, 3, 3, 3]\n",
        "scores = cross_val_score(logreg, X, y, groups=groups, cv=GroupKFold(n_splits=3))\n",
        "print(\"Cross-validation scores:\\n{}\".format(scores))"
      ],
      "metadata": {
        "colab": {
          "base_uri": "https://localhost:8080/"
        },
        "id": "KG0scGUdjhox",
        "outputId": "c83b81f1-139a-4888-babb-55b8a6612694"
      },
      "execution_count": null,
      "outputs": [
        {
          "output_type": "stream",
          "name": "stdout",
          "text": [
            "Cross-validation scores:\n",
            "[0.75 0.6  0.67]\n"
          ]
        }
      ]
    },
    {
      "cell_type": "markdown",
      "metadata": {
        "id": "o-eUJsk-bj1j"
      },
      "source": [
        "## Evaluation for Classification"
      ]
    },
    {
      "cell_type": "markdown",
      "metadata": {
        "id": "O1zdxMxcbj1j"
      },
      "source": [
        "### Preamble"
      ]
    },
    {
      "cell_type": "code",
      "execution_count": null,
      "metadata": {
        "colab": {
          "base_uri": "https://localhost:8080/"
        },
        "id": "v1d9xtk7bj1k",
        "outputId": "9551ca5a-45fa-45d7-b823-8bbfa840e414"
      },
      "outputs": [
        {
          "output_type": "stream",
          "name": "stdout",
          "text": [
            "0 178\n",
            "1 182\n",
            "2 177\n",
            "3 183\n",
            "4 181\n",
            "5 182\n",
            "6 181\n",
            "7 179\n",
            "8 174\n",
            "9 180\n"
          ]
        }
      ],
      "source": [
        "from sklearn.model_selection import train_test_split\n",
        "from sklearn.datasets import load_digits\n",
        "\n",
        "dataset = load_digits()\n",
        "X, y = dataset.data, dataset.target\n",
        "\n",
        "for class_name, class_count in zip(dataset.target_names, np.bincount(dataset.target)):\n",
        "    print(class_name,class_count)"
      ]
    },
    {
      "cell_type": "code",
      "source": [
        "X.shape"
      ],
      "metadata": {
        "colab": {
          "base_uri": "https://localhost:8080/"
        },
        "id": "Klzqvhr2LCcJ",
        "outputId": "a3a086ea-6259-4cf5-a806-40c946b0ae46"
      },
      "execution_count": null,
      "outputs": [
        {
          "output_type": "execute_result",
          "data": {
            "text/plain": [
              "(1797, 64)"
            ]
          },
          "metadata": {},
          "execution_count": 10
        }
      ]
    },
    {
      "cell_type": "code",
      "source": [
        "plt.gray()\n",
        "plt.matshow(X[0].reshape((8,8)))\n",
        "plt.title(y[0])\n",
        "plt.show()"
      ],
      "metadata": {
        "colab": {
          "base_uri": "https://localhost:8080/",
          "height": 477
        },
        "id": "Jx280nH_LZBa",
        "outputId": "16f56229-af7e-4da1-fedb-60c376be3010"
      },
      "execution_count": null,
      "outputs": [
        {
          "output_type": "display_data",
          "data": {
            "text/plain": [
              "<Figure size 640x480 with 0 Axes>"
            ]
          },
          "metadata": {}
        },
        {
          "output_type": "display_data",
          "data": {
            "text/plain": [
              "<Figure size 480x480 with 1 Axes>"
            ],
            "image/png": "[encoded data removed]"
          },
          "metadata": {}
        }
      ]
    },
    {
      "cell_type": "code",
      "execution_count": null,
      "metadata": {
        "colab": {
          "base_uri": "https://localhost:8080/"
        },
        "id": "oua1HHTpbj1l",
        "outputId": "355faa00-6acf-49d6-ec78-014e8fcd7e52"
      },
      "outputs": [
        {
          "output_type": "stream",
          "name": "stdout",
          "text": [
            "Original labels:\t [1 2 3 4 5 6 7 8 9 0 1 2 3 4 5 6 7 8 9 0 1 2 3 4 5 6 7 8 9]\n",
            "New binary labels:\t [1 0 0 0 0 0 0 0 0 0 1 0 0 0 0 0 0 0 0 0 1 0 0 0 0 0 0 0 0]\n"
          ]
        }
      ],
      "source": [
        "# Creating a dataset with imbalanced binary classes:\n",
        "# Negative class (0) is 'not digit 1'\n",
        "# Positive class (1) is 'digit 1'\n",
        "y_binary_imbalanced = y.copy()\n",
        "y_binary_imbalanced[y_binary_imbalanced != 1] = 0\n",
        "\n",
        "print('Original labels:\\t', y[1:30])\n",
        "print('New binary labels:\\t', y_binary_imbalanced[1:30])"
      ]
    },
    {
      "cell_type": "code",
      "execution_count": null,
      "metadata": {
        "scrolled": true,
        "colab": {
          "base_uri": "https://localhost:8080/"
        },
        "id": "Wfte6Dibbj1l",
        "outputId": "7cce4561-b1c8-4cb7-ee64-d4e3c799242b"
      },
      "outputs": [
        {
          "output_type": "execute_result",
          "data": {
            "text/plain": [
              "array([1615,  182])"
            ]
          },
          "metadata": {},
          "execution_count": 13
        }
      ],
      "source": [
        "np.bincount(y_binary_imbalanced)    # Negative class (0) is the most frequent class"
      ]
    },
    {
      "cell_type": "code",
      "execution_count": null,
      "metadata": {
        "colab": {
          "base_uri": "https://localhost:8080/"
        },
        "id": "h3O4coA5bj1m",
        "outputId": "1e251913-14f9-41f5-c982-280dccd85bbb"
      },
      "outputs": [
        {
          "output_type": "execute_result",
          "data": {
            "text/plain": [
              "0.9955555555555555"
            ]
          },
          "metadata": {},
          "execution_count": 14
        }
      ],
      "source": [
        "X_train, X_test, y_train, y_test = train_test_split(X, y_binary_imbalanced, random_state=0)\n",
        "\n",
        "# Accuracy of Support Vector Machine classifier\n",
        "from sklearn.svm import SVC\n",
        "\n",
        "svm = SVC(kernel='rbf', C=1).fit(X_train, y_train)\n",
        "svm.score(X_test, y_test)"
      ]
    },
    {
      "cell_type": "markdown",
      "metadata": {
        "id": "GvTx5Kt1bj1m"
      },
      "source": [
        "### Dummy Classifiers"
      ]
    },
    {
      "cell_type": "markdown",
      "metadata": {
        "collapsed": true,
        "id": "bnL4hUylbj1n"
      },
      "source": [
        "DummyClassifier는 간단한 규칙을 사용하여 예측을 하는 분류기로, 특히 불균형한 클래스의 경우 실제 분류기와 비교할 때 기준선(baseline)으로 유용할 수 있다."
      ]
    },
    {
      "cell_type": "code",
      "execution_count": null,
      "metadata": {
        "colab": {
          "base_uri": "https://localhost:8080/"
        },
        "id": "OHu4UwzObj1n",
        "outputId": "2c0b6346-7b84-46cc-a3c6-dbf4298ba9bf"
      },
      "outputs": [
        {
          "output_type": "execute_result",
          "data": {
            "text/plain": [
              "array([0, 0, 0, 0, 0, 0, 0, 0, 0, 0, 0, 0, 0, 0, 0, 0, 0, 0, 0, 0, 0, 0,\n",
              "       0, 0, 0, 0, 0, 0, 0, 0, 0, 0, 0, 0, 0, 0, 0, 0, 0, 0, 0, 0, 0, 0,\n",
              "       0, 0, 0, 0, 0, 0, 0, 0, 0, 0, 0, 0, 0, 0, 0, 0, 0, 0, 0, 0, 0, 0,\n",
              "       0, 0, 0, 0, 0, 0, 0, 0, 0, 0, 0, 0, 0, 0, 0, 0, 0, 0, 0, 0, 0, 0,\n",
              "       0, 0, 0, 0, 0, 0, 0, 0, 0, 0, 0, 0, 0, 0, 0, 0, 0, 0, 0, 0, 0, 0,\n",
              "       0, 0, 0, 0, 0, 0, 0, 0, 0, 0, 0, 0, 0, 0, 0, 0, 0, 0, 0, 0, 0, 0,\n",
              "       0, 0, 0, 0, 0, 0, 0, 0, 0, 0, 0, 0, 0, 0, 0, 0, 0, 0, 0, 0, 0, 0,\n",
              "       0, 0, 0, 0, 0, 0, 0, 0, 0, 0, 0, 0, 0, 0, 0, 0, 0, 0, 0, 0, 0, 0,\n",
              "       0, 0, 0, 0, 0, 0, 0, 0, 0, 0, 0, 0, 0, 0, 0, 0, 0, 0, 0, 0, 0, 0,\n",
              "       0, 0, 0, 0, 0, 0, 0, 0, 0, 0, 0, 0, 0, 0, 0, 0, 0, 0, 0, 0, 0, 0,\n",
              "       0, 0, 0, 0, 0, 0, 0, 0, 0, 0, 0, 0, 0, 0, 0, 0, 0, 0, 0, 0, 0, 0,\n",
              "       0, 0, 0, 0, 0, 0, 0, 0, 0, 0, 0, 0, 0, 0, 0, 0, 0, 0, 0, 0, 0, 0,\n",
              "       0, 0, 0, 0, 0, 0, 0, 0, 0, 0, 0, 0, 0, 0, 0, 0, 0, 0, 0, 0, 0, 0,\n",
              "       0, 0, 0, 0, 0, 0, 0, 0, 0, 0, 0, 0, 0, 0, 0, 0, 0, 0, 0, 0, 0, 0,\n",
              "       0, 0, 0, 0, 0, 0, 0, 0, 0, 0, 0, 0, 0, 0, 0, 0, 0, 0, 0, 0, 0, 0,\n",
              "       0, 0, 0, 0, 0, 0, 0, 0, 0, 0, 0, 0, 0, 0, 0, 0, 0, 0, 0, 0, 0, 0,\n",
              "       0, 0, 0, 0, 0, 0, 0, 0, 0, 0, 0, 0, 0, 0, 0, 0, 0, 0, 0, 0, 0, 0,\n",
              "       0, 0, 0, 0, 0, 0, 0, 0, 0, 0, 0, 0, 0, 0, 0, 0, 0, 0, 0, 0, 0, 0,\n",
              "       0, 0, 0, 0, 0, 0, 0, 0, 0, 0, 0, 0, 0, 0, 0, 0, 0, 0, 0, 0, 0, 0,\n",
              "       0, 0, 0, 0, 0, 0, 0, 0, 0, 0, 0, 0, 0, 0, 0, 0, 0, 0, 0, 0, 0, 0,\n",
              "       0, 0, 0, 0, 0, 0, 0, 0, 0, 0])"
            ]
          },
          "metadata": {},
          "execution_count": 15
        }
      ],
      "source": [
        "from sklearn.dummy import DummyClassifier\n",
        "\n",
        "# Negative class (0) is most frequent\n",
        "dummy_majority = DummyClassifier(strategy = 'most_frequent').fit(X_train, y_train)\n",
        "# Therefore the dummy 'most_frequent' classifier always predicts class 0\n",
        "y_dummy_predictions = dummy_majority.predict(X_test)\n",
        "\n",
        "y_dummy_predictions"
      ]
    },
    {
      "cell_type": "code",
      "execution_count": null,
      "metadata": {
        "colab": {
          "base_uri": "https://localhost:8080/"
        },
        "id": "4cyf7mlrbj1o",
        "outputId": "47e6b0ee-1fff-45dd-87bd-fb0304cd8911"
      },
      "outputs": [
        {
          "output_type": "execute_result",
          "data": {
            "text/plain": [
              "0.9044444444444445"
            ]
          },
          "metadata": {},
          "execution_count": 16
        }
      ],
      "source": [
        "dummy_majority.score(X_test, y_test)"
      ]
    },
    {
      "cell_type": "code",
      "execution_count": null,
      "metadata": {
        "colab": {
          "base_uri": "https://localhost:8080/"
        },
        "id": "F5R9-spGbj1p",
        "outputId": "87f5a2ef-f116-43f9-f191-d757f6709ce0"
      },
      "outputs": [
        {
          "output_type": "execute_result",
          "data": {
            "text/plain": [
              "0.9777777777777777"
            ]
          },
          "metadata": {},
          "execution_count": 17
        }
      ],
      "source": [
        "svm = SVC(kernel='linear', C=1).fit(X_train, y_train)\n",
        "svm.score(X_test, y_test)"
      ]
    },
    {
      "cell_type": "markdown",
      "metadata": {
        "id": "-nBSJd8Tbj1p"
      },
      "source": [
        "### Confusion matrices"
      ]
    },
    {
      "cell_type": "markdown",
      "metadata": {
        "id": "HtAfyjRVbj1q"
      },
      "source": [
        "#### Binary (two-class) confusion matrix"
      ]
    },
    {
      "cell_type": "code",
      "execution_count": null,
      "metadata": {
        "colab": {
          "base_uri": "https://localhost:8080/"
        },
        "id": "oJAj6kFybj1q",
        "outputId": "49d45838-5df8-4cf6-81f0-8ee3f04c6744"
      },
      "outputs": [
        {
          "output_type": "stream",
          "name": "stdout",
          "text": [
            "Most frequent class (dummy classifier)\n",
            " [[407   0]\n",
            " [ 43   0]]\n"
          ]
        }
      ],
      "source": [
        "from sklearn.metrics import confusion_matrix\n",
        "\n",
        "# Negative class (0) is most frequent\n",
        "dummy_majority = DummyClassifier(strategy = 'most_frequent').fit(X_train, y_train)\n",
        "y_majority_predicted = dummy_majority.predict(X_test)\n",
        "confusion = confusion_matrix(y_test, y_majority_predicted)\n",
        "\n",
        "print('Most frequent class (dummy classifier)\\n', confusion)"
      ]
    },
    {
      "cell_type": "code",
      "execution_count": null,
      "metadata": {
        "colab": {
          "base_uri": "https://localhost:8080/"
        },
        "id": "b4_MPQRdbj1q",
        "outputId": "bf23c41f-5555-47ee-dc1a-f0f7b950d833"
      },
      "outputs": [
        {
          "output_type": "stream",
          "name": "stdout",
          "text": [
            "Random class-proportional prediction (dummy classifier)\n",
            " [[359  48]\n",
            " [ 35   8]]\n"
          ]
        }
      ],
      "source": [
        "# produces random predictions w/ same class proportion as training set\n",
        "dummy_classprop = DummyClassifier(strategy='stratified').fit(X_train, y_train)\n",
        "y_classprop_predicted = dummy_classprop.predict(X_test)\n",
        "confusion = confusion_matrix(y_test, y_classprop_predicted)\n",
        "\n",
        "print('Random class-proportional prediction (dummy classifier)\\n', confusion)"
      ]
    },
    {
      "cell_type": "code",
      "execution_count": null,
      "metadata": {
        "scrolled": true,
        "colab": {
          "base_uri": "https://localhost:8080/"
        },
        "id": "rSQp8BlGbj1r",
        "outputId": "bdee6512-a56f-49dd-fa97-6d4e836cc4a6"
      },
      "outputs": [
        {
          "output_type": "stream",
          "name": "stdout",
          "text": [
            "Support vector machine classifier (linear kernel, C=1)\n",
            " [[402   5]\n",
            " [  5  38]]\n"
          ]
        }
      ],
      "source": [
        "svm = SVC(kernel='linear', C=1).fit(X_train, y_train)\n",
        "svm_predicted = svm.predict(X_test)\n",
        "confusion = confusion_matrix(y_test, svm_predicted)\n",
        "\n",
        "print('Support vector machine classifier (linear kernel, C=1)\\n', confusion)"
      ]
    },
    {
      "cell_type": "code",
      "execution_count": null,
      "metadata": {
        "colab": {
          "base_uri": "https://localhost:8080/"
        },
        "id": "GK5RbvFcbj1r",
        "outputId": "34f61f2a-8b8c-44f7-cd9a-b44daaaeae5c"
      },
      "outputs": [
        {
          "output_type": "stream",
          "name": "stdout",
          "text": [
            "Logistic regression classifier (default settings)\n",
            " [[403   4]\n",
            " [  7  36]]\n"
          ]
        }
      ],
      "source": [
        "from sklearn.linear_model import LogisticRegression\n",
        "\n",
        "lr = LogisticRegression(max_iter=1000).fit(X_train, y_train) # default max iteration is 100\n",
        "lr_predicted = lr.predict(X_test)\n",
        "confusion = confusion_matrix(y_test, lr_predicted)\n",
        "\n",
        "print('Logistic regression classifier (default settings)\\n', confusion)"
      ]
    },
    {
      "cell_type": "code",
      "execution_count": null,
      "metadata": {
        "colab": {
          "base_uri": "https://localhost:8080/"
        },
        "id": "wnaGrZqxbj1r",
        "outputId": "adc731cf-f7e2-4d78-ed1e-e7a1082738d5"
      },
      "outputs": [
        {
          "output_type": "stream",
          "name": "stdout",
          "text": [
            "Decision tree classifier (max_depth = 2)\n",
            " [[400   7]\n",
            " [ 17  26]]\n"
          ]
        }
      ],
      "source": [
        "from sklearn.tree import DecisionTreeClassifier\n",
        "\n",
        "dt = DecisionTreeClassifier(max_depth=2).fit(X_train, y_train)\n",
        "tree_predicted = dt.predict(X_test)\n",
        "confusion = confusion_matrix(y_test, tree_predicted)\n",
        "\n",
        "print('Decision tree classifier (max_depth = 2)\\n', confusion)"
      ]
    },
    {
      "cell_type": "markdown",
      "metadata": {
        "id": "l2a7fVNUbj1r"
      },
      "source": [
        "### Evaluation metrics for binary classification"
      ]
    },
    {
      "cell_type": "code",
      "execution_count": null,
      "metadata": {
        "colab": {
          "base_uri": "https://localhost:8080/"
        },
        "id": "jpEbo-g6bj1s",
        "outputId": "57020243-028e-4e70-e28c-001088645c14"
      },
      "outputs": [
        {
          "output_type": "stream",
          "name": "stdout",
          "text": [
            "Accuracy: 0.95\n",
            "Precision: 0.79\n",
            "Recall: 0.60\n",
            "F1: 0.68\n"
          ]
        }
      ],
      "source": [
        "from sklearn.metrics import accuracy_score, precision_score, recall_score, f1_score\n",
        "# Accuracy = TP + TN / (TP + TN + FP + FN)\n",
        "# Precision = TP / (TP + FP)\n",
        "# Recall = TP / (TP + FN)  Also known as sensitivity, or True Positive Rate\n",
        "# F1 = 2 * Precision * Recall / (Precision + Recall)\n",
        "print('Accuracy: {:.2f}'.format(accuracy_score(y_test, tree_predicted)))\n",
        "print('Precision: {:.2f}'.format(precision_score(y_test, tree_predicted)))\n",
        "print('Recall: {:.2f}'.format(recall_score(y_test, tree_predicted)))\n",
        "print('F1: {:.2f}'.format(f1_score(y_test, tree_predicted)))"
      ]
    },
    {
      "cell_type": "code",
      "execution_count": null,
      "metadata": {
        "colab": {
          "base_uri": "https://localhost:8080/"
        },
        "id": "ieQ0LLOYbj1s",
        "outputId": "c6327ef0-fb08-43de-8017-770362fd9826"
      },
      "outputs": [
        {
          "output_type": "stream",
          "name": "stdout",
          "text": [
            "              precision    recall  f1-score   support\n",
            "\n",
            "       not 1       0.96      0.98      0.97       407\n",
            "           1       0.79      0.60      0.68        43\n",
            "\n",
            "    accuracy                           0.95       450\n",
            "   macro avg       0.87      0.79      0.83       450\n",
            "weighted avg       0.94      0.95      0.94       450\n",
            "\n"
          ]
        }
      ],
      "source": [
        "# Combined report with all above metrics\n",
        "from sklearn.metrics import classification_report\n",
        "\n",
        "print(classification_report(y_test, tree_predicted, target_names=['not 1', '1']))"
      ]
    },
    {
      "cell_type": "code",
      "execution_count": null,
      "metadata": {
        "scrolled": false,
        "colab": {
          "base_uri": "https://localhost:8080/"
        },
        "id": "kvnptaYhbj1s",
        "outputId": "0e6c948c-b534-4b32-f0a4-92c402763c53"
      },
      "outputs": [
        {
          "output_type": "stream",
          "name": "stdout",
          "text": [
            "Random class-proportional (dummy)\n",
            "               precision    recall  f1-score   support\n",
            "\n",
            "       not 1       0.91      0.88      0.90       407\n",
            "           1       0.14      0.19      0.16        43\n",
            "\n",
            "    accuracy                           0.82       450\n",
            "   macro avg       0.53      0.53      0.53       450\n",
            "weighted avg       0.84      0.82      0.83       450\n",
            "\n",
            "SVM\n",
            "               precision    recall  f1-score   support\n",
            "\n",
            "       not 1       0.99      0.99      0.99       407\n",
            "           1       0.88      0.88      0.88        43\n",
            "\n",
            "    accuracy                           0.98       450\n",
            "   macro avg       0.94      0.94      0.94       450\n",
            "weighted avg       0.98      0.98      0.98       450\n",
            "\n",
            "Logistic regression\n",
            "               precision    recall  f1-score   support\n",
            "\n",
            "       not 1       0.98      0.99      0.99       407\n",
            "           1       0.90      0.84      0.87        43\n",
            "\n",
            "    accuracy                           0.98       450\n",
            "   macro avg       0.94      0.91      0.93       450\n",
            "weighted avg       0.98      0.98      0.98       450\n",
            "\n",
            "Decision tree\n",
            "               precision    recall  f1-score   support\n",
            "\n",
            "       not 1       0.96      0.98      0.97       407\n",
            "           1       0.79      0.60      0.68        43\n",
            "\n",
            "    accuracy                           0.95       450\n",
            "   macro avg       0.87      0.79      0.83       450\n",
            "weighted avg       0.94      0.95      0.94       450\n",
            "\n"
          ]
        }
      ],
      "source": [
        "print('Random class-proportional (dummy)\\n',\n",
        "      classification_report(y_test, y_classprop_predicted, target_names=['not 1', '1']))\n",
        "print('SVM\\n',\n",
        "      classification_report(y_test, svm_predicted, target_names = ['not 1', '1']))\n",
        "print('Logistic regression\\n',\n",
        "      classification_report(y_test, lr_predicted, target_names = ['not 1', '1']))\n",
        "print('Decision tree\\n',\n",
        "      classification_report(y_test, tree_predicted, target_names = ['not 1', '1']))"
      ]
    },
    {
      "cell_type": "markdown",
      "metadata": {
        "id": "lcAv_h1ubj1s"
      },
      "source": [
        "### Decision functions"
      ]
    },
    {
      "cell_type": "code",
      "execution_count": null,
      "metadata": {
        "colab": {
          "base_uri": "https://localhost:8080/"
        },
        "id": "rFKX3jmubj1s",
        "outputId": "cd39718a-b94a-4183-dc68-b9c45e09c9db"
      },
      "outputs": [
        {
          "output_type": "execute_result",
          "data": {
            "text/plain": [
              "[(0, -34.62004996225904),\n",
              " (0, -18.00442545319492),\n",
              " (0, -20.993667999127712),\n",
              " (0, -36.80005421209292),\n",
              " (0, -39.322941913678946),\n",
              " (0, -18.859377792615682),\n",
              " (1, 6.0008643052571635),\n",
              " (0, -32.70549809843082),\n",
              " (0, -35.479780474785315),\n",
              " (0, -37.344751858586534),\n",
              " (0, -25.036111300760783),\n",
              " (0, -21.40278101311777),\n",
              " (0, -36.49809259931502),\n",
              " (0, -15.918081477445476),\n",
              " (0, -12.8383549397564),\n",
              " (0, -13.724136783969795),\n",
              " (1, 14.765800229971642),\n",
              " (0, -39.39802607243314),\n",
              " (0, -26.09357130243491),\n",
              " (0, -28.436481431051696)]"
            ]
          },
          "metadata": {},
          "execution_count": 38
        }
      ],
      "source": [
        "X_train, X_test, y_train, y_test = train_test_split(X, y_binary_imbalanced, random_state=0)\n",
        "y_scores_lr = lr.fit(X_train, y_train).decision_function(X_test)\n",
        "y_score_list = list(zip(y_test[0:20], y_scores_lr[0:20]))\n",
        "\n",
        "# show the decision_function scores for first 20 instances\n",
        "y_score_list"
      ]
    },
    {
      "cell_type": "code",
      "execution_count": null,
      "metadata": {
        "colab": {
          "base_uri": "https://localhost:8080/"
        },
        "id": "TJ4BMCCDbj1s",
        "outputId": "7f65cc71-0354-4c86-f241-f407b7ea31a7"
      },
      "outputs": [
        {
          "output_type": "execute_result",
          "data": {
            "text/plain": [
              "[(0, 9.219414438666943e-16),\n",
              " (0, 1.5162728869332996e-08),\n",
              " (0, 7.630725531160656e-10),\n",
              " (0, 1.0421722906870567e-16),\n",
              " (0, 8.361098016961761e-18),\n",
              " (0, 6.448761119623039e-09),\n",
              " (1, 0.9975295077438596),\n",
              " (0, 6.2543567223492356e-15),\n",
              " (0, 3.902358106555605e-16),\n",
              " (0, 6.044777779278604e-17),\n",
              " (0, 1.3395379246722318e-11),\n",
              " (0, 5.068626716494082e-10),\n",
              " (0, 1.40954772227428e-16),\n",
              " (0, 1.2214199206638531e-07),\n",
              " (0, 2.6568812202623265e-06),\n",
              " (0, 1.0956772643375126e-06),\n",
              " (1, 0.9999996133711377),\n",
              " (0, 7.756301435656342e-18),\n",
              " (0, 4.652709850881837e-12),\n",
              " (0, 4.4688217258465074e-13)]"
            ]
          },
          "metadata": {},
          "execution_count": 39
        }
      ],
      "source": [
        "X_train, X_test, y_train, y_test = train_test_split(X, y_binary_imbalanced, random_state=0)\n",
        "y_proba_lr = lr.fit(X_train, y_train).predict_proba(X_test)\n",
        "y_proba_list = list(zip(y_test[0:20], y_proba_lr[0:20,1]))\n",
        "\n",
        "# show the probability of positive class for first 20 instances\n",
        "y_proba_list"
      ]
    },
    {
      "cell_type": "code",
      "source": [
        "X_train, X_test, y_train, y_test = train_test_split(X, y_binary_imbalanced, random_state=0)\n",
        "y_scores_svm_rbf = SVC(kernel='rbf', C=1).fit(X_train, y_train).decision_function(X_test)\n",
        "y_score_list_svm_rbf = list(zip(y_test[0:20], y_scores_svm_rbf[0:20]))\n",
        "\n",
        "# show the decision_function scores for first 20 instances\n",
        "y_score_list_svm_rbf"
      ],
      "metadata": {
        "colab": {
          "base_uri": "https://localhost:8080/"
        },
        "id": "E-MDiPClMIyp",
        "outputId": "c1304995-68be-449b-f458-543a0880d418"
      },
      "execution_count": null,
      "outputs": [
        {
          "output_type": "execute_result",
          "data": {
            "text/plain": [
              "[(0, -2.0782527695291093),\n",
              " (0, -1.5909677157627504),\n",
              " (0, -1.8510848414080683),\n",
              " (0, -1.9873840223994006),\n",
              " (0, -2.369031859310518),\n",
              " (0, -1.0577737941831111),\n",
              " (1, 0.8252313330530584),\n",
              " (0, -1.6280405891857084),\n",
              " (0, -2.4224837403320247),\n",
              " (0, -1.8959031112138511),\n",
              " (0, -1.654481139390115),\n",
              " (0, -0.8885747969707529),\n",
              " (0, -2.244501009599728),\n",
              " (0, -1.377547702569436),\n",
              " (0, -1.1930861117007838),\n",
              " (0, -1.2118259860367644),\n",
              " (1, 1.2085758663619695),\n",
              " (0, -2.603134579156503),\n",
              " (0, -1.7721847597330167),\n",
              " (0, -2.109562979953074)]"
            ]
          },
          "metadata": {},
          "execution_count": 40
        }
      ]
    },
    {
      "cell_type": "markdown",
      "metadata": {
        "id": "kyXvBflcbj1t"
      },
      "source": [
        "### Precision-recall curves"
      ]
    },
    {
      "cell_type": "code",
      "execution_count": null,
      "metadata": {
        "colab": {
          "base_uri": "https://localhost:8080/",
          "height": 1000
        },
        "id": "4ASK9oYkbj1t",
        "outputId": "e8025c77-1997-49d8-b8bc-3e0f65fe2390"
      },
      "outputs": [
        {
          "output_type": "stream",
          "name": "stdout",
          "text": [
            "[0.1  0.1  0.1  0.1  0.1  0.1  0.1  0.1  0.1  0.1  0.1  0.1  0.1  0.1\n",
            " 0.1  0.1  0.1  0.1  0.1  0.1  0.1  0.1  0.1  0.1  0.1  0.1  0.1  0.1\n",
            " 0.1  0.1  0.1  0.1  0.1  0.1  0.1  0.1  0.1  0.1  0.1  0.1  0.1  0.11\n",
            " 0.11 0.11 0.11 0.11 0.11 0.11 0.11 0.11 0.11 0.11 0.11 0.11 0.11 0.11\n",
            " 0.11 0.11 0.11 0.11 0.11 0.11 0.11 0.11 0.11 0.11 0.11 0.11 0.11 0.11\n",
            " 0.11 0.11 0.11 0.11 0.11 0.11 0.11 0.12 0.12 0.12 0.12 0.12 0.12 0.12\n",
            " 0.12 0.12 0.12 0.12 0.12 0.12 0.12 0.12 0.12 0.12 0.12 0.12 0.12 0.12\n",
            " 0.12 0.12 0.12 0.12 0.12 0.12 0.12 0.12 0.12 0.13 0.13 0.13 0.13 0.13\n",
            " 0.13 0.13 0.13 0.13 0.13 0.13 0.13 0.13 0.13 0.13 0.13 0.13 0.13 0.13\n",
            " 0.13 0.13 0.13 0.13 0.13 0.13 0.14 0.14 0.14 0.14 0.14 0.14 0.14 0.14\n",
            " 0.14 0.14 0.14 0.14 0.14 0.14 0.14 0.14 0.14 0.14 0.14 0.14 0.14 0.14\n",
            " 0.15 0.15 0.15 0.15 0.15 0.15 0.15 0.15 0.15 0.15 0.15 0.15 0.15 0.15\n",
            " 0.15 0.15 0.15 0.15 0.15 0.16 0.16 0.16 0.16 0.16 0.16 0.16 0.16 0.16\n",
            " 0.16 0.16 0.16 0.16 0.16 0.16 0.16 0.16 0.17 0.17 0.17 0.17 0.17 0.17\n",
            " 0.17 0.17 0.17 0.17 0.17 0.17 0.17 0.17 0.17 0.18 0.18 0.18 0.18 0.18\n",
            " 0.18 0.18 0.18 0.18 0.18 0.18 0.18 0.18 0.19 0.19 0.19 0.19 0.19 0.19\n",
            " 0.19 0.19 0.19 0.19 0.19 0.19 0.2  0.2  0.2  0.2  0.2  0.2  0.2  0.2\n",
            " 0.2  0.2  0.2  0.21 0.21 0.21 0.21 0.21 0.21 0.21 0.21 0.21 0.21 0.22\n",
            " 0.22 0.22 0.22 0.22 0.22 0.22 0.22 0.23 0.23 0.23 0.23 0.23 0.23 0.23\n",
            " 0.23 0.23 0.24 0.24 0.24 0.24 0.24 0.24 0.24 0.25 0.25 0.25 0.25 0.25\n",
            " 0.25 0.25 0.26 0.26 0.26 0.26 0.26 0.26 0.27 0.27 0.27 0.27 0.27 0.27\n",
            " 0.28 0.28 0.28 0.28 0.28 0.28 0.29 0.29 0.29 0.29 0.29 0.3  0.3  0.3\n",
            " 0.3  0.3  0.31 0.31 0.31 0.31 0.32 0.32 0.32 0.32 0.33 0.33 0.33 0.33\n",
            " 0.34 0.34 0.34 0.34 0.35 0.35 0.35 0.36 0.36 0.36 0.36 0.37 0.37 0.37\n",
            " 0.38 0.38 0.38 0.39 0.39 0.39 0.4  0.4  0.41 0.41 0.41 0.42 0.42 0.43\n",
            " 0.43 0.43 0.44 0.44 0.45 0.45 0.46 0.46 0.47 0.47 0.48 0.48 0.49 0.49\n",
            " 0.5  0.51 0.51 0.52 0.52 0.53 0.54 0.54 0.55 0.56 0.57 0.57 0.58 0.59\n",
            " 0.6  0.61 0.61 0.62 0.63 0.64 0.65 0.66 0.67 0.67 0.68 0.69 0.7  0.71\n",
            " 0.72 0.74 0.75 0.75 0.76 0.77 0.79 0.78 0.8  0.8  0.81 0.81 0.83 0.84\n",
            " 0.84 0.86 0.88 0.9  0.9  0.9  0.89 0.92 0.92 0.91 0.91 0.91 0.91 0.9\n",
            " 0.93 0.93 0.93 0.93 0.92 0.92 0.92 0.91 0.91 0.9  0.9  0.89 0.89 0.94\n",
            " 0.94 1.   1.   1.   1.   1.   1.   1.   1.   1.   1.   1.   1.   1.\n",
            " 1.   1.   1.  ]\n",
            "[1.   1.   1.   1.   1.   1.   1.   1.   1.   1.   1.   1.   1.   1.\n",
            " 1.   1.   1.   1.   1.   1.   1.   1.   1.   1.   1.   1.   1.   1.\n",
            " 1.   1.   1.   1.   1.   1.   1.   1.   1.   1.   1.   1.   1.   1.\n",
            " 1.   1.   1.   1.   1.   1.   1.   1.   1.   1.   1.   1.   1.   1.\n",
            " 1.   1.   1.   1.   1.   1.   1.   1.   1.   1.   1.   1.   1.   1.\n",
            " 1.   1.   1.   1.   1.   1.   1.   1.   1.   1.   1.   1.   1.   1.\n",
            " 1.   1.   1.   1.   1.   1.   1.   1.   1.   1.   1.   1.   1.   1.\n",
            " 1.   1.   1.   1.   1.   1.   1.   1.   1.   1.   1.   1.   1.   1.\n",
            " 1.   1.   1.   1.   1.   1.   1.   1.   1.   1.   1.   1.   1.   1.\n",
            " 1.   1.   1.   1.   1.   1.   1.   1.   1.   1.   1.   1.   1.   1.\n",
            " 1.   1.   1.   1.   1.   1.   1.   1.   1.   1.   1.   1.   1.   1.\n",
            " 1.   1.   1.   1.   1.   1.   1.   1.   1.   1.   1.   1.   1.   1.\n",
            " 1.   1.   1.   1.   1.   1.   1.   1.   1.   1.   1.   1.   1.   1.\n",
            " 1.   1.   1.   1.   1.   1.   1.   1.   1.   1.   1.   1.   1.   1.\n",
            " 1.   1.   1.   1.   1.   1.   1.   1.   1.   1.   1.   1.   1.   1.\n",
            " 1.   1.   1.   1.   1.   1.   1.   1.   1.   1.   1.   1.   1.   1.\n",
            " 1.   1.   1.   1.   1.   1.   1.   1.   1.   1.   1.   1.   1.   1.\n",
            " 1.   1.   1.   1.   1.   1.   1.   1.   1.   1.   1.   1.   1.   1.\n",
            " 1.   1.   1.   1.   1.   1.   1.   1.   1.   1.   1.   1.   1.   1.\n",
            " 1.   1.   1.   1.   1.   1.   1.   1.   1.   1.   1.   1.   1.   1.\n",
            " 1.   1.   1.   1.   1.   1.   1.   1.   1.   1.   1.   1.   1.   1.\n",
            " 1.   1.   1.   1.   1.   1.   1.   1.   1.   1.   1.   1.   1.   1.\n",
            " 1.   1.   1.   1.   1.   1.   1.   1.   1.   1.   1.   1.   1.   1.\n",
            " 1.   1.   1.   1.   1.   1.   1.   1.   1.   1.   1.   1.   1.   1.\n",
            " 1.   1.   1.   1.   1.   1.   1.   1.   1.   1.   1.   1.   1.   1.\n",
            " 1.   1.   1.   1.   1.   1.   1.   1.   1.   1.   1.   1.   1.   1.\n",
            " 1.   1.   1.   1.   1.   1.   1.   1.   1.   1.   1.   1.   1.   1.\n",
            " 1.   1.   1.   1.   1.   1.   1.   1.   1.   0.98 0.98 0.98 0.98 0.98\n",
            " 0.98 0.98 0.98 0.95 0.95 0.95 0.95 0.93 0.93 0.91 0.91 0.88 0.88 0.88\n",
            " 0.86 0.86 0.86 0.86 0.84 0.81 0.79 0.79 0.77 0.74 0.72 0.7  0.67 0.65\n",
            " 0.65 0.63 0.6  0.58 0.56 0.53 0.51 0.49 0.47 0.44 0.42 0.4  0.37 0.37\n",
            " 0.35 0.35 0.33 0.3  0.28 0.26 0.23 0.21 0.19 0.16 0.14 0.12 0.09 0.07\n",
            " 0.05 0.02 0.  ]\n",
            "[-67.19 -60.78 -56.72 -56.54 -55.29 -54.86 -54.38 -53.94 -53.74 -53.55\n",
            " -53.5  -53.17 -52.8  -52.57 -52.23 -52.14 -51.98 -51.96 -51.93 -49.67\n",
            " -49.62 -49.08 -48.94 -48.59 -48.14 -47.76 -47.02 -47.   -46.45 -46.38\n",
            " -45.91 -45.63 -45.55 -45.47 -45.35 -44.88 -44.59 -44.55 -44.48 -44.44\n",
            " -44.42 -44.42 -44.28 -44.19 -43.92 -43.9  -43.53 -43.38 -43.34 -43.29\n",
            " -43.19 -43.16 -43.06 -43.   -42.86 -42.72 -42.5  -42.33 -42.32 -42.28\n",
            " -42.17 -41.99 -41.81 -41.56 -41.53 -41.38 -41.23 -41.09 -40.59 -40.55\n",
            " -40.54 -40.49 -40.37 -40.32 -40.32 -40.26 -40.02 -39.88 -39.76 -39.69\n",
            " -39.5  -39.45 -39.4  -39.32 -39.29 -39.12 -38.96 -38.91 -38.78 -38.63\n",
            " -38.3  -38.27 -38.21 -38.14 -38.13 -38.03 -37.97 -37.78 -37.51 -37.46\n",
            " -37.35 -37.35 -37.34 -37.27 -36.98 -36.8  -36.8  -36.61 -36.55 -36.5\n",
            " -36.37 -36.1  -35.91 -35.9  -35.73 -35.71 -35.49 -35.48 -35.47 -35.45\n",
            " -35.2  -35.02 -34.82 -34.8  -34.73 -34.62 -34.57 -34.56 -34.52 -34.41\n",
            " -34.2  -34.01 -33.97 -33.95 -33.93 -33.89 -33.89 -33.85 -33.83 -33.7\n",
            " -33.69 -33.67 -33.64 -33.63 -33.61 -33.48 -33.43 -33.26 -33.23 -33.14\n",
            " -33.13 -32.91 -32.77 -32.74 -32.71 -32.7  -32.36 -32.32 -32.3  -32.16\n",
            " -32.04 -31.92 -31.85 -31.79 -31.77 -31.67 -31.61 -31.52 -31.49 -31.12\n",
            " -30.98 -30.9  -30.89 -30.81 -30.77 -30.74 -30.63 -30.59 -30.41 -30.33\n",
            " -30.27 -30.22 -30.19 -30.16 -30.15 -30.14 -30.12 -30.05 -30.02 -30.01\n",
            " -29.77 -29.76 -29.74 -29.68 -29.63 -29.53 -29.36 -29.34 -29.34 -29.31\n",
            " -29.3  -29.27 -29.07 -28.97 -28.94 -28.85 -28.84 -28.77 -28.77 -28.75\n",
            " -28.68 -28.44 -28.4  -28.36 -28.31 -28.28 -28.24 -28.23 -28.18 -28.06\n",
            " -28.02 -28.   -27.94 -27.92 -27.91 -27.6  -27.6  -27.44 -27.38 -27.35\n",
            " -27.12 -27.1  -27.04 -26.79 -26.75 -26.74 -26.54 -26.5  -26.48 -26.4\n",
            " -26.32 -26.27 -26.27 -26.26 -26.09 -26.02 -25.77 -25.65 -25.52 -25.43\n",
            " -25.28 -25.04 -25.03 -24.99 -24.98 -24.93 -24.88 -24.8  -24.77 -24.75\n",
            " -24.66 -24.65 -24.6  -24.58 -24.55 -24.3  -24.3  -24.29 -24.24 -24.21\n",
            " -24.02 -23.94 -23.71 -23.48 -23.45 -23.33 -23.21 -23.2  -22.91 -22.78\n",
            " -22.75 -22.58 -22.13 -21.92 -21.91 -21.89 -21.87 -21.77 -21.67 -21.62\n",
            " -21.48 -21.4  -21.25 -21.16 -21.16 -21.11 -21.07 -20.99 -20.93 -20.91\n",
            " -20.69 -20.39 -20.39 -20.38 -20.17 -20.09 -20.02 -20.   -19.88 -19.81\n",
            " -19.64 -19.51 -19.46 -19.45 -19.41 -19.39 -19.34 -19.32 -19.28 -19.15\n",
            " -19.   -19.   -19.   -18.86 -18.68 -18.46 -18.35 -18.27 -18.   -18.\n",
            " -17.97 -17.96 -17.88 -17.85 -17.8  -17.48 -17.45 -17.23 -17.11 -17.03\n",
            " -17.03 -17.02 -17.   -16.48 -16.44 -16.27 -15.92 -15.76 -15.52 -15.47\n",
            " -15.43 -15.32 -15.3  -15.17 -15.08 -14.93 -14.71 -14.52 -14.4  -14.19\n",
            " -14.16 -13.72 -13.71 -13.71 -12.91 -12.84 -12.78 -12.63 -12.42 -12.33\n",
            " -12.21 -12.08 -11.55 -11.54 -11.38 -11.21 -10.85 -10.74 -10.61  -9.75\n",
            "  -8.96  -8.67  -8.55  -8.25  -8.14  -7.68  -7.51  -6.76  -6.74  -6.67\n",
            "  -6.29  -6.08  -6.07  -6.05  -5.38  -5.01  -4.35  -4.14  -3.84  -3.68\n",
            "  -3.09  -2.81  -2.14  -1.77  -1.44  -1.05  -0.99  -0.8   -0.39  -0.14\n",
            "   0.83   1.6    1.98   2.2    2.79   3.25   3.57   5.4    5.61   5.75\n",
            "   5.91   6.     6.02   6.54   6.56   6.57   6.99   7.31   7.62   7.79\n",
            "   7.79   8.1    8.11   8.22   8.22   8.32   9.02   9.83  10.68  11.04\n",
            "  11.04  12.43  13.59  14.12  14.18  14.47  14.77  19.08  19.35  24.58]\n"
          ]
        },
        {
          "output_type": "display_data",
          "data": {
            "text/plain": [
              "<Figure size 640x480 with 1 Axes>"
            ],
            "image/png": "[encoded data removed]"
          },
          "metadata": {}
        }
      ],
      "source": [
        "from sklearn.metrics import precision_recall_curve\n",
        "\n",
        "precision, recall, thresholds = precision_recall_curve(y_test, y_scores_lr)\n",
        "\n",
        "print(precision)\n",
        "print(recall)\n",
        "print(thresholds)\n",
        "\n",
        "closest_zero = np.argmin(np.abs(thresholds))\n",
        "closest_zero_p = precision[closest_zero]\n",
        "closest_zero_r = recall[closest_zero]\n",
        "\n",
        "plt.figure()\n",
        "plt.xlim([0.0, 1.01])\n",
        "plt.ylim([0.0, 1.01])\n",
        "plt.plot(precision, recall, label='Precision-Recall Curve')\n",
        "plt.plot(closest_zero_p, closest_zero_r, 'o', markersize = 12, fillstyle = 'none', c='r', mew=3)\n",
        "plt.xlabel('Precision', fontsize=16)\n",
        "plt.ylabel('Recall', fontsize=16)\n",
        "plt.show()"
      ]
    },
    {
      "cell_type": "code",
      "source": [
        "precision, recall, thresholds = precision_recall_curve(y_test, y_scores_svm_rbf)\n",
        "\n",
        "print(precision)\n",
        "print(recall)\n",
        "print(thresholds)\n",
        "\n",
        "\n",
        "closest_zero = np.argmin(np.abs(thresholds))\n",
        "closest_zero_p = precision[closest_zero]\n",
        "closest_zero_r = recall[closest_zero]\n",
        "\n",
        "plt.figure()\n",
        "plt.xlim([0.0, 1.01])\n",
        "plt.ylim([0.0, 1.01])\n",
        "plt.plot(precision, recall, label='Precision-Recall Curve')\n",
        "plt.plot(closest_zero_p, closest_zero_r, 'o', markersize = 12, fillstyle = 'none', c='r', mew=3)\n",
        "plt.xlabel('Precision', fontsize=16)\n",
        "plt.ylabel('Recall', fontsize=16)\n",
        "plt.show()"
      ],
      "metadata": {
        "colab": {
          "base_uri": "https://localhost:8080/",
          "height": 1000
        },
        "id": "a-TIKgJ4Mj-g",
        "outputId": "6a2eff70-6f10-4076-ec15-903b6e9041c6"
      },
      "execution_count": null,
      "outputs": [
        {
          "output_type": "stream",
          "name": "stdout",
          "text": [
            "[0.1  0.1  0.1  0.1  0.1  0.1  0.1  0.1  0.1  0.1  0.1  0.1  0.1  0.1\n",
            " 0.1  0.1  0.1  0.1  0.1  0.1  0.1  0.1  0.1  0.1  0.1  0.1  0.1  0.1\n",
            " 0.1  0.1  0.1  0.1  0.1  0.1  0.1  0.1  0.1  0.1  0.1  0.1  0.1  0.11\n",
            " 0.11 0.11 0.11 0.11 0.11 0.11 0.11 0.11 0.11 0.11 0.11 0.11 0.11 0.11\n",
            " 0.11 0.11 0.11 0.11 0.11 0.11 0.11 0.11 0.11 0.11 0.11 0.11 0.11 0.11\n",
            " 0.11 0.11 0.11 0.11 0.11 0.11 0.11 0.12 0.12 0.12 0.12 0.12 0.12 0.12\n",
            " 0.12 0.12 0.12 0.12 0.12 0.12 0.12 0.12 0.12 0.12 0.12 0.12 0.12 0.12\n",
            " 0.12 0.12 0.12 0.12 0.12 0.12 0.12 0.12 0.12 0.13 0.13 0.13 0.13 0.13\n",
            " 0.13 0.13 0.13 0.13 0.13 0.13 0.13 0.13 0.13 0.13 0.13 0.13 0.13 0.13\n",
            " 0.13 0.13 0.13 0.13 0.13 0.13 0.14 0.14 0.14 0.14 0.14 0.14 0.14 0.14\n",
            " 0.14 0.14 0.14 0.14 0.14 0.14 0.14 0.14 0.14 0.14 0.14 0.14 0.14 0.14\n",
            " 0.15 0.15 0.15 0.15 0.15 0.15 0.15 0.15 0.15 0.15 0.15 0.15 0.15 0.15\n",
            " 0.15 0.15 0.15 0.15 0.15 0.16 0.16 0.16 0.16 0.16 0.16 0.16 0.16 0.16\n",
            " 0.16 0.16 0.16 0.16 0.16 0.16 0.16 0.16 0.17 0.17 0.17 0.17 0.17 0.17\n",
            " 0.17 0.17 0.17 0.17 0.17 0.17 0.17 0.17 0.17 0.18 0.18 0.18 0.18 0.18\n",
            " 0.18 0.18 0.18 0.18 0.18 0.18 0.18 0.18 0.19 0.19 0.19 0.19 0.19 0.19\n",
            " 0.19 0.19 0.19 0.19 0.19 0.19 0.2  0.2  0.2  0.2  0.2  0.2  0.2  0.2\n",
            " 0.2  0.2  0.2  0.21 0.21 0.21 0.21 0.21 0.21 0.21 0.21 0.21 0.21 0.22\n",
            " 0.22 0.22 0.22 0.22 0.22 0.22 0.22 0.23 0.23 0.23 0.23 0.23 0.23 0.23\n",
            " 0.23 0.23 0.24 0.24 0.24 0.24 0.24 0.24 0.24 0.25 0.25 0.25 0.25 0.25\n",
            " 0.25 0.25 0.26 0.26 0.26 0.26 0.26 0.26 0.27 0.27 0.27 0.27 0.27 0.27\n",
            " 0.28 0.28 0.28 0.28 0.28 0.28 0.29 0.29 0.29 0.29 0.29 0.3  0.3  0.3\n",
            " 0.3  0.3  0.31 0.31 0.31 0.31 0.32 0.32 0.32 0.32 0.33 0.33 0.33 0.33\n",
            " 0.34 0.34 0.34 0.34 0.35 0.35 0.35 0.36 0.36 0.36 0.36 0.37 0.37 0.37\n",
            " 0.38 0.38 0.38 0.39 0.39 0.39 0.4  0.4  0.41 0.41 0.41 0.42 0.42 0.43\n",
            " 0.43 0.43 0.44 0.44 0.45 0.45 0.46 0.46 0.47 0.47 0.48 0.48 0.49 0.49\n",
            " 0.5  0.51 0.51 0.52 0.52 0.53 0.54 0.54 0.55 0.56 0.57 0.57 0.58 0.59\n",
            " 0.6  0.61 0.61 0.62 0.63 0.64 0.65 0.66 0.67 0.68 0.69 0.7  0.72 0.73\n",
            " 0.74 0.75 0.77 0.78 0.8  0.79 0.81 0.82 0.84 0.86 0.88 0.89 0.91 0.93\n",
            " 0.95 0.98 1.   1.   1.   1.   1.   1.   1.   1.   1.   1.   1.   1.\n",
            " 1.   1.   1.   1.   1.   1.   1.   1.   1.   1.   1.   1.   1.   1.\n",
            " 1.   1.   1.   1.   1.   1.   1.   1.   1.   1.   1.   1.   1.   1.\n",
            " 1.   1.   1.  ]\n",
            "[1.   1.   1.   1.   1.   1.   1.   1.   1.   1.   1.   1.   1.   1.\n",
            " 1.   1.   1.   1.   1.   1.   1.   1.   1.   1.   1.   1.   1.   1.\n",
            " 1.   1.   1.   1.   1.   1.   1.   1.   1.   1.   1.   1.   1.   1.\n",
            " 1.   1.   1.   1.   1.   1.   1.   1.   1.   1.   1.   1.   1.   1.\n",
            " 1.   1.   1.   1.   1.   1.   1.   1.   1.   1.   1.   1.   1.   1.\n",
            " 1.   1.   1.   1.   1.   1.   1.   1.   1.   1.   1.   1.   1.   1.\n",
            " 1.   1.   1.   1.   1.   1.   1.   1.   1.   1.   1.   1.   1.   1.\n",
            " 1.   1.   1.   1.   1.   1.   1.   1.   1.   1.   1.   1.   1.   1.\n",
            " 1.   1.   1.   1.   1.   1.   1.   1.   1.   1.   1.   1.   1.   1.\n",
            " 1.   1.   1.   1.   1.   1.   1.   1.   1.   1.   1.   1.   1.   1.\n",
            " 1.   1.   1.   1.   1.   1.   1.   1.   1.   1.   1.   1.   1.   1.\n",
            " 1.   1.   1.   1.   1.   1.   1.   1.   1.   1.   1.   1.   1.   1.\n",
            " 1.   1.   1.   1.   1.   1.   1.   1.   1.   1.   1.   1.   1.   1.\n",
            " 1.   1.   1.   1.   1.   1.   1.   1.   1.   1.   1.   1.   1.   1.\n",
            " 1.   1.   1.   1.   1.   1.   1.   1.   1.   1.   1.   1.   1.   1.\n",
            " 1.   1.   1.   1.   1.   1.   1.   1.   1.   1.   1.   1.   1.   1.\n",
            " 1.   1.   1.   1.   1.   1.   1.   1.   1.   1.   1.   1.   1.   1.\n",
            " 1.   1.   1.   1.   1.   1.   1.   1.   1.   1.   1.   1.   1.   1.\n",
            " 1.   1.   1.   1.   1.   1.   1.   1.   1.   1.   1.   1.   1.   1.\n",
            " 1.   1.   1.   1.   1.   1.   1.   1.   1.   1.   1.   1.   1.   1.\n",
            " 1.   1.   1.   1.   1.   1.   1.   1.   1.   1.   1.   1.   1.   1.\n",
            " 1.   1.   1.   1.   1.   1.   1.   1.   1.   1.   1.   1.   1.   1.\n",
            " 1.   1.   1.   1.   1.   1.   1.   1.   1.   1.   1.   1.   1.   1.\n",
            " 1.   1.   1.   1.   1.   1.   1.   1.   1.   1.   1.   1.   1.   1.\n",
            " 1.   1.   1.   1.   1.   1.   1.   1.   1.   1.   1.   1.   1.   1.\n",
            " 1.   1.   1.   1.   1.   1.   1.   1.   1.   1.   1.   1.   1.   1.\n",
            " 1.   1.   1.   1.   1.   1.   1.   1.   1.   1.   1.   1.   1.   1.\n",
            " 1.   1.   1.   1.   1.   1.   1.   1.   1.   1.   1.   1.   1.   1.\n",
            " 1.   1.   1.   1.   1.   0.98 0.98 0.98 0.98 0.98 0.98 0.98 0.98 0.98\n",
            " 0.98 0.98 0.98 0.95 0.93 0.91 0.88 0.86 0.84 0.81 0.79 0.77 0.74 0.72\n",
            " 0.7  0.67 0.65 0.63 0.6  0.58 0.56 0.53 0.51 0.49 0.47 0.44 0.42 0.4\n",
            " 0.37 0.35 0.33 0.3  0.28 0.26 0.23 0.21 0.19 0.16 0.14 0.12 0.09 0.07\n",
            " 0.05 0.02 0.  ]\n",
            "[-2.89 -2.88 -2.88 -2.87 -2.82 -2.77 -2.74 -2.73 -2.72 -2.7  -2.69 -2.68\n",
            " -2.66 -2.66 -2.65 -2.65 -2.63 -2.63 -2.63 -2.63 -2.61 -2.61 -2.61 -2.6\n",
            " -2.6  -2.6  -2.59 -2.58 -2.55 -2.55 -2.54 -2.53 -2.53 -2.51 -2.49 -2.47\n",
            " -2.47 -2.46 -2.45 -2.44 -2.44 -2.43 -2.43 -2.42 -2.42 -2.42 -2.42 -2.4\n",
            " -2.4  -2.4  -2.4  -2.38 -2.37 -2.37 -2.37 -2.36 -2.35 -2.34 -2.34 -2.34\n",
            " -2.33 -2.32 -2.32 -2.32 -2.31 -2.3  -2.3  -2.3  -2.3  -2.3  -2.29 -2.29\n",
            " -2.28 -2.27 -2.27 -2.26 -2.26 -2.26 -2.25 -2.25 -2.25 -2.25 -2.25 -2.25\n",
            " -2.25 -2.25 -2.24 -2.24 -2.24 -2.23 -2.23 -2.23 -2.22 -2.21 -2.21 -2.21\n",
            " -2.2  -2.19 -2.18 -2.18 -2.18 -2.17 -2.16 -2.16 -2.16 -2.15 -2.15 -2.15\n",
            " -2.14 -2.14 -2.13 -2.12 -2.12 -2.12 -2.11 -2.11 -2.1  -2.09 -2.09 -2.09\n",
            " -2.08 -2.08 -2.08 -2.08 -2.07 -2.07 -2.07 -2.07 -2.06 -2.06 -2.05 -2.05\n",
            " -2.05 -2.05 -2.05 -2.04 -2.04 -2.04 -2.04 -2.04 -2.04 -2.03 -2.03 -2.03\n",
            " -2.03 -2.02 -2.02 -2.02 -2.02 -2.02 -2.02 -2.02 -2.02 -2.02 -2.01 -2.01\n",
            " -2.01 -2.01 -2.01 -2.01 -2.   -2.   -2.   -1.99 -1.99 -1.98 -1.97 -1.97\n",
            " -1.97 -1.97 -1.97 -1.97 -1.96 -1.96 -1.96 -1.95 -1.95 -1.95 -1.94 -1.93\n",
            " -1.93 -1.92 -1.92 -1.92 -1.91 -1.91 -1.91 -1.91 -1.9  -1.9  -1.9  -1.9\n",
            " -1.9  -1.89 -1.89 -1.89 -1.88 -1.88 -1.88 -1.88 -1.87 -1.87 -1.87 -1.87\n",
            " -1.87 -1.86 -1.86 -1.85 -1.85 -1.85 -1.85 -1.83 -1.83 -1.83 -1.82 -1.82\n",
            " -1.81 -1.81 -1.81 -1.8  -1.8  -1.8  -1.8  -1.8  -1.8  -1.8  -1.79 -1.79\n",
            " -1.79 -1.79 -1.79 -1.78 -1.78 -1.78 -1.77 -1.77 -1.77 -1.77 -1.77 -1.76\n",
            " -1.76 -1.76 -1.75 -1.75 -1.75 -1.75 -1.74 -1.74 -1.74 -1.73 -1.73 -1.73\n",
            " -1.73 -1.72 -1.72 -1.71 -1.71 -1.71 -1.71 -1.71 -1.7  -1.7  -1.68 -1.68\n",
            " -1.68 -1.68 -1.67 -1.67 -1.67 -1.66 -1.66 -1.65 -1.65 -1.65 -1.65 -1.65\n",
            " -1.64 -1.63 -1.63 -1.63 -1.62 -1.62 -1.62 -1.62 -1.61 -1.61 -1.6  -1.6\n",
            " -1.6  -1.6  -1.59 -1.59 -1.59 -1.58 -1.58 -1.57 -1.57 -1.57 -1.57 -1.57\n",
            " -1.57 -1.56 -1.56 -1.56 -1.56 -1.55 -1.55 -1.54 -1.53 -1.53 -1.53 -1.53\n",
            " -1.53 -1.52 -1.51 -1.51 -1.5  -1.5  -1.49 -1.49 -1.49 -1.49 -1.48 -1.48\n",
            " -1.46 -1.44 -1.44 -1.44 -1.44 -1.44 -1.41 -1.41 -1.4  -1.39 -1.38 -1.38\n",
            " -1.37 -1.37 -1.37 -1.37 -1.37 -1.35 -1.35 -1.34 -1.33 -1.32 -1.32 -1.31\n",
            " -1.29 -1.28 -1.27 -1.27 -1.27 -1.27 -1.27 -1.25 -1.24 -1.24 -1.23 -1.23\n",
            " -1.21 -1.21 -1.19 -1.16 -1.15 -1.13 -1.13 -1.12 -1.12 -1.11 -1.11 -1.11\n",
            " -1.1  -1.1  -1.06 -1.04 -1.03 -1.03 -1.02 -1.02 -1.02 -1.   -0.99 -0.91\n",
            " -0.91 -0.9  -0.9  -0.89 -0.86 -0.8  -0.79 -0.78 -0.76 -0.73 -0.72 -0.67\n",
            " -0.65 -0.61 -0.59 -0.56 -0.55 -0.53 -0.49 -0.42 -0.36 -0.34 -0.32 -0.09\n",
            " -0.08  0.12  0.31  0.31  0.6   0.65  0.67  0.71  0.76  0.79  0.8   0.81\n",
            "  0.83  0.85  0.86  0.89  0.91  0.92  0.93  0.93  0.96  1.    1.01  1.01\n",
            "  1.05  1.12  1.12  1.13  1.17  1.18  1.21  1.23  1.25  1.26  1.27  1.3\n",
            "  1.33  1.4   1.42  1.47  1.49  1.52]\n"
          ]
        },
        {
          "output_type": "display_data",
          "data": {
            "text/plain": [
              "<Figure size 640x480 with 1 Axes>"
            ],
            "image/png": "[encoded data removed]"
          },
          "metadata": {}
        }
      ]
    },
    {
      "cell_type": "markdown",
      "metadata": {
        "id": "uFQg9Ybfbj1t"
      },
      "source": [
        "### ROC curves, Area-Under-Curve (AUC)"
      ]
    },
    {
      "cell_type": "code",
      "execution_count": null,
      "metadata": {
        "colab": {
          "base_uri": "https://localhost:8080/",
          "height": 604
        },
        "id": "vjO-A0TVbj1t",
        "outputId": "fd742a7d-1139-4952-f51f-4a174e378c82"
      },
      "outputs": [
        {
          "output_type": "stream",
          "name": "stdout",
          "text": [
            "[0.   0.   0.   0.   0.   0.   0.   0.01 0.01 0.01 0.01 0.02 0.02 0.02\n",
            " 0.02 0.02 0.02 0.03 0.03 0.03 0.03 0.05 0.05 1.  ]\n",
            "[0.   0.02 0.35 0.35 0.37 0.37 0.65 0.65 0.79 0.79 0.86 0.86 0.88 0.88\n",
            " 0.91 0.91 0.93 0.93 0.95 0.95 0.98 0.98 1.   1.  ]\n",
            "[ 25.58  24.58   8.32   8.22   8.22   8.11   5.91   5.75   2.2    1.98\n",
            "  -0.14  -0.99  -1.05  -1.77  -2.14  -2.81  -3.09  -3.68  -3.84  -5.01\n",
            "  -5.38  -6.76  -7.51 -67.19]\n"
          ]
        },
        {
          "output_type": "display_data",
          "data": {
            "text/plain": [
              "<Figure size 640x480 with 1 Axes>"
            ],
            "image/png": "[encoded data removed]"
          },
          "metadata": {}
        }
      ],
      "source": [
        "from sklearn.metrics import roc_curve, auc\n",
        "\n",
        "X_train, X_test, y_train, y_test = train_test_split(X, y_binary_imbalanced, random_state=0)\n",
        "\n",
        "\n",
        "y_score_lr = lr.fit(X_train, y_train).decision_function(X_test)\n",
        "fpr_lr, tpr_lr, threshold_lr = roc_curve(y_test, y_score_lr)\n",
        "\n",
        "print(fpr_lr)\n",
        "print(tpr_lr)\n",
        "print(threshold_lr)\n",
        "\n",
        "roc_auc_lr = auc(fpr_lr, tpr_lr)\n",
        "\n",
        "plt.figure()\n",
        "plt.xlim([-0.01, 1.00])\n",
        "plt.ylim([-0.01, 1.01])\n",
        "plt.plot(fpr_lr, tpr_lr, lw=3, label='LogRegr ROC curve (area = {:0.2f})'.format(roc_auc_lr))\n",
        "plt.xlabel('False Positive Rate', fontsize=16)\n",
        "plt.ylabel('True Positive Rate', fontsize=16)\n",
        "plt.title('ROC curve (1-of-10 digits classifier)', fontsize=16)\n",
        "plt.legend(loc='lower right', fontsize=13)\n",
        "plt.plot([0, 1], [0, 1], color='navy', lw=3, linestyle='--')\n",
        "plt.show()"
      ]
    },
    {
      "cell_type": "code",
      "execution_count": null,
      "metadata": {
        "scrolled": false,
        "colab": {
          "base_uri": "https://localhost:8080/",
          "height": 551
        },
        "id": "GQwV4uWVbj1t",
        "outputId": "ba4c5e3c-1e58-4d86-e7b0-cad0e730ed23"
      },
      "outputs": [
        {
          "output_type": "stream",
          "name": "stdout",
          "text": [
            "gamma = 0.01  accuracy = 0.91   AUC = 1.00\n",
            "gamma = 0.10  accuracy = 0.90   AUC = 0.98\n",
            "gamma = 0.20  accuracy = 0.90   AUC = 0.66\n",
            "gamma = 1.00  accuracy = 0.90   AUC = 0.50\n"
          ]
        },
        {
          "output_type": "display_data",
          "data": {
            "text/plain": [
              "<Figure size 640x480 with 1 Axes>"
            ],
            "image/png": "[encoded data removed]"
          },
          "metadata": {}
        }
      ],
      "source": [
        "from matplotlib import cm\n",
        "\n",
        "X_train, X_test, y_train, y_test = train_test_split(X, y_binary_imbalanced, random_state=0)\n",
        "\n",
        "plt.figure()\n",
        "plt.xlim([-0.01, 1.00])\n",
        "plt.ylim([-0.01, 1.01])\n",
        "for g in [0.01, 0.1, 0.20, 1]:\n",
        "    svm = SVC(gamma=g).fit(X_train, y_train)\n",
        "    y_score_svm = svm.decision_function(X_test)\n",
        "    fpr_svm, tpr_svm, _ = roc_curve(y_test, y_score_svm)\n",
        "    roc_auc_svm = auc(fpr_svm, tpr_svm)\n",
        "    accuracy_svm = svm.score(X_test, y_test)\n",
        "    print(\"gamma = {:.2f}  accuracy = {:.2f}   AUC = {:.2f}\".format(g, accuracy_svm,\n",
        "                                                                    roc_auc_svm))\n",
        "    plt.plot(fpr_svm, tpr_svm, lw=3, alpha=0.7,\n",
        "             label='SVM (gamma = {:0.2f}, area = {:0.2f})'.format(g, roc_auc_svm))\n",
        "\n",
        "plt.xlabel('False Positive Rate', fontsize=16)\n",
        "plt.ylabel('True Positive Rate (Recall)', fontsize=16)\n",
        "plt.plot([0, 1], [0, 1], color='k', lw=0.5, linestyle='--')\n",
        "plt.legend(loc=\"lower right\", fontsize=11)\n",
        "plt.title('ROC curve: (1-of-10 digits classifier)', fontsize=16)\n",
        "\n",
        "plt.show()"
      ]
    },
    {
      "cell_type": "markdown",
      "metadata": {
        "id": "er80JYj3bj1t"
      },
      "source": [
        "### Evaluation measures for multi-class classification"
      ]
    },
    {
      "cell_type": "markdown",
      "metadata": {
        "id": "4HY21ua_bj1t"
      },
      "source": [
        "#### Multi-class confusion matrix"
      ]
    },
    {
      "cell_type": "code",
      "execution_count": null,
      "metadata": {
        "scrolled": false,
        "colab": {
          "base_uri": "https://localhost:8080/"
        },
        "id": "TnRkkMUWbj1t",
        "outputId": "18ef146b-ffab-4f8f-8244-5ef0bfac25b8"
      },
      "outputs": [
        {
          "output_type": "stream",
          "name": "stdout",
          "text": [
            "[[37  0  0  0  0  0  0  0  0  0]\n",
            " [ 0 42  0  0  0  0  0  0  1  0]\n",
            " [ 0  0 44  0  0  0  0  0  0  0]\n",
            " [ 0  0  0 43  0  0  0  0  1  1]\n",
            " [ 0  0  0  0 38  0  0  0  0  0]\n",
            " [ 0  0  0  0  0 47  0  0  0  1]\n",
            " [ 0  1  0  0  0  0 51  0  0  0]\n",
            " [ 0  0  0  0  1  0  0 47  0  0]\n",
            " [ 0  3  1  0  0  0  0  0 44  0]\n",
            " [ 0  0  0  1  0  1  0  0  1 44]]\n",
            "[[37  0  0  0  0  0  0  0  0  0]\n",
            " [ 0 43  0  0  0  0  0  0  0  0]\n",
            " [ 0  0 44  0  0  0  0  0  0  0]\n",
            " [ 0  0  0 44  0  0  0  0  1  0]\n",
            " [ 0  0  0  0 38  0  0  0  0  0]\n",
            " [ 0  0  0  0  0 47  0  0  0  1]\n",
            " [ 0  0  0  0  0  0 52  0  0  0]\n",
            " [ 0  0  0  0  0  0  0 48  0  0]\n",
            " [ 0  1  0  0  0  0  0  0 47  0]\n",
            " [ 0  0  0  0  0  1  0  0  0 46]]\n"
          ]
        }
      ],
      "source": [
        "import seaborn as sns\n",
        "\n",
        "dataset = load_digits()\n",
        "X, y = dataset.data, dataset.target\n",
        "X_train_mc, X_test_mc, y_train_mc, y_test_mc = train_test_split(X, y, random_state=0)\n",
        "\n",
        "\n",
        "svm = SVC(kernel = 'linear').fit(X_train_mc, y_train_mc)\n",
        "svm_predicted_mc = svm.predict(X_test_mc)\n",
        "confusion_mc = confusion_matrix(y_test_mc, svm_predicted_mc)\n",
        "\n",
        "print(confusion_mc)\n",
        "\n",
        "svm = SVC(kernel = 'rbf').fit(X_train_mc, y_train_mc)\n",
        "svm_predicted_mc = svm.predict(X_test_mc)\n",
        "confusion_mc = confusion_matrix(y_test_mc, svm_predicted_mc)\n",
        "\n",
        "print(confusion_mc)"
      ]
    },
    {
      "cell_type": "markdown",
      "metadata": {
        "id": "Qb7SD2Slbj1u"
      },
      "source": [
        "#### Multi-class classification report"
      ]
    },
    {
      "cell_type": "code",
      "execution_count": null,
      "metadata": {
        "colab": {
          "base_uri": "https://localhost:8080/"
        },
        "id": "GU8WAX7Wbj1u",
        "outputId": "cc7ae1e7-7583-4910-e7c5-3bace802ceb4"
      },
      "outputs": [
        {
          "output_type": "stream",
          "name": "stdout",
          "text": [
            "              precision    recall  f1-score   support\n",
            "\n",
            "           0       1.00      1.00      1.00        37\n",
            "           1       0.98      1.00      0.99        43\n",
            "           2       1.00      1.00      1.00        44\n",
            "           3       1.00      0.98      0.99        45\n",
            "           4       1.00      1.00      1.00        38\n",
            "           5       0.98      0.98      0.98        48\n",
            "           6       1.00      1.00      1.00        52\n",
            "           7       1.00      1.00      1.00        48\n",
            "           8       0.98      0.98      0.98        48\n",
            "           9       0.98      0.98      0.98        47\n",
            "\n",
            "    accuracy                           0.99       450\n",
            "   macro avg       0.99      0.99      0.99       450\n",
            "weighted avg       0.99      0.99      0.99       450\n",
            "\n"
          ]
        }
      ],
      "source": [
        "print(classification_report(y_test_mc, svm_predicted_mc))"
      ]
    },
    {
      "cell_type": "markdown",
      "metadata": {
        "id": "ztBWMMdYbj1u"
      },
      "source": [
        "#### Micro- vs. macro-averaged metrics"
      ]
    },
    {
      "cell_type": "code",
      "execution_count": null,
      "metadata": {
        "colab": {
          "base_uri": "https://localhost:8080/"
        },
        "id": "hrMgvkFtbj1u",
        "outputId": "ec53e4d4-b9a7-4ae8-d5a2-545c94390d42"
      },
      "outputs": [
        {
          "output_type": "stream",
          "name": "stdout",
          "text": [
            "Micro-averaged precision = 0.99 (treat instances equally)\n",
            "Macro-averaged precision = 0.99 (treat classes equally)\n"
          ]
        }
      ],
      "source": [
        "print('Micro-averaged precision = {:.2f} (treat instances equally)'\n",
        "      .format(precision_score(y_test_mc, svm_predicted_mc, average = 'micro')))\n",
        "print('Macro-averaged precision = {:.2f} (treat classes equally)'\n",
        "      .format(precision_score(y_test_mc, svm_predicted_mc, average = 'macro')))"
      ]
    },
    {
      "cell_type": "code",
      "execution_count": null,
      "metadata": {
        "colab": {
          "base_uri": "https://localhost:8080/"
        },
        "id": "I72aa77tbj1u",
        "outputId": "96b0148e-8305-45cf-cb64-ecbe57267971"
      },
      "outputs": [
        {
          "output_type": "stream",
          "name": "stdout",
          "text": [
            "Micro-averaged f1 = 0.99 (treat instances equally)\n",
            "Macro-averaged f1 = 0.99 (treat classes equally)\n"
          ]
        }
      ],
      "source": [
        "print('Micro-averaged f1 = {:.2f} (treat instances equally)'\n",
        "      .format(f1_score(y_test_mc, svm_predicted_mc, average = 'micro')))\n",
        "print('Macro-averaged f1 = {:.2f} (treat classes equally)'\n",
        "      .format(f1_score(y_test_mc, svm_predicted_mc, average = 'macro')))"
      ]
    }
  ],
  "metadata": {
    "anaconda-cloud": {},
    "kernelspec": {
      "display_name": "Python 3",
      "language": "python",
      "name": "python3"
    },
    "language_info": {
      "codemirror_mode": {
        "name": "ipython",
        "version": 3
      },
      "file_extension": ".py",
      "mimetype": "text/x-python",
      "name": "python",
      "nbconvert_exporter": "python",
      "pygments_lexer": "ipython3",
      "version": "3.6.2"
    },
    "colab": {
      "provenance": []
    }
  },
  "nbformat": 4,
  "nbformat_minor": 0
}